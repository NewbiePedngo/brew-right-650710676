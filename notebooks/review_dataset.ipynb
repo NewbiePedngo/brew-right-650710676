{
  "cells": [
    {
      "cell_type": "markdown",
      "source": [
        "Assignment วิเคราะห์รีวิว 1000 รีวิว"
      ],
      "metadata": {
        "id": "DW3GmdjAvtJa"
      }
    },
    {
      "cell_type": "code",
      "execution_count": 74,
      "metadata": {
        "colab": {
          "base_uri": "https://localhost:8080/"
        },
        "id": "Yivc4f5jkpGZ",
        "outputId": "18105cd9-ab33-48a0-d69e-47d29168c757"
      },
      "outputs": [
        {
          "output_type": "stream",
          "name": "stdout",
          "text": [
            "Requirement already satisfied: langchain-ollama in /usr/local/lib/python3.12/dist-packages (1.0.0)\n",
            "Requirement already satisfied: langchain-openai in /usr/local/lib/python3.12/dist-packages (1.0.0)\n",
            "Requirement already satisfied: langchain-core<2.0.0,>=1.0.0 in /usr/local/lib/python3.12/dist-packages (from langchain-ollama) (1.0.0)\n",
            "Requirement already satisfied: ollama<1.0.0,>=0.6.0 in /usr/local/lib/python3.12/dist-packages (from langchain-ollama) (0.6.0)\n",
            "Requirement already satisfied: openai<3.0.0,>=1.109.1 in /usr/local/lib/python3.12/dist-packages (from langchain-openai) (1.109.1)\n",
            "Requirement already satisfied: tiktoken<1.0.0,>=0.7.0 in /usr/local/lib/python3.12/dist-packages (from langchain-openai) (0.12.0)\n",
            "Requirement already satisfied: jsonpatch<2.0.0,>=1.33.0 in /usr/local/lib/python3.12/dist-packages (from langchain-core<2.0.0,>=1.0.0->langchain-ollama) (1.33)\n",
            "Requirement already satisfied: langsmith<1.0.0,>=0.3.45 in /usr/local/lib/python3.12/dist-packages (from langchain-core<2.0.0,>=1.0.0->langchain-ollama) (0.4.35)\n",
            "Requirement already satisfied: packaging<26.0.0,>=23.2.0 in /usr/local/lib/python3.12/dist-packages (from langchain-core<2.0.0,>=1.0.0->langchain-ollama) (25.0)\n",
            "Requirement already satisfied: pydantic<3.0.0,>=2.7.4 in /usr/local/lib/python3.12/dist-packages (from langchain-core<2.0.0,>=1.0.0->langchain-ollama) (2.11.10)\n",
            "Requirement already satisfied: pyyaml<7.0.0,>=5.3.0 in /usr/local/lib/python3.12/dist-packages (from langchain-core<2.0.0,>=1.0.0->langchain-ollama) (6.0.3)\n",
            "Requirement already satisfied: tenacity!=8.4.0,<10.0.0,>=8.1.0 in /usr/local/lib/python3.12/dist-packages (from langchain-core<2.0.0,>=1.0.0->langchain-ollama) (8.5.0)\n",
            "Requirement already satisfied: typing-extensions<5.0.0,>=4.7.0 in /usr/local/lib/python3.12/dist-packages (from langchain-core<2.0.0,>=1.0.0->langchain-ollama) (4.15.0)\n",
            "Requirement already satisfied: httpx>=0.27 in /usr/local/lib/python3.12/dist-packages (from ollama<1.0.0,>=0.6.0->langchain-ollama) (0.28.1)\n",
            "Requirement already satisfied: anyio<5,>=3.5.0 in /usr/local/lib/python3.12/dist-packages (from openai<3.0.0,>=1.109.1->langchain-openai) (4.11.0)\n",
            "Requirement already satisfied: distro<2,>=1.7.0 in /usr/local/lib/python3.12/dist-packages (from openai<3.0.0,>=1.109.1->langchain-openai) (1.9.0)\n",
            "Requirement already satisfied: jiter<1,>=0.4.0 in /usr/local/lib/python3.12/dist-packages (from openai<3.0.0,>=1.109.1->langchain-openai) (0.11.0)\n",
            "Requirement already satisfied: sniffio in /usr/local/lib/python3.12/dist-packages (from openai<3.0.0,>=1.109.1->langchain-openai) (1.3.1)\n",
            "Requirement already satisfied: tqdm>4 in /usr/local/lib/python3.12/dist-packages (from openai<3.0.0,>=1.109.1->langchain-openai) (4.67.1)\n",
            "Requirement already satisfied: regex>=2022.1.18 in /usr/local/lib/python3.12/dist-packages (from tiktoken<1.0.0,>=0.7.0->langchain-openai) (2024.11.6)\n",
            "Requirement already satisfied: requests>=2.26.0 in /usr/local/lib/python3.12/dist-packages (from tiktoken<1.0.0,>=0.7.0->langchain-openai) (2.32.4)\n",
            "Requirement already satisfied: idna>=2.8 in /usr/local/lib/python3.12/dist-packages (from anyio<5,>=3.5.0->openai<3.0.0,>=1.109.1->langchain-openai) (3.11)\n",
            "Requirement already satisfied: certifi in /usr/local/lib/python3.12/dist-packages (from httpx>=0.27->ollama<1.0.0,>=0.6.0->langchain-ollama) (2025.10.5)\n",
            "Requirement already satisfied: httpcore==1.* in /usr/local/lib/python3.12/dist-packages (from httpx>=0.27->ollama<1.0.0,>=0.6.0->langchain-ollama) (1.0.9)\n",
            "Requirement already satisfied: h11>=0.16 in /usr/local/lib/python3.12/dist-packages (from httpcore==1.*->httpx>=0.27->ollama<1.0.0,>=0.6.0->langchain-ollama) (0.16.0)\n",
            "Requirement already satisfied: jsonpointer>=1.9 in /usr/local/lib/python3.12/dist-packages (from jsonpatch<2.0.0,>=1.33.0->langchain-core<2.0.0,>=1.0.0->langchain-ollama) (3.0.0)\n",
            "Requirement already satisfied: orjson>=3.9.14 in /usr/local/lib/python3.12/dist-packages (from langsmith<1.0.0,>=0.3.45->langchain-core<2.0.0,>=1.0.0->langchain-ollama) (3.11.3)\n",
            "Requirement already satisfied: requests-toolbelt>=1.0.0 in /usr/local/lib/python3.12/dist-packages (from langsmith<1.0.0,>=0.3.45->langchain-core<2.0.0,>=1.0.0->langchain-ollama) (1.0.0)\n",
            "Requirement already satisfied: zstandard>=0.23.0 in /usr/local/lib/python3.12/dist-packages (from langsmith<1.0.0,>=0.3.45->langchain-core<2.0.0,>=1.0.0->langchain-ollama) (0.25.0)\n",
            "Requirement already satisfied: annotated-types>=0.6.0 in /usr/local/lib/python3.12/dist-packages (from pydantic<3.0.0,>=2.7.4->langchain-core<2.0.0,>=1.0.0->langchain-ollama) (0.7.0)\n",
            "Requirement already satisfied: pydantic-core==2.33.2 in /usr/local/lib/python3.12/dist-packages (from pydantic<3.0.0,>=2.7.4->langchain-core<2.0.0,>=1.0.0->langchain-ollama) (2.33.2)\n",
            "Requirement already satisfied: typing-inspection>=0.4.0 in /usr/local/lib/python3.12/dist-packages (from pydantic<3.0.0,>=2.7.4->langchain-core<2.0.0,>=1.0.0->langchain-ollama) (0.4.2)\n",
            "Requirement already satisfied: charset_normalizer<4,>=2 in /usr/local/lib/python3.12/dist-packages (from requests>=2.26.0->tiktoken<1.0.0,>=0.7.0->langchain-openai) (3.4.4)\n",
            "Requirement already satisfied: urllib3<3,>=1.21.1 in /usr/local/lib/python3.12/dist-packages (from requests>=2.26.0->tiktoken<1.0.0,>=0.7.0->langchain-openai) (2.5.0)\n"
          ]
        }
      ],
      "source": [
        "!pip install -U langchain-ollama langchain-openai"
      ]
    },
    {
      "cell_type": "code",
      "execution_count": 75,
      "metadata": {
        "colab": {
          "base_uri": "https://localhost:8080/"
        },
        "id": "iauEPWKiwqVx",
        "outputId": "7d1c81eb-278c-4ca1-e426-5a8b155efab1"
      },
      "outputs": [
        {
          "output_type": "stream",
          "name": "stdout",
          "text": [
            "Drive already mounted at /content/drive; to attempt to forcibly remount, call drive.mount(\"/content/drive\", force_remount=True).\n"
          ]
        }
      ],
      "source": [
        "from google.colab import drive\n",
        "drive.mount('/content/drive')"
      ]
    },
    {
      "cell_type": "code",
      "execution_count": 76,
      "metadata": {
        "colab": {
          "base_uri": "https://localhost:8080/"
        },
        "id": "bZLfP_R9wx8_",
        "outputId": "2385a95e-100f-4620-c3fd-fe7db4fbb4dd"
      },
      "outputs": [
        {
          "output_type": "stream",
          "name": "stdout",
          "text": [
            "w_review_train.csv  w_review_train.parquet\n"
          ]
        }
      ],
      "source": [
        "!ls /content/drive/MyDrive/review_dataset"
      ]
    },
    {
      "cell_type": "code",
      "execution_count": 77,
      "metadata": {
        "id": "GlxjCqHKw7xY"
      },
      "outputs": [],
      "source": [
        "import duckdb\n",
        "\n",
        "con = duckdb.connect(database=':memory:', read_only=False)"
      ]
    },
    {
      "cell_type": "code",
      "execution_count": 78,
      "metadata": {
        "colab": {
          "base_uri": "https://localhost:8080/",
          "height": 206
        },
        "id": "Gn_cHCbKw-qs",
        "outputId": "4c349f7e-4d48-4bc5-ff75-f0f772f8dc19"
      },
      "outputs": [
        {
          "output_type": "execute_result",
          "data": {
            "text/plain": [
              "                                             column0  column1\n",
              "0  ร้านอาหารใหญ่มากกกกกกก \\nเลี้ยวเข้ามาเจอห้องน้...        3\n",
              "1  อาหารที่นี่เป็นอาหารจีนแคะที่หากินยากในบ้านเรา...        4\n",
              "2  ปอเปี๊ยะสด ทุกวันนี้รู้สึกว่าหากินยาก (ร้านที่...        3\n",
              "3  รัานคัพเค้กในเมืองไทยมีไม่มาก หลายๆคนอาจจะสงสั...        5\n",
              "4  อร่อย!!! เดินผ่านDigital gatewayทุกวัน ไม่ยักร...        5"
            ],
            "text/html": [
              "\n",
              "  <div id=\"df-1e5d06ab-6f28-4a18-a856-4398163491ad\" class=\"colab-df-container\">\n",
              "    <div>\n",
              "<style scoped>\n",
              "    .dataframe tbody tr th:only-of-type {\n",
              "        vertical-align: middle;\n",
              "    }\n",
              "\n",
              "    .dataframe tbody tr th {\n",
              "        vertical-align: top;\n",
              "    }\n",
              "\n",
              "    .dataframe thead th {\n",
              "        text-align: right;\n",
              "    }\n",
              "</style>\n",
              "<table border=\"1\" class=\"dataframe\">\n",
              "  <thead>\n",
              "    <tr style=\"text-align: right;\">\n",
              "      <th></th>\n",
              "      <th>column0</th>\n",
              "      <th>column1</th>\n",
              "    </tr>\n",
              "  </thead>\n",
              "  <tbody>\n",
              "    <tr>\n",
              "      <th>0</th>\n",
              "      <td>ร้านอาหารใหญ่มากกกกกกก \\nเลี้ยวเข้ามาเจอห้องน้...</td>\n",
              "      <td>3</td>\n",
              "    </tr>\n",
              "    <tr>\n",
              "      <th>1</th>\n",
              "      <td>อาหารที่นี่เป็นอาหารจีนแคะที่หากินยากในบ้านเรา...</td>\n",
              "      <td>4</td>\n",
              "    </tr>\n",
              "    <tr>\n",
              "      <th>2</th>\n",
              "      <td>ปอเปี๊ยะสด ทุกวันนี้รู้สึกว่าหากินยาก (ร้านที่...</td>\n",
              "      <td>3</td>\n",
              "    </tr>\n",
              "    <tr>\n",
              "      <th>3</th>\n",
              "      <td>รัานคัพเค้กในเมืองไทยมีไม่มาก หลายๆคนอาจจะสงสั...</td>\n",
              "      <td>5</td>\n",
              "    </tr>\n",
              "    <tr>\n",
              "      <th>4</th>\n",
              "      <td>อร่อย!!! เดินผ่านDigital gatewayทุกวัน ไม่ยักร...</td>\n",
              "      <td>5</td>\n",
              "    </tr>\n",
              "  </tbody>\n",
              "</table>\n",
              "</div>\n",
              "    <div class=\"colab-df-buttons\">\n",
              "\n",
              "  <div class=\"colab-df-container\">\n",
              "    <button class=\"colab-df-convert\" onclick=\"convertToInteractive('df-1e5d06ab-6f28-4a18-a856-4398163491ad')\"\n",
              "            title=\"Convert this dataframe to an interactive table.\"\n",
              "            style=\"display:none;\">\n",
              "\n",
              "  <svg xmlns=\"http://www.w3.org/2000/svg\" height=\"24px\" viewBox=\"0 -960 960 960\">\n",
              "    <path d=\"M120-120v-720h720v720H120Zm60-500h600v-160H180v160Zm220 220h160v-160H400v160Zm0 220h160v-160H400v160ZM180-400h160v-160H180v160Zm440 0h160v-160H620v160ZM180-180h160v-160H180v160Zm440 0h160v-160H620v160Z\"/>\n",
              "  </svg>\n",
              "    </button>\n",
              "\n",
              "  <style>\n",
              "    .colab-df-container {\n",
              "      display:flex;\n",
              "      gap: 12px;\n",
              "    }\n",
              "\n",
              "    .colab-df-convert {\n",
              "      background-color: #E8F0FE;\n",
              "      border: none;\n",
              "      border-radius: 50%;\n",
              "      cursor: pointer;\n",
              "      display: none;\n",
              "      fill: #1967D2;\n",
              "      height: 32px;\n",
              "      padding: 0 0 0 0;\n",
              "      width: 32px;\n",
              "    }\n",
              "\n",
              "    .colab-df-convert:hover {\n",
              "      background-color: #E2EBFA;\n",
              "      box-shadow: 0px 1px 2px rgba(60, 64, 67, 0.3), 0px 1px 3px 1px rgba(60, 64, 67, 0.15);\n",
              "      fill: #174EA6;\n",
              "    }\n",
              "\n",
              "    .colab-df-buttons div {\n",
              "      margin-bottom: 4px;\n",
              "    }\n",
              "\n",
              "    [theme=dark] .colab-df-convert {\n",
              "      background-color: #3B4455;\n",
              "      fill: #D2E3FC;\n",
              "    }\n",
              "\n",
              "    [theme=dark] .colab-df-convert:hover {\n",
              "      background-color: #434B5C;\n",
              "      box-shadow: 0px 1px 3px 1px rgba(0, 0, 0, 0.15);\n",
              "      filter: drop-shadow(0px 1px 2px rgba(0, 0, 0, 0.3));\n",
              "      fill: #FFFFFF;\n",
              "    }\n",
              "  </style>\n",
              "\n",
              "    <script>\n",
              "      const buttonEl =\n",
              "        document.querySelector('#df-1e5d06ab-6f28-4a18-a856-4398163491ad button.colab-df-convert');\n",
              "      buttonEl.style.display =\n",
              "        google.colab.kernel.accessAllowed ? 'block' : 'none';\n",
              "\n",
              "      async function convertToInteractive(key) {\n",
              "        const element = document.querySelector('#df-1e5d06ab-6f28-4a18-a856-4398163491ad');\n",
              "        const dataTable =\n",
              "          await google.colab.kernel.invokeFunction('convertToInteractive',\n",
              "                                                    [key], {});\n",
              "        if (!dataTable) return;\n",
              "\n",
              "        const docLinkHtml = 'Like what you see? Visit the ' +\n",
              "          '<a target=\"_blank\" href=https://colab.research.google.com/notebooks/data_table.ipynb>data table notebook</a>'\n",
              "          + ' to learn more about interactive tables.';\n",
              "        element.innerHTML = '';\n",
              "        dataTable['output_type'] = 'display_data';\n",
              "        await google.colab.output.renderOutput(dataTable, element);\n",
              "        const docLink = document.createElement('div');\n",
              "        docLink.innerHTML = docLinkHtml;\n",
              "        element.appendChild(docLink);\n",
              "      }\n",
              "    </script>\n",
              "  </div>\n",
              "\n",
              "\n",
              "    <div id=\"df-0bfa4a23-9c07-49f0-8bec-1f544b1404a2\">\n",
              "      <button class=\"colab-df-quickchart\" onclick=\"quickchart('df-0bfa4a23-9c07-49f0-8bec-1f544b1404a2')\"\n",
              "                title=\"Suggest charts\"\n",
              "                style=\"display:none;\">\n",
              "\n",
              "<svg xmlns=\"http://www.w3.org/2000/svg\" height=\"24px\"viewBox=\"0 0 24 24\"\n",
              "     width=\"24px\">\n",
              "    <g>\n",
              "        <path d=\"M19 3H5c-1.1 0-2 .9-2 2v14c0 1.1.9 2 2 2h14c1.1 0 2-.9 2-2V5c0-1.1-.9-2-2-2zM9 17H7v-7h2v7zm4 0h-2V7h2v10zm4 0h-2v-4h2v4z\"/>\n",
              "    </g>\n",
              "</svg>\n",
              "      </button>\n",
              "\n",
              "<style>\n",
              "  .colab-df-quickchart {\n",
              "      --bg-color: #E8F0FE;\n",
              "      --fill-color: #1967D2;\n",
              "      --hover-bg-color: #E2EBFA;\n",
              "      --hover-fill-color: #174EA6;\n",
              "      --disabled-fill-color: #AAA;\n",
              "      --disabled-bg-color: #DDD;\n",
              "  }\n",
              "\n",
              "  [theme=dark] .colab-df-quickchart {\n",
              "      --bg-color: #3B4455;\n",
              "      --fill-color: #D2E3FC;\n",
              "      --hover-bg-color: #434B5C;\n",
              "      --hover-fill-color: #FFFFFF;\n",
              "      --disabled-bg-color: #3B4455;\n",
              "      --disabled-fill-color: #666;\n",
              "  }\n",
              "\n",
              "  .colab-df-quickchart {\n",
              "    background-color: var(--bg-color);\n",
              "    border: none;\n",
              "    border-radius: 50%;\n",
              "    cursor: pointer;\n",
              "    display: none;\n",
              "    fill: var(--fill-color);\n",
              "    height: 32px;\n",
              "    padding: 0;\n",
              "    width: 32px;\n",
              "  }\n",
              "\n",
              "  .colab-df-quickchart:hover {\n",
              "    background-color: var(--hover-bg-color);\n",
              "    box-shadow: 0 1px 2px rgba(60, 64, 67, 0.3), 0 1px 3px 1px rgba(60, 64, 67, 0.15);\n",
              "    fill: var(--button-hover-fill-color);\n",
              "  }\n",
              "\n",
              "  .colab-df-quickchart-complete:disabled,\n",
              "  .colab-df-quickchart-complete:disabled:hover {\n",
              "    background-color: var(--disabled-bg-color);\n",
              "    fill: var(--disabled-fill-color);\n",
              "    box-shadow: none;\n",
              "  }\n",
              "\n",
              "  .colab-df-spinner {\n",
              "    border: 2px solid var(--fill-color);\n",
              "    border-color: transparent;\n",
              "    border-bottom-color: var(--fill-color);\n",
              "    animation:\n",
              "      spin 1s steps(1) infinite;\n",
              "  }\n",
              "\n",
              "  @keyframes spin {\n",
              "    0% {\n",
              "      border-color: transparent;\n",
              "      border-bottom-color: var(--fill-color);\n",
              "      border-left-color: var(--fill-color);\n",
              "    }\n",
              "    20% {\n",
              "      border-color: transparent;\n",
              "      border-left-color: var(--fill-color);\n",
              "      border-top-color: var(--fill-color);\n",
              "    }\n",
              "    30% {\n",
              "      border-color: transparent;\n",
              "      border-left-color: var(--fill-color);\n",
              "      border-top-color: var(--fill-color);\n",
              "      border-right-color: var(--fill-color);\n",
              "    }\n",
              "    40% {\n",
              "      border-color: transparent;\n",
              "      border-right-color: var(--fill-color);\n",
              "      border-top-color: var(--fill-color);\n",
              "    }\n",
              "    60% {\n",
              "      border-color: transparent;\n",
              "      border-right-color: var(--fill-color);\n",
              "    }\n",
              "    80% {\n",
              "      border-color: transparent;\n",
              "      border-right-color: var(--fill-color);\n",
              "      border-bottom-color: var(--fill-color);\n",
              "    }\n",
              "    90% {\n",
              "      border-color: transparent;\n",
              "      border-bottom-color: var(--fill-color);\n",
              "    }\n",
              "  }\n",
              "</style>\n",
              "\n",
              "      <script>\n",
              "        async function quickchart(key) {\n",
              "          const quickchartButtonEl =\n",
              "            document.querySelector('#' + key + ' button');\n",
              "          quickchartButtonEl.disabled = true;  // To prevent multiple clicks.\n",
              "          quickchartButtonEl.classList.add('colab-df-spinner');\n",
              "          try {\n",
              "            const charts = await google.colab.kernel.invokeFunction(\n",
              "                'suggestCharts', [key], {});\n",
              "          } catch (error) {\n",
              "            console.error('Error during call to suggestCharts:', error);\n",
              "          }\n",
              "          quickchartButtonEl.classList.remove('colab-df-spinner');\n",
              "          quickchartButtonEl.classList.add('colab-df-quickchart-complete');\n",
              "        }\n",
              "        (() => {\n",
              "          let quickchartButtonEl =\n",
              "            document.querySelector('#df-0bfa4a23-9c07-49f0-8bec-1f544b1404a2 button');\n",
              "          quickchartButtonEl.style.display =\n",
              "            google.colab.kernel.accessAllowed ? 'block' : 'none';\n",
              "        })();\n",
              "      </script>\n",
              "    </div>\n",
              "\n",
              "    </div>\n",
              "  </div>\n"
            ],
            "application/vnd.google.colaboratory.intrinsic+json": {
              "type": "dataframe",
              "variable_name": "df",
              "summary": "{\n  \"name\": \"df\",\n  \"rows\": 40000,\n  \"fields\": [\n    {\n      \"column\": \"column0\",\n      \"properties\": {\n        \"dtype\": \"string\",\n        \"num_unique_values\": 39993,\n        \"samples\": [\n          \"\\u0e40\\u0e04\\u0e22\\u0e21\\u0e32\\u0e23\\u0e49\\u0e32\\u0e19\\u0e19\\u0e35\\u0e492\\u0e04\\u0e23\\u0e31\\u0e49\\u0e07\\u0e41\\u0e23\\u0e30 \\u0e23\\u0e49\\u0e32\\u0e19\\u0e2d\\u0e22\\u0e39\\u0e48\\u0e1b\\u0e32\\u0e01\\u0e17\\u0e32\\u0e07\\u0e25\\u0e32\\u0e14\\u0e1e\\u0e23\\u0e49\\u0e32\\u0e27 \\u0e16\\u0e19\\u0e19\\u0e27\\u0e34\\u0e20\\u0e32\\u0e27\\u0e14\\u0e35\\u0e23\\u0e31\\u0e07\\u0e2a\\u0e34\\u0e15 \\u0e15\\u0e34\\u0e14\\u0e43\\u0e08\\u0e23\\u0e2a\\u0e0a\\u0e32\\u0e15\\u0e34\\u0e2d\\u0e32\\u0e2b\\u0e32\\u0e23\\u0e1a\\u0e23\\u0e23\\u0e22\\u0e32\\u0e01\\u0e32\\u0e28\\u0e22\\u0e49\\u0e2d\\u0e19\\u0e22\\u0e38\\u0e04 60s \\u0e23\\u0e49\\u0e32\\u0e19\\u0e08\\u0e30\\u0e40\\u0e15\\u0e47\\u0e21\\u0e44\\u0e1b\\u0e14\\u0e49\\u0e27\\u0e22\\u0e41\\u0e1c\\u0e48\\u0e19\\u0e40\\u0e2a\\u0e35\\u0e22\\u0e07\\u0e41\\u0e1b\\u0e30\\u0e46\\u0e23\\u0e2d\\u0e1a\\u0e23\\u0e49\\u0e32\\u0e19\\u0e41\\u0e25\\u0e30\\u0e40\\u0e04\\u0e23\\u0e37\\u0e48\\u0e2d\\u0e07\\u0e40\\u0e2a\\u0e35\\u0e22\\u0e07 \\u0e02\\u0e2d\\u0e07\\u0e40\\u0e01\\u0e48\\u0e32 \\u0e23\\u0e49\\u0e32\\u0e19\\u0e21\\u0e35\\u0e42\\u0e15\\u0e4a\\u0e30\\u0e17\\u0e35\\u0e48\\u0e0a\\u0e31\\u0e49\\u0e19\\u0e25\\u0e2d\\u0e22\\u0e14\\u0e49\\u0e27\\u0e22 \\u0e04\\u0e19\\u0e41\\u0e19\\u0e48\\u0e19\\u0e23\\u0e49\\u0e32\\u0e19\\u0e15\\u0e25\\u0e2d\\u0e14 \\u0e21\\u0e35\\u0e0a\\u0e32\\u0e27\\u0e15\\u0e48\\u0e32\\u0e07\\u0e0a\\u0e32\\u0e15\\u0e34\\u0e14\\u0e49\\u0e27\\u0e22\",\n          \"\\u0e2a\\u0e32\\u0e02\\u0e32\\u0e19\\u0e35\\u0e49\\u0e40\\u0e1b\\u0e47\\u0e19\\u0e41\\u0e1a\\u0e1a\\u0e19\\u0e35\\u0e49\\u0e17\\u0e38\\u0e01\\u0e17\\u0e35\\u0e44\\u0e21\\u0e48\\u0e40\\u0e02\\u0e49\\u0e32\\u0e43\\u0e08\\u0e40\\u0e25\\u0e22\\n\\u0e23\\u0e31\\u0e01\\u0e41\\u0e1a\\u0e23\\u0e19\\u0e14\\u0e4c\\u0e08\\u0e36\\u0e07\\u0e2d\\u0e14\\u0e15\\u0e33\\u0e2b\\u0e19\\u0e34\\u0e44\\u0e21\\u0e48\\u0e44\\u0e14\\u0e49\\n\\n\\u0e21\\u0e32\\u0e01\\u0e34\\u0e19 Zen \\u0e17\\u0e35\\u0e48\\u0e40\\u0e0b\\u0e47\\u0e19\\u0e17\\u0e23\\u0e31\\u0e25\\u0e25\\u0e32\\u0e14\\u0e1e\\u0e23\\u0e49\\u0e32\\u0e27\\u0e17\\u0e35\\u0e44\\u0e23\\u0e23\\u0e39\\u0e49\\u0e2a\\u0e36\\u0e01\\u0e02\\u0e2d\\u0e07\\u0e44\\u0e21\\u0e48\\u0e2a\\u0e14\\n\\u0e01\\u0e34\\u0e19\\u0e17\\u0e35\\u0e48\\u0e1f\\u0e34\\u0e27\\u0e40\\u0e08\\u0e2d\\u0e23\\u0e4c\\u0e23\\u0e31\\u0e07\\u0e2a\\u0e34\\u0e15\\u0e2a\\u0e14\\u0e01\\u0e27\\u0e48\\u0e32\\u0e21\\u0e32\\u0e01\\u0e46\\n\\n\\u0e2a\\u0e31\\u0e48\\u0e07\\u0e44\\u0e1b\\u0e2b\\u0e25\\u0e32\\u0e22\\u0e2d\\u0e22\\u0e48\\u0e32\\u0e07\\u0e04\\u0e48\\u0e30\\n\\u0e42\\u0e0b\\u0e30\\u0e1a\\u0e30\\u0e40\\u0e17\\u0e21\\u0e1b\\u0e38\\u0e23\\u0e30 \\u0e01\\u0e38\\u0e49\\u0e07\\u0e2a\\u0e2d\\u0e07\\u0e15\\u0e31\\u0e27 \\u0e19\\u0e49\\u0e33\\u0e0b\\u0e38\\u0e1b\\u0e23\\u0e49\\u0e2d\\u0e19 \\u0e2d\\u0e2d\\u0e01\\u0e2b\\u0e27\\u0e32\\u0e19 \\u0e01\\u0e34\\u0e19\\u0e44\\u0e14\\u0e49\\n\\u0e2b\\u0e21\\u0e36\\u0e01\\u0e22\\u0e33 \\u0e17\\u0e35\\u0e48\\u0e40\\u0e1b\\u0e47\\u0e19\\u0e40\\u0e04\\u0e23\\u0e37\\u0e48\\u0e2d\\u0e07\\u0e40\\u0e04\\u0e35\\u0e22\\u0e07 \\u0e2b\\u0e21\\u0e36\\u0e01\\u0e01\\u0e23\\u0e38\\u0e1a\\u0e46 \\u0e2d\\u0e2d\\u0e01\\u0e2b\\u0e27\\u0e32\\u0e19\\u0e19\\u0e34\\u0e14\\u0e46 \\u0e23\\u0e2a\\u0e0a\\u0e32\\u0e15\\u0e34\\u0e1e\\u0e2d\\u0e43\\u0e0a\\u0e49\\n\\u0e22\\u0e33\\u0e2a\\u0e32\\u0e2b\\u0e23\\u0e48\\u0e32\\u0e22 \\u0e21\\u0e32\\u0e15\\u0e23\\u0e10\\u0e32\\u0e19\\u0e17\\u0e31\\u0e48\\u0e27\\u0e44\\u0e1b\\n\\u0e41\\u0e0b\\u0e25\\u0e21\\u0e2d\\u0e19\\u0e22\\u0e33\\u0e44\\u0e17\\u0e22 \\u0e17\\u0e35\\u0e48\\u0e19\\u0e35\\u0e48\\u0e43\\u0e2b\\u0e49\\u0e2b\\u0e19\\u0e31\\u0e07\\u0e40\\u0e22\\u0e2d\\u0e30 \\u0e40\\u0e19\\u0e37\\u0e49\\u0e2d\\u0e1b\\u0e25\\u0e32\\u0e2b\\u0e31\\u0e32\\u0e19\\u0e40\\u0e15\\u0e4b\\u0e32\\u0e41\\u0e15\\u0e48\\u0e44\\u0e21\\u0e48\\u0e04\\u0e48\\u0e2d\\u0e22\\u0e2a\\u0e14 \\u0e15\\u0e34\\u0e14\\u0e2a\\u0e48\\u0e27\\u0e19\\u0e2b\\u0e19\\u0e31\\u0e07\\u0e21\\u0e32 \\u0e1b\\u0e23\\u0e34\\u0e21\\u0e32\\u0e13\\u0e1e\\u0e2d\\u0e2a\\u0e21\\u0e04\\u0e27\\u0e23 \\n\\u0e0b\\u0e32\\u0e0b\\u0e34\\u0e21\\u0e34\\u0e44\\u0e14\\u0e49\\u0e1f\\u0e23\\u0e35\\u0e08\\u0e32\\u0e01 gift voucher \\u0e40\\u0e1e\\u0e23\\u0e32\\u0e30\\u0e40\\u0e1b\\u0e47\\u0e19\\u0e2a\\u0e21\\u0e32\\u0e0a\\u0e34\\u0e01 \\u0e1b\\u0e25\\u0e32\\u0e0a\\u0e34\\u0e49\\u0e19\\u0e1a\\u0e32\\u0e07 \\u0e44\\u0e21\\u0e48\\u0e2a\\u0e14 \\u0e22\\u0e34\\u0e48\\u0e07\\u0e1b\\u0e25\\u0e32\\u0e2a\\u0e35\\u0e02\\u0e32\\u0e27\\u0e44\\u0e21\\u0e48\\u0e41\\u0e19\\u0e48\\u0e43\\u0e08\\u0e01\\u0e30\\u0e1e\\u0e07\\u0e2b\\u0e23\\u0e37\\u0e2d\\u0e2d\\u0e30\\u0e44\\u0e23 \\u0e44\\u0e21\\u0e48\\u0e2a\\u0e14\\u0e40\\u0e2d\\u0e32\\u0e21\\u0e32\\u0e01\\u0e46 \\u0e40\\u0e2d\\u0e47\\u0e19\\u0e40\\u0e22\\u0e2d\\u0e30 \\u0e40\\u0e2b\\u0e19\\u0e35\\u0e22\\u0e27\\u0e40\\u0e04\\u0e35\\u0e49\\u0e22\\u0e27\\u0e22\\u0e32\\u0e01 \\n\\u0e0a\\u0e38\\u0e14\\u0e02\\u0e49\\u0e32\\u0e27\\u0e1b\\u0e31\\u0e49\\u0e19 \\u0e44\\u0e21\\u0e48\\u0e2d\\u0e23\\u0e48\\u0e2d\\u0e22\\u0e2d\\u0e48\\u0e30 \\u0e1b\\u0e31\\u0e49\\u0e19\\u0e44\\u0e21\\u0e48\\u0e2d\\u0e23\\u0e48\\u0e2d\\u0e22 \\n\\u0e44\\u0e02\\u0e48\\u0e2b\\u0e27\\u0e32\\u0e19\\u0e2a\\u0e25\\u0e31\\u0e14\\u0e1b\\u0e39\\u0e2d\\u0e31\\u0e14\\u0e01\\u0e47\\u0e44\\u0e21\\u0e48\\u0e2d\\u0e23\\u0e48\\u0e2d\\u0e22 \\u0e44\\u0e02\\u0e48\\u0e2b\\u0e27\\u0e32\\u0e19\\u0e15\\u0e23\\u0e07\\u0e01\\u0e25\\u0e32\\u0e07\\u0e21\\u0e35\\u0e40\\u0e2a\\u0e35\\u0e22\\u0e27\\u0e40\\u0e02\\u0e35\\u0e22\\u0e27\\u0e04\\u0e25\\u0e49\\u0e33\\u0e46\\u0e19\\u0e34\\u0e14\\u0e46 \\u0e40\\u0e22\\u0e47\\u0e19\\u0e0a\\u0e37\\u0e14\\n\\n4\\u0e40\\u0e21\\u0e19\\u0e39\\u0e2b\\u0e25\\u0e31\\u0e07\\u0e44\\u0e21\\u0e48\\u0e42\\u0e2d\\u0e40\\u0e04\\u0e04\\u0e48\\u0e30 \\u0e17\\u0e35\\u0e48\\u0e1f\\u0e34\\u0e27\\u0e2d\\u0e23\\u0e48\\u0e2d\\u0e22\\u0e01\\u0e27\\u0e48\\u0e32\\u0e40\\u0e22\\u0e2d\\u0e30 \\u0e2a\\u0e23\\u0e38\\u0e1b\\u0e27\\u0e48\\u0e32\\u0e1e\\u0e19\\u0e31\\u0e01\\u0e07\\u0e32\\u0e19\\u0e1a\\u0e23\\u0e34\\u0e01\\u0e32\\u0e23\\u0e14\\u0e35 \\u0e2d\\u0e32\\u0e2b\\u0e32\\u0e23\\u0e44\\u0e21\\u0e48\\u0e2a\\u0e14\\u0e40\\u0e17\\u0e48\\u0e32\\u0e17\\u0e35\\u0e48\\u0e04\\u0e27\\u0e23 \\u0e44\\u0e21\\u0e48\\u0e1b\\u0e23\\u0e30\\u0e17\\u0e31\\u0e1a\\u0e43\\u0e08 \\u0e40\\u0e2a\\u0e35\\u0e22\\u0e2b\\u0e32\\u0e22\\u0e44\\u0e1b1,110 \\u0e1a\\u0e32\\u0e17\",\n          \"\\u0e23\\u0e49\\u0e32\\u0e19\\u0e19\\u0e34\\u0e27\\u0e40\\u0e04\\u0e25\\u0e35\\u0e22\\u0e23\\u0e4c\\u0e23\\u0e32\\u0e14\\u0e2b\\u0e19\\u0e49\\u0e32\\u0e22\\u0e2d\\u0e14\\u0e1c\\u0e31\\u0e01\\u0e41\\u0e25\\u0e30\\u0e2d\\u0e32\\u0e2b\\u0e32\\u0e23\\u0e15\\u0e32\\u0e21\\u0e2a\\u0e31\\u0e48\\u0e07 \\u0e40\\u0e1b\\u0e47\\u0e19\\u0e2d\\u0e35\\u0e01 1 \\u0e23\\u0e49\\u0e32\\u0e19\\u0e2d\\u0e32\\u0e2b\\u0e32\\u0e23\\u0e17\\u0e35\\u0e48\\u0e40\\u0e2d\\u0e23\\u0e47\\u0e14\\u0e2d\\u0e23\\u0e48\\u0e2d\\u0e22\\u0e21\\u0e32\\u0e01 \\u0e43\\u0e19\\u0e40\\u0e21\\u0e37\\u0e2d\\u0e07\\u0e1a\\u0e49\\u0e32\\u0e19\\u0e09\\u0e32\\u0e07\\u0e17\\u0e08\\u0e31\\u0e07\\u0e2b\\u0e27\\u0e31\\u0e14\\u0e23\\u0e30\\u0e22\\u0e2d\\u0e07 \\u0e23\\u0e49\\u0e32\\u0e19\\u0e19\\u0e35\\u0e49\\u0e15\\u0e31\\u0e49\\u0e07\\u0e2d\\u0e22\\u0e39\\u0e48\\u0e1a\\u0e19\\u0e16\\u0e19\\u0e19\\u0e43\\u0e2b\\u0e0d\\u0e48\\u0e40\\u0e25\\u0e22\\u0e08\\u0e2d\\u0e14\\u0e23\\u0e16\\u0e02\\u0e49\\u0e32\\u0e07\\u0e17\\u0e32\\u0e07 \\u0e2a\\u0e48\\u0e27\\u0e19\\u0e21\\u0e32\\u0e01\\u0e02\\u0e32\\u0e22\\u0e2d\\u0e32\\u0e2b\\u0e32\\u0e23\\u0e15\\u0e32\\u0e21\\u0e2a\\u0e31\\u0e48\\u0e07\\u0e15\\u0e48\\u0e32\\u0e07\\u0e46 \\u0e23\\u0e32\\u0e14\\u0e2b\\u0e19\\u0e49\\u0e32\\u0e2b\\u0e21\\u0e39\\u0e2b\\u0e21\\u0e31\\u0e01 \\u0e23\\u0e32\\u0e14\\u0e2b\\u0e19\\u0e49\\u0e32\\u0e17\\u0e30\\u0e40\\u0e25 \\u0e41\\u0e25\\u0e30\\u0e1e\\u0e27\\u0e01\\u0e1c\\u0e31\\u0e14\\u0e0b\\u0e35\\u0e2d\\u0e34\\u0e49\\u0e27\\u0e15\\u0e48\\u0e32\\u0e07\\u0e46 \\u0e40\\u0e04\\u0e22\\u0e21\\u0e32\\u0e17\\u0e32\\u0e19\\u0e23\\u0e32\\u0e14\\u0e2b\\u0e19\\u0e49\\u0e32\\u0e2b\\u0e21\\u0e39\\u0e2b\\u0e21\\u0e31\\u0e01\\u0e41\\u0e25\\u0e49\\u0e27 1 \\u0e23\\u0e2d\\u0e1a\\u0e2d\\u0e23\\u0e48\\u0e2d\\u0e22\\u0e14\\u0e35 \\u0e04\\u0e23\\u0e32\\u0e27\\u0e19\\u0e35\\u0e49\\u0e40\\u0e25\\u0e22\\u0e25\\u0e2d\\u0e07\\u0e40\\u0e1b\\u0e25\\u0e35\\u0e48\\u0e22\\u0e19\\u0e21\\u0e32\\u0e17\\u0e32\\u0e07\\u0e40\\u0e1b\\u0e47\\u0e19\\u0e23\\u0e32\\u0e14\\u0e2b\\u0e19\\u0e49\\u0e32\\u0e17\\u0e30\\u0e40\\u0e25\\u0e14\\u0e39\\u0e27\\u0e48\\u0e32\\u0e08\\u0e30\\u0e2d\\u0e23\\u0e48\\u0e2d\\u0e22\\u0e2b\\u0e23\\u0e37\\u0e2d\\u0e40\\u0e1b\\u0e25\\u0e48\\u0e32 \\u0e41\\u0e25\\u0e30\\u0e40\\u0e04\\u0e49\\u0e32\\u0e01\\u0e47\\u0e44\\u0e21\\u0e48\\u0e17\\u0e33\\u0e43\\u0e2b\\u0e49\\u0e1c\\u0e34\\u0e14\\u0e2b\\u0e27\\u0e31\\u0e07\\u0e08\\u0e23\\u0e34\\u0e07\\u0e46 \\u0e44\\u0e14\\u0e49\\u0e40\\u0e22\\u0e2d\\u0e30\\u0e14\\u0e49\\u0e27\\u0e22\\u0e41\\u0e25\\u0e49\\u0e27\\u0e01\\u0e47\\u0e2d\\u0e23\\u0e48\\u0e2d\\u0e22\\u0e2d\\u0e22\\u0e48\\u0e32\\u0e07\\u0e17\\u0e35\\u0e48\\u0e04\\u0e32\\u0e14\\u0e2b\\u0e27\\u0e31\\u0e07\\u0e44\\u0e27\\u0e49\\u0e08\\u0e23\\u0e34\\u0e07\\u0e46 \\u0e40\\u0e04\\u0e23\\u0e37\\u0e48\\u0e2d\\u0e07\\u0e16\\u0e25\\u0e14\\u0e40\\u0e0a\\u0e48\\u0e19\\u0e01\\u0e38\\u0e49\\u0e07 \\u0e1b\\u0e25\\u0e32\\u0e2b\\u0e21\\u0e36\\u0e01 \\u0e2a\\u0e14\\u0e41\\u0e25\\u0e30\\u0e44\\u0e21\\u0e48\\u0e40\\u0e2b\\u0e21\\u0e47\\u0e19\\u0e04\\u0e32\\u0e27\\u0e40\\u0e25\\u0e22 \\u0e23\\u0e32\\u0e04\\u0e32\\u0e01\\u0e47\\u0e17\\u0e31\\u0e48\\u0e27\\u0e44\\u0e1b\\u0e44\\u0e21\\u0e48\\u0e41\\u0e1e\\u0e07\\u0e21\\u0e32\\u0e01 \\u0e04\\u0e19\\u0e40\\u0e22\\u0e2d\\u0e30\\u0e21\\u0e32\\u0e01\\u0e42\\u0e14\\u0e22\\u0e40\\u0e09\\u0e1e\\u0e32\\u0e30\\u0e0a\\u0e48\\u0e27\\u0e07\\u0e2b\\u0e31\\u0e27\\u0e04\\u0e48\\u0e33 \\u0e02\\u0e2d\\u0e07\\u0e40\\u0e04\\u0e49\\u0e32\\u0e14\\u0e35\\u0e02\\u0e2d\\u0e07\\u0e40\\u0e04\\u0e49\\u0e32\\u0e2d\\u0e23\\u0e48\\u0e2d\\u0e22\\u0e08\\u0e23\\u0e34\\u0e07\\u0e46\"\n        ],\n        \"semantic_type\": \"\",\n        \"description\": \"\"\n      }\n    },\n    {\n      \"column\": \"column1\",\n      \"properties\": {\n        \"dtype\": \"number\",\n        \"std\": 0,\n        \"min\": 1,\n        \"max\": 5,\n        \"num_unique_values\": 5,\n        \"samples\": [\n          4,\n          1,\n          5\n        ],\n        \"semantic_type\": \"\",\n        \"description\": \"\"\n      }\n    }\n  ]\n}"
            }
          },
          "metadata": {},
          "execution_count": 78
        }
      ],
      "source": [
        "df = con.execute(\"SELECT * FROM read_csv_auto('/content/drive/MyDrive/review_dataset/w_review_train.csv', parallel=false, encoding='UTF-8', ignore_errors=true)\").fetchdf()\n",
        "\n",
        "df.head()"
      ]
    },
    {
      "cell_type": "code",
      "execution_count": 79,
      "metadata": {
        "colab": {
          "base_uri": "https://localhost:8080/"
        },
        "id": "1AvYT83SxOo7",
        "outputId": "d0a6ae38-5e10-4f50-bfdc-f73eb791399c"
      },
      "outputs": [
        {
          "output_type": "execute_result",
          "data": {
            "text/plain": [
              "(40000, 2)"
            ]
          },
          "metadata": {},
          "execution_count": 79
        }
      ],
      "source": [
        "df.shape"
      ]
    },
    {
      "cell_type": "code",
      "execution_count": 80,
      "metadata": {
        "colab": {
          "base_uri": "https://localhost:8080/"
        },
        "id": "f8OhYpzkyYz-",
        "outputId": "82003109-6452-4e16-fa9f-fa6ace955cd4"
      },
      "outputs": [
        {
          "output_type": "execute_result",
          "data": {
            "text/plain": [
              "<duckdb.duckdb.DuckDBPyConnection at 0x7ed24220a530>"
            ]
          },
          "metadata": {},
          "execution_count": 80
        }
      ],
      "source": [
        "con.execute(\"COPY df TO '/content/drive/MyDrive/review_dataset/w_review_train.parquet' (FORMAT PARQUET)\")"
      ]
    },
    {
      "cell_type": "code",
      "execution_count": 81,
      "metadata": {
        "colab": {
          "base_uri": "https://localhost:8080/"
        },
        "id": "xjOZ7KJeyv4S",
        "outputId": "7e9606e8-74c1-43c7-e5a7-f99acd764270"
      },
      "outputs": [
        {
          "output_type": "execute_result",
          "data": {
            "text/plain": [
              "3.8313027179006562"
            ]
          },
          "metadata": {},
          "execution_count": 81
        }
      ],
      "source": [
        "parquet_avg_rating_direct = con.execute(\"SELECT AVG(column1) FROM '/content/drive/MyDrive/review_dataset/w_review_train.parquet' WHERE column0 LIKE '%อร่อย%'\").fetchone()[0]\n",
        "parquet_avg_rating_direct"
      ]
    },
    {
      "cell_type": "code",
      "execution_count": 82,
      "metadata": {
        "id": "v9XwPmXnyyp0"
      },
      "outputs": [],
      "source": [
        "parquet_file_path = '/content/drive/MyDrive/review_dataset/w_review_train.parquet'"
      ]
    },
    {
      "cell_type": "code",
      "execution_count": 83,
      "metadata": {
        "colab": {
          "base_uri": "https://localhost:8080/"
        },
        "id": "kbtY63Hqy2Yi",
        "outputId": "46b244a7-47f6-4999-ba7f-4e853541b7c1"
      },
      "outputs": [
        {
          "output_type": "execute_result",
          "data": {
            "text/plain": [
              "3.8313027179006562"
            ]
          },
          "metadata": {},
          "execution_count": 83
        }
      ],
      "source": [
        "parquet_avg_rating_direct = con.execute(f\"SELECT AVG(column1) FROM '{parquet_file_path}' WHERE column0 LIKE '%อร่อย%'\").fetchone()[0]\n",
        "parquet_avg_rating_direct"
      ]
    },
    {
      "cell_type": "code",
      "execution_count": 84,
      "metadata": {
        "id": "ob_j093Sy5Q0"
      },
      "outputs": [],
      "source": [
        "coffee_keywords = [\n",
        "    'กาแฟ', 'คาเฟ่', 'coffee', 'cafe', 'เอสเปรสโซ่', 'ลาเต้',\n",
        "    'มอคค่า', 'คาปูชิโน่', 'เฟรนช์เพรส', 'cold brew', 'drip',\n",
        "    'espresso', 'latte', 'americano', 'macchiato', 'brew',\n",
        "    'specialty', 'slow bar', 'ร้านกาแฟ', 'ร้านคาเฟ่', 'กาแฟสด',\n",
        "    'เมนูกาแฟ', 'กาแฟนม', 'กาแฟดำ', 'ร้านบาริสต้า', 'barista', 'coffee shop'\n",
        "]\n",
        "\n",
        "where_clause = \" OR \".join([f\"column0 LIKE '%{keyword}%'\" for keyword in coffee_keywords])"
      ]
    },
    {
      "cell_type": "code",
      "execution_count": 85,
      "metadata": {
        "colab": {
          "base_uri": "https://localhost:8080/",
          "height": 85,
          "referenced_widgets": [
            "1e1b2e76a32542c1a3b8f76dd28d8663",
            "29669e34ea374b4786eeaf02b60cbf4d",
            "6a3c04cfd4314ec4abf9e820cfb69f2d"
          ]
        },
        "id": "HvxFVz3ly7el",
        "outputId": "4a76074a-aa0d-46ed-e1a0-198738eaec43"
      },
      "outputs": [
        {
          "output_type": "display_data",
          "data": {
            "text/plain": [
              "FloatProgress(value=0.0, layout=Layout(width='auto'), style=ProgressStyle(bar_color='black'))"
            ],
            "application/vnd.jupyter.widget-view+json": {
              "version_major": 2,
              "version_minor": 0,
              "model_id": "1e1b2e76a32542c1a3b8f76dd28d8663"
            }
          },
          "metadata": {}
        },
        {
          "output_type": "stream",
          "name": "stdout",
          "text": [
            "CPU times: user 2.33 s, sys: 36.3 ms, total: 2.37 s\n",
            "Wall time: 3.29 s\n"
          ]
        }
      ],
      "source": [
        "%%time\n",
        "coffee_reviews_df = con.execute(f\"SELECT * FROM '{parquet_file_path}' WHERE {where_clause}\").fetchdf()"
      ]
    },
    {
      "cell_type": "code",
      "execution_count": 86,
      "metadata": {
        "id": "CbuSeKh5zVE7"
      },
      "outputs": [],
      "source": [
        "csv_file_path = '/content/drive/MyDrive/review_dataset/w_review_train.csv'"
      ]
    },
    {
      "cell_type": "code",
      "execution_count": 87,
      "metadata": {
        "colab": {
          "base_uri": "https://localhost:8080/",
          "height": 85,
          "referenced_widgets": [
            "ee79ba7f9978424eb039ff9e1d0686de",
            "67dce6247f0f4211b4b32a2644355065",
            "e589e5638687468c8487ce9b7a907657"
          ]
        },
        "id": "-PB7CO6ZzbdC",
        "outputId": "c5250ca9-fce2-4f1a-fe2b-de400df6a64b"
      },
      "outputs": [
        {
          "output_type": "display_data",
          "data": {
            "text/plain": [
              "FloatProgress(value=0.0, layout=Layout(width='auto'), style=ProgressStyle(bar_color='black'))"
            ],
            "application/vnd.jupyter.widget-view+json": {
              "version_major": 2,
              "version_minor": 0,
              "model_id": "ee79ba7f9978424eb039ff9e1d0686de"
            }
          },
          "metadata": {}
        },
        {
          "output_type": "stream",
          "name": "stdout",
          "text": [
            "CPU times: user 2.61 s, sys: 55.1 ms, total: 2.66 s\n",
            "Wall time: 4.18 s\n"
          ]
        }
      ],
      "source": [
        "%%time\n",
        "coffee_reviews_df_csv = con.execute(f\"SELECT * FROM read_csv_auto('{csv_file_path}', parallel=false, encoding='UTF-8', ignore_errors=true) WHERE {where_clause}\").fetchdf()"
      ]
    },
    {
      "cell_type": "code",
      "execution_count": 88,
      "metadata": {
        "colab": {
          "base_uri": "https://localhost:8080/",
          "height": 206
        },
        "id": "bD5D7irLzdg6",
        "outputId": "5291a2e8-0ef0-4342-b80e-68315433a47d"
      },
      "outputs": [
        {
          "output_type": "execute_result",
          "data": {
            "text/plain": [
              "                                             column0  column1\n",
              "0  ร้านอาหารใหญ่มากกกกกกก \\nเลี้ยวเข้ามาเจอห้องน้...        3\n",
              "1  วันนี้ได้มีโอกาสไปนั่งซดกาแฟที่ร้านวาวี แถวๆอา...        4\n",
              "2  สารภาพว่าไม่เคยคิดจะไปต่อคิวซื้อมากินเองครับ บ...        3\n",
              "3  ร้านอาหารญี่ปุ่นร้านนี้ ใจจริงไม่อยากแนะนำเลยค...        5\n",
              "4  เดือนแรกที่เค้าต่อคิวกัน 2 - 3 ชั่วโมง เราก็ว่...        5"
            ],
            "text/html": [
              "\n",
              "  <div id=\"df-dce123c9-8fd2-40d0-a52e-89b15d1d6b5b\" class=\"colab-df-container\">\n",
              "    <div>\n",
              "<style scoped>\n",
              "    .dataframe tbody tr th:only-of-type {\n",
              "        vertical-align: middle;\n",
              "    }\n",
              "\n",
              "    .dataframe tbody tr th {\n",
              "        vertical-align: top;\n",
              "    }\n",
              "\n",
              "    .dataframe thead th {\n",
              "        text-align: right;\n",
              "    }\n",
              "</style>\n",
              "<table border=\"1\" class=\"dataframe\">\n",
              "  <thead>\n",
              "    <tr style=\"text-align: right;\">\n",
              "      <th></th>\n",
              "      <th>column0</th>\n",
              "      <th>column1</th>\n",
              "    </tr>\n",
              "  </thead>\n",
              "  <tbody>\n",
              "    <tr>\n",
              "      <th>0</th>\n",
              "      <td>ร้านอาหารใหญ่มากกกกกกก \\nเลี้ยวเข้ามาเจอห้องน้...</td>\n",
              "      <td>3</td>\n",
              "    </tr>\n",
              "    <tr>\n",
              "      <th>1</th>\n",
              "      <td>วันนี้ได้มีโอกาสไปนั่งซดกาแฟที่ร้านวาวี แถวๆอา...</td>\n",
              "      <td>4</td>\n",
              "    </tr>\n",
              "    <tr>\n",
              "      <th>2</th>\n",
              "      <td>สารภาพว่าไม่เคยคิดจะไปต่อคิวซื้อมากินเองครับ บ...</td>\n",
              "      <td>3</td>\n",
              "    </tr>\n",
              "    <tr>\n",
              "      <th>3</th>\n",
              "      <td>ร้านอาหารญี่ปุ่นร้านนี้ ใจจริงไม่อยากแนะนำเลยค...</td>\n",
              "      <td>5</td>\n",
              "    </tr>\n",
              "    <tr>\n",
              "      <th>4</th>\n",
              "      <td>เดือนแรกที่เค้าต่อคิวกัน 2 - 3 ชั่วโมง เราก็ว่...</td>\n",
              "      <td>5</td>\n",
              "    </tr>\n",
              "  </tbody>\n",
              "</table>\n",
              "</div>\n",
              "    <div class=\"colab-df-buttons\">\n",
              "\n",
              "  <div class=\"colab-df-container\">\n",
              "    <button class=\"colab-df-convert\" onclick=\"convertToInteractive('df-dce123c9-8fd2-40d0-a52e-89b15d1d6b5b')\"\n",
              "            title=\"Convert this dataframe to an interactive table.\"\n",
              "            style=\"display:none;\">\n",
              "\n",
              "  <svg xmlns=\"http://www.w3.org/2000/svg\" height=\"24px\" viewBox=\"0 -960 960 960\">\n",
              "    <path d=\"M120-120v-720h720v720H120Zm60-500h600v-160H180v160Zm220 220h160v-160H400v160Zm0 220h160v-160H400v160ZM180-400h160v-160H180v160Zm440 0h160v-160H620v160ZM180-180h160v-160H180v160Zm440 0h160v-160H620v160Z\"/>\n",
              "  </svg>\n",
              "    </button>\n",
              "\n",
              "  <style>\n",
              "    .colab-df-container {\n",
              "      display:flex;\n",
              "      gap: 12px;\n",
              "    }\n",
              "\n",
              "    .colab-df-convert {\n",
              "      background-color: #E8F0FE;\n",
              "      border: none;\n",
              "      border-radius: 50%;\n",
              "      cursor: pointer;\n",
              "      display: none;\n",
              "      fill: #1967D2;\n",
              "      height: 32px;\n",
              "      padding: 0 0 0 0;\n",
              "      width: 32px;\n",
              "    }\n",
              "\n",
              "    .colab-df-convert:hover {\n",
              "      background-color: #E2EBFA;\n",
              "      box-shadow: 0px 1px 2px rgba(60, 64, 67, 0.3), 0px 1px 3px 1px rgba(60, 64, 67, 0.15);\n",
              "      fill: #174EA6;\n",
              "    }\n",
              "\n",
              "    .colab-df-buttons div {\n",
              "      margin-bottom: 4px;\n",
              "    }\n",
              "\n",
              "    [theme=dark] .colab-df-convert {\n",
              "      background-color: #3B4455;\n",
              "      fill: #D2E3FC;\n",
              "    }\n",
              "\n",
              "    [theme=dark] .colab-df-convert:hover {\n",
              "      background-color: #434B5C;\n",
              "      box-shadow: 0px 1px 3px 1px rgba(0, 0, 0, 0.15);\n",
              "      filter: drop-shadow(0px 1px 2px rgba(0, 0, 0, 0.3));\n",
              "      fill: #FFFFFF;\n",
              "    }\n",
              "  </style>\n",
              "\n",
              "    <script>\n",
              "      const buttonEl =\n",
              "        document.querySelector('#df-dce123c9-8fd2-40d0-a52e-89b15d1d6b5b button.colab-df-convert');\n",
              "      buttonEl.style.display =\n",
              "        google.colab.kernel.accessAllowed ? 'block' : 'none';\n",
              "\n",
              "      async function convertToInteractive(key) {\n",
              "        const element = document.querySelector('#df-dce123c9-8fd2-40d0-a52e-89b15d1d6b5b');\n",
              "        const dataTable =\n",
              "          await google.colab.kernel.invokeFunction('convertToInteractive',\n",
              "                                                    [key], {});\n",
              "        if (!dataTable) return;\n",
              "\n",
              "        const docLinkHtml = 'Like what you see? Visit the ' +\n",
              "          '<a target=\"_blank\" href=https://colab.research.google.com/notebooks/data_table.ipynb>data table notebook</a>'\n",
              "          + ' to learn more about interactive tables.';\n",
              "        element.innerHTML = '';\n",
              "        dataTable['output_type'] = 'display_data';\n",
              "        await google.colab.output.renderOutput(dataTable, element);\n",
              "        const docLink = document.createElement('div');\n",
              "        docLink.innerHTML = docLinkHtml;\n",
              "        element.appendChild(docLink);\n",
              "      }\n",
              "    </script>\n",
              "  </div>\n",
              "\n",
              "\n",
              "    <div id=\"df-f91a6890-8130-4262-992b-7f7deeb23fe4\">\n",
              "      <button class=\"colab-df-quickchart\" onclick=\"quickchart('df-f91a6890-8130-4262-992b-7f7deeb23fe4')\"\n",
              "                title=\"Suggest charts\"\n",
              "                style=\"display:none;\">\n",
              "\n",
              "<svg xmlns=\"http://www.w3.org/2000/svg\" height=\"24px\"viewBox=\"0 0 24 24\"\n",
              "     width=\"24px\">\n",
              "    <g>\n",
              "        <path d=\"M19 3H5c-1.1 0-2 .9-2 2v14c0 1.1.9 2 2 2h14c1.1 0 2-.9 2-2V5c0-1.1-.9-2-2-2zM9 17H7v-7h2v7zm4 0h-2V7h2v10zm4 0h-2v-4h2v4z\"/>\n",
              "    </g>\n",
              "</svg>\n",
              "      </button>\n",
              "\n",
              "<style>\n",
              "  .colab-df-quickchart {\n",
              "      --bg-color: #E8F0FE;\n",
              "      --fill-color: #1967D2;\n",
              "      --hover-bg-color: #E2EBFA;\n",
              "      --hover-fill-color: #174EA6;\n",
              "      --disabled-fill-color: #AAA;\n",
              "      --disabled-bg-color: #DDD;\n",
              "  }\n",
              "\n",
              "  [theme=dark] .colab-df-quickchart {\n",
              "      --bg-color: #3B4455;\n",
              "      --fill-color: #D2E3FC;\n",
              "      --hover-bg-color: #434B5C;\n",
              "      --hover-fill-color: #FFFFFF;\n",
              "      --disabled-bg-color: #3B4455;\n",
              "      --disabled-fill-color: #666;\n",
              "  }\n",
              "\n",
              "  .colab-df-quickchart {\n",
              "    background-color: var(--bg-color);\n",
              "    border: none;\n",
              "    border-radius: 50%;\n",
              "    cursor: pointer;\n",
              "    display: none;\n",
              "    fill: var(--fill-color);\n",
              "    height: 32px;\n",
              "    padding: 0;\n",
              "    width: 32px;\n",
              "  }\n",
              "\n",
              "  .colab-df-quickchart:hover {\n",
              "    background-color: var(--hover-bg-color);\n",
              "    box-shadow: 0 1px 2px rgba(60, 64, 67, 0.3), 0 1px 3px 1px rgba(60, 64, 67, 0.15);\n",
              "    fill: var(--button-hover-fill-color);\n",
              "  }\n",
              "\n",
              "  .colab-df-quickchart-complete:disabled,\n",
              "  .colab-df-quickchart-complete:disabled:hover {\n",
              "    background-color: var(--disabled-bg-color);\n",
              "    fill: var(--disabled-fill-color);\n",
              "    box-shadow: none;\n",
              "  }\n",
              "\n",
              "  .colab-df-spinner {\n",
              "    border: 2px solid var(--fill-color);\n",
              "    border-color: transparent;\n",
              "    border-bottom-color: var(--fill-color);\n",
              "    animation:\n",
              "      spin 1s steps(1) infinite;\n",
              "  }\n",
              "\n",
              "  @keyframes spin {\n",
              "    0% {\n",
              "      border-color: transparent;\n",
              "      border-bottom-color: var(--fill-color);\n",
              "      border-left-color: var(--fill-color);\n",
              "    }\n",
              "    20% {\n",
              "      border-color: transparent;\n",
              "      border-left-color: var(--fill-color);\n",
              "      border-top-color: var(--fill-color);\n",
              "    }\n",
              "    30% {\n",
              "      border-color: transparent;\n",
              "      border-left-color: var(--fill-color);\n",
              "      border-top-color: var(--fill-color);\n",
              "      border-right-color: var(--fill-color);\n",
              "    }\n",
              "    40% {\n",
              "      border-color: transparent;\n",
              "      border-right-color: var(--fill-color);\n",
              "      border-top-color: var(--fill-color);\n",
              "    }\n",
              "    60% {\n",
              "      border-color: transparent;\n",
              "      border-right-color: var(--fill-color);\n",
              "    }\n",
              "    80% {\n",
              "      border-color: transparent;\n",
              "      border-right-color: var(--fill-color);\n",
              "      border-bottom-color: var(--fill-color);\n",
              "    }\n",
              "    90% {\n",
              "      border-color: transparent;\n",
              "      border-bottom-color: var(--fill-color);\n",
              "    }\n",
              "  }\n",
              "</style>\n",
              "\n",
              "      <script>\n",
              "        async function quickchart(key) {\n",
              "          const quickchartButtonEl =\n",
              "            document.querySelector('#' + key + ' button');\n",
              "          quickchartButtonEl.disabled = true;  // To prevent multiple clicks.\n",
              "          quickchartButtonEl.classList.add('colab-df-spinner');\n",
              "          try {\n",
              "            const charts = await google.colab.kernel.invokeFunction(\n",
              "                'suggestCharts', [key], {});\n",
              "          } catch (error) {\n",
              "            console.error('Error during call to suggestCharts:', error);\n",
              "          }\n",
              "          quickchartButtonEl.classList.remove('colab-df-spinner');\n",
              "          quickchartButtonEl.classList.add('colab-df-quickchart-complete');\n",
              "        }\n",
              "        (() => {\n",
              "          let quickchartButtonEl =\n",
              "            document.querySelector('#df-f91a6890-8130-4262-992b-7f7deeb23fe4 button');\n",
              "          quickchartButtonEl.style.display =\n",
              "            google.colab.kernel.accessAllowed ? 'block' : 'none';\n",
              "        })();\n",
              "      </script>\n",
              "    </div>\n",
              "\n",
              "    </div>\n",
              "  </div>\n"
            ],
            "application/vnd.google.colaboratory.intrinsic+json": {
              "type": "dataframe",
              "variable_name": "coffee_reviews_df",
              "summary": "{\n  \"name\": \"coffee_reviews_df\",\n  \"rows\": 4981,\n  \"fields\": [\n    {\n      \"column\": \"column0\",\n      \"properties\": {\n        \"dtype\": \"string\",\n        \"num_unique_values\": 4981,\n        \"samples\": [\n          \"\\u0e23\\u0e49\\u0e32\\u0e19\\u0e2d\\u0e22\\u0e39\\u0e48\\u0e1a\\u0e19\\u0e0a\\u0e31\\u0e49\\u0e193\\u0e02\\u0e2d\\u0e07 seen space \\u0e17\\u0e2d\\u0e07\\u0e2b\\u0e25\\u0e48\\u0e2d \\u0e40\\u0e1b\\u0e47\\u0e19\\u0e2d\\u0e32\\u0e2b\\u0e32\\u0e23\\u0e41\\u0e19\\u0e27fusion mediteranion\\u0e40\\u0e1e\\u0e37\\u0e48\\u0e2d\\u0e2a\\u0e38\\u0e02\\u0e20\\u0e32\\u0e1e\\n\\u0e1a\\u0e23\\u0e23\\u0e22\\u0e32\\u0e01\\u0e32\\u0e28\\u0e23\\u0e49\\u0e32\\u0e19\\u0e14\\u0e35\\u0e21\\u0e32\\u0e01 \\u0e42\\u0e1b\\u0e23\\u0e48\\u0e07\\u0e42\\u0e25\\u0e48\\u0e07 \\u0e2a\\u0e30\\u0e2d\\u0e32\\u0e14 \\u0e2a\\u0e1a\\u0e32\\u0e22 \\u0e40\\u0e01\\u0e49\\u0e32\\u0e2d\\u0e35\\u0e49\\u0e1c\\u0e49\\u0e32\\u0e43\\u0e1a\\u0e2a\\u0e35\\u0e02\\u0e32\\u0e27\\u0e2d\\u0e32\\u0e08\\u0e19\\u0e31\\u0e48\\u0e07\\u0e44\\u0e21\\u0e48\\u0e2a\\u0e1a\\u0e32\\u0e22\\u0e40\\u0e25\\u0e47\\u0e01\\u0e19\\u0e49\\u0e2d\\u0e22\\n\\u0e1e\\u0e19\\u0e31\\u0e01\\u0e07\\u0e32\\u0e19\\u0e1a\\u0e23\\u0e34\\u0e01\\u0e32\\u0e23\\u0e14\\u0e35\\u0e04\\u0e48\\u0e30 \\u0e43\\u0e2a\\u0e48\\u0e43\\u0e08\\u0e23\\u0e32\\u0e22\\u0e25\\u0e30\\u0e40\\u0e2d\\u0e35\\u0e22\\u0e14\\u0e41\\u0e19\\u0e30\\u0e19\\u0e33\\u0e40\\u0e21\\u0e19\\u0e39\\u0e15\\u0e48\\u0e32\\u0e07\\u0e46\\u0e44\\u0e14\\u0e49\\u0e14\\u0e35\\n-\\u0e01\\u0e32\\u0e41\\u0e1f\\u0e2d\\u0e23\\u0e48\\u0e2d\\u0e22 \\u0e41\\u0e15\\u0e48\\u0e17\\u0e33\\u0e0a\\u0e49\\u0e32\\u0e21\\u0e32\\u0e01 \\u0e2b\\u0e32\\u0e01\\u0e2a\\u0e31\\u0e48\\u0e07\\u0e01\\u0e32\\u0e41\\u0e1f\\u0e15\\u0e49\\u0e2d\\u0e07\\u0e17\\u0e33\\u0e43\\u0e08\\u0e19\\u0e34\\u0e14\\u0e19\\u0e36\\u0e07 4/5\\n- smoothies \\u0e2d\\u0e23\\u0e48\\u0e2d\\u0e22\\u0e43\\u0e02\\u0e49\\u0e44\\u0e14\\u0e49 \\u0e23\\u0e2a\\u0e0a\\u0e32\\u0e15\\u0e34\\u0e2a\\u0e14\\u0e0a\\u0e37\\u0e48\\u0e19\\u0e01\\u0e33\\u0e25\\u0e31\\u0e07\\u0e14\\u0e35 4/5\\n- devil's egg with beetroot : \\u0e08\\u0e32\\u0e19\\u0e19\\u0e35\\u0e49\\u0e2d\\u0e23\\u0e48\\u0e2d\\u0e22 \\u0e08\\u0e30\\u0e1a\\u0e2d\\u0e01\\u0e27\\u0e48\\u0e32 devil's egg \\u0e01\\u0e31\\u0e1abeetroot \\u0e01\\u0e34\\u0e19\\u0e23\\u0e27\\u0e21\\u0e01\\u0e31\\u0e19\\u0e41\\u0e25\\u0e49\\u0e27\\u0e23\\u0e39\\u0e49\\u0e2a\\u0e36\\u0e01\\u0e44\\u0e21\\u0e48\\u0e04\\u0e48\\u0e2d\\u0e22\\u0e40\\u0e02\\u0e49\\u0e32\\u0e01\\u0e31\\u0e19 \\u0e41\\u0e15\\u0e48\\u0e01\\u0e34\\u0e19\\u0e41\\u0e22\\u0e01\\u0e01\\u0e31\\u0e19\\u0e41\\u0e25\\u0e49\\u0e27\\u0e2d\\u0e23\\u0e48\\u0e2d\\u0e22\\u0e21\\u0e32\\u0e01 4/5\\n- duck ragu pasta \\u0e08\\u0e32\\u0e19\\u0e19\\u0e35\\u0e49\\u0e2d\\u0e23\\u0e48\\u0e2d\\u0e22\\u0e14\\u0e35 \\u0e40\\u0e1b\\u0e47\\u0e19\\u0e1e\\u0e32\\u0e2a\\u0e15\\u0e49\\u0e32\\u0e40\\u0e2a\\u0e49\\u0e19\\u0e43\\u0e2b\\u0e0d\\u0e48\\u0e2b\\u0e19\\u0e48\\u0e2d\\u0e22 \\u0e0b\\u0e2d\\u0e2a\\u0e40\\u0e1b\\u0e47\\u0e14 4/5\\n- chicken nacho \\u0e41\\u0e1b\\u0e25\\u0e01\\u0e14\\u0e35 \\u0e19\\u0e32\\u0e42\\u0e0a\\u0e17\\u0e2d\\u0e14\\u0e43\\u0e2b\\u0e21\\u0e48\\u0e23\\u0e49\\u0e2d\\u0e19\\u0e46 \\u0e2b\\u0e2d\\u0e21\\u0e46 \\u0e41\\u0e15\\u0e48\\u0e41\\u0e2d\\u0e1a\\u0e40\\u0e25\\u0e35\\u0e48\\u0e22\\u0e19\\u0e44\\u0e1b\\u0e19\\u0e34\\u0e14 3/5\\n\\n\\u0e42\\u0e14\\u0e22\\u0e23\\u0e27\\u0e21\\u0e41\\u0e25\\u0e49\\u0e27\\u0e16\\u0e37\\u0e2d\\u0e27\\u0e48\\u0e32\\u0e14\\u0e35\\u0e17\\u0e35\\u0e40\\u0e14\\u0e35\\u0e22\\u0e27\\u0e04\\u0e48\\u0e30 \\u0e23\\u0e32\\u0e04\\u0e32\\u0e41\\u0e25\\u0e30\\u0e23\\u0e2a\\u0e0a\\u0e32\\u0e15\\u0e34\\u0e1e\\u0e2d\\u0e46\\u0e01\\u0e31\\u0e1aroast\\u0e17\\u0e35\\u0e48\\u0e2d\\u0e22\\u0e39\\u0e48\\u0e14\\u0e49\\u0e32\\u0e19\\u0e25\\u0e48\\u0e32\\u0e07 \\u0e43\\u0e04\\u0e23\\u0e02\\u0e35\\u0e49\\u0e40\\u0e01\\u0e35\\u0e22\\u0e08\\u0e15\\u0e48\\u0e2d\\u0e04\\u0e34\\u0e27 \\u0e2b\\u0e23\\u0e37\\u0e2d\\u0e2d\\u0e22\\u0e32\\u0e01\\u0e25\\u0e2d\\u0e07bruch\\u0e14\\u0e35\\u0e46\\u0e41\\u0e16\\u0e27\\u0e17\\u0e2d\\u0e07\\u0e2b\\u0e25\\u0e48\\u0e2d\\u0e41\\u0e19\\u0e30\\u0e19\\u0e33\\u0e23\\u0e49\\u0e32\\u0e19\\u0e19\\u0e35\\u0e49\\u0e2d\\u0e35\\u0e01\\u0e23\\u0e49\\u0e32\\u0e19\\u0e04\\u0e48\\u0e30\",\n          \"<<\\u0e40\\u0e2a\\u0e49\\u0e19\\u0e17\\u0e32\\u0e07\\u0e19\\u0e31\\u0e01\\u0e25\\u0e07\\u0e17\\u0e38\\u0e19>>\\n\\n     \\u0e2b\\u0e49\\u0e32\\u0e07 Union Mall \\u0e0a\\u0e31\\u0e49\\u0e19 3 \\u0e42\\u0e0b\\u0e19 B \\u0e43\\u0e01\\u0e25\\u0e49\\u0e1a\\u0e31\\u0e19\\u0e44\\u0e14\\u0e40\\u0e25\\u0e37\\u0e48\\u0e2d\\u0e19 \\n\\n<<\\u0e42\\u0e1a\\u0e23\\u0e01\\u0e40\\u0e01\\u0e2d\\u0e23\\u0e4c\\u0e08\\u0e2d\\u0e21\\u0e41\\u0e17\\u0e04\\u0e15\\u0e34\\u0e04\\u0e0a\\u0e35\\u0e49\\u0e19\\u0e33>>\\n\\n     \\u0e19\\u0e49\\u0e2d\\u0e07 GB \\u0e41\\u0e25\\u0e30\\u0e17\\u0e35\\u0e21\\u0e07\\u0e32\\u0e19\\u0e21\\u0e32\\u0e40\\u0e22\\u0e37\\u0e2d\\u0e19\\u0e2b\\u0e49\\u0e32\\u0e07\\u0e17\\u0e35\\u0e48\\u0e21\\u0e35\\u0e04\\u0e19\\u0e1e\\u0e25\\u0e38\\u0e01\\u0e1e\\u0e25\\u0e48\\u0e32\\u0e19\\u0e21\\u0e32\\u0e01\\u0e46\\u0e08\\u0e23\\u0e34\\u0e07\\u0e46 \\u0e2b\\u0e25\\u0e31\\u0e07\\u0e08\\u0e32\\u0e01\\u0e41\\u0e2d\\u0e1a\\u0e40\\u0e21\\u0e35\\u0e22\\u0e07\\u0e21\\u0e2d\\u0e07\\u0e23\\u0e49\\u0e32\\u0e19\\u0e19\\u0e35\\u0e49\\u0e21\\u0e32\\u0e19\\u0e32\\u0e19 \\u0e40\\u0e1e\\u0e23\\u0e32\\u0e30\\u0e14\\u0e49\\u0e27\\u0e22\\u0e41\\u0e23\\u0e07\\u0e42\\u0e06\\u0e29\\u0e13\\u0e32\\u0e17\\u0e35\\u0e48\\u0e16\\u0e32\\u0e42\\u0e16\\u0e21\\u0e43\\u0e19\\u0e27\\u0e07\\u0e43\\u0e19\\u0e0b\\u0e30\\u0e19\\u0e48\\u0e32\\u0e17\\u0e32\\u0e19 \\u0e40\\u0e23\\u0e32\\u0e01\\u0e47\\u0e40\\u0e1d\\u0e49\\u0e32\\u0e27\\u0e48\\u0e32\\u0e2d\\u0e22\\u0e32\\u0e01\\u0e44\\u0e1b\\u0e1e\\u0e1a\\u0e1e\\u0e32\\u0e19\\u0e43\\u0e19\\u0e40\\u0e23\\u0e47\\u0e27\\u0e27\\u0e31\\u0e19 \\u0e40\\u0e23\\u0e32\\u0e40\\u0e14\\u0e34\\u0e19\\u0e2b\\u0e32\\u0e2d\\u0e22\\u0e39\\u0e48\\u0e1e\\u0e31\\u0e01\\u0e19\\u0e36\\u0e07 \\u0e17\\u0e35\\u0e21\\u0e07\\u0e32\\u0e19\\u0e27\\u0e48\\u0e32 \\u0e44\\u0e2b\\u0e07\\u0e1a\\u0e2d\\u0e01\\u0e40\\u0e08\\u0e49\\u0e32\\u0e16\\u0e34\\u0e48\\u0e19 \\u0e42\\u0e14\\u0e19\\u0e17\\u0e49\\u0e27\\u0e07\\u0e15\\u0e34\\u0e07\\u0e2d\\u0e22\\u0e48\\u0e32\\u0e07\\u0e23\\u0e38\\u0e19\\u0e41\\u0e23\\u0e07 \\u0e0a\\u0e48\\u0e32\\u0e07\\u0e19\\u0e48\\u0e32\\u0e02\\u0e32\\u0e22\\u0e2b\\u0e19\\u0e49\\u0e32\\u0e08\\u0e23\\u0e34\\u0e07\\u0e46 555+ \\u0e23\\u0e49\\u0e32\\u0e19\\u0e41\\u0e2d\\u0e1a\\u0e46\\u0e21\\u0e32\\u0e2d\\u0e22\\u0e39\\u0e48\\u0e43\\u0e19\\u0e42\\u0e0b\\u0e19\\u0e08\\u0e38\\u0e14\\u0e08\\u0e33\\u0e2b\\u0e19\\u0e48\\u0e32\\u0e22\\u0e40\\u0e2a\\u0e37\\u0e49\\u0e2d\\u0e1c\\u0e49\\u0e32\\u0e41\\u0e25\\u0e30\\u0e23\\u0e2d\\u0e07\\u0e40\\u0e17\\u0e49\\u0e32 \\u0e0b\\u0e36\\u0e48\\u0e07\\u0e40\\u0e22\\u0e37\\u0e49\\u0e2d\\u0e07\\u0e15\\u0e23\\u0e07\\u0e2b\\u0e19\\u0e49\\u0e32\\u0e23\\u0e49\\u0e32\\u0e19\\u0e17\\u0e35\\u0e48\\u0e43\\u0e2b\\u0e49\\u0e40\\u0e0a\\u0e48\\u0e32\\u0e0a\\u0e38\\u0e14\\u0e44\\u0e1b\\u0e07\\u0e32\\u0e19\\u0e41\\u0e15\\u0e48\\u0e07\\u0e07\\u0e32\\u0e19\\u0e19\\u0e34\\u0e14\\u0e46 \\u0e2d\\u0e31\\u0e19\\u0e08\\u0e31\\u0e14\\u0e27\\u0e48\\u0e32 \\u0e40\\u0e08\\u0e49\\u0e32\\u0e02\\u0e2d\\u0e07\\u0e23\\u0e49\\u0e32\\u0e19\\u0e40\\u0e14\\u0e47\\u0e14\\u0e14\\u0e27\\u0e07\\u0e22\\u0e32\\u0e01\\u0e25\\u0e37\\u0e21\\u0e40\\u0e25\\u0e37\\u0e2d\\u0e19 ???????????? (\\u0e19\\u0e2d\\u0e01\\u0e40\\u0e23\\u0e37\\u0e48\\u0e2d\\u0e07\\u0e15\\u0e25\\u0e2d\\u0e14 555+ )\\n\\n     Bon Bon \\u0e40\\u0e1b\\u0e47\\u0e19\\u0e20\\u0e32\\u0e29\\u0e32\\u0e1d\\u0e23\\u0e31\\u0e48\\u0e07\\u0e40\\u0e28\\u0e29 \\u0e2d\\u0e48\\u0e32\\u0e19\\u0e27\\u0e48\\u0e32 \\u0e1a\\u0e07\\u0e1a\\u0e07 \\u0e0b\\u0e36\\u0e48\\u0e07\\u0e41\\u0e1b\\u0e25\\u0e27\\u0e48\\u0e32 \\u0e14\\u0e35\\u0e4a..\\u0e14\\u0e35 (\\u0e01\\u0e23\\u0e38\\u0e13\\u0e32\\u0e17\\u0e33\\u0e40\\u0e2a\\u0e35\\u0e22\\u0e07\\u0e2a\\u0e39\\u0e07\\u0e15\\u0e32\\u0e21\\u0e41\\u0e1a\\u0e1a\\u0e19\\u0e49\\u0e2d\\u0e07\\u0e44\\u0e2d\\u0e0b\\u0e4c 555+)\\u0e2a\\u0e48\\u0e27\\u0e19\\u0e16\\u0e49\\u0e32\\u0e40\\u0e1b\\u0e47\\u0e19 \\u0e40\\u0e1b\\u0e47\\u0e19\\u0e20\\u0e32\\u0e29\\u0e32\\u0e2d\\u0e31\\u0e07\\u0e01\\u0e24\\u0e29 \\u0e2d\\u0e48\\u0e32\\u0e19\\u0e27\\u0e48\\u0e32 \\u0e1a\\u0e2d\\u0e19\\u0e1a\\u0e47\\u0e2d\\u0e19 \\u0e41\\u0e1b\\u0e25\\u0e27\\u0e48\\u0e32 \\u0e02\\u0e19\\u0e21\\u0e2b\\u0e27\\u0e32\\u0e19 \\u0e0b\\u0e36\\u0e48\\u0e07\\u0e14\\u0e39\\u0e41\\u0e25\\u0e49\\u0e27\\u0e40\\u0e08\\u0e49\\u0e32\\u0e02\\u0e2d\\u0e07\\u0e23\\u0e49\\u0e32\\u0e19\\u0e01\\u0e47\\u0e40\\u0e25\\u0e37\\u0e2d\\u0e01\\u0e04\\u0e33\\u0e44\\u0e14\\u0e49\\u0e14\\u0e35\\u0e04\\u0e23\\u0e31\\u0e1a \\u0e40\\u0e1e\\u0e23\\u0e32\\u0e30\\u0e2a\\u0e37\\u0e48\\u0e2d\\u0e04\\u0e27\\u0e32\\u0e21\\u0e2b\\u0e21\\u0e32\\u0e22\\u0e44\\u0e14\\u0e49\\u0e14\\u0e35\\u0e17\\u0e31\\u0e49\\u0e07 2 \\u0e2d\\u0e22\\u0e48\\u0e32\\u0e07 (\\u0e17\\u0e38\\u0e01\\u0e27\\u0e31\\u0e19\\u0e19\\u0e35\\u0e49\\u0e22\\u0e31\\u0e07\\u0e44\\u0e21\\u0e48\\u0e23\\u0e39\\u0e49\\u0e40\\u0e25\\u0e22 \\u0e15\\u0e01\\u0e25\\u0e07\\u0e2d\\u0e48\\u0e32\\u0e19\\u0e27\\u0e48\\u0e32\\u0e2d\\u0e30\\u0e44\\u0e23\\u0e01\\u0e31\\u0e19\\u0e41\\u0e19\\u0e48 555+) \\u0e41\\u0e15\\u0e48\\u0e16\\u0e49\\u0e32\\u0e21\\u0e2d\\u0e07\\u0e14\\u0e49\\u0e27\\u0e22\\u0e23\\u0e39\\u0e1b\\u0e41\\u0e1a\\u0e1a\\u0e41\\u0e25\\u0e30\\u0e25\\u0e27\\u0e14\\u0e25\\u0e32\\u0e22\\u0e07\\u0e32\\u0e21\\u0e46\\u0e41\\u0e25\\u0e49\\u0e27 \\u0e04\\u0e07\\u0e1e\\u0e2d\\u0e17\\u0e23\\u0e32\\u0e1a\\u0e01\\u0e31\\u0e19\\u0e44\\u0e14\\u0e49\\u0e27\\u0e48\\u0e32 \\u0e40\\u0e0a\\u0e1f\\u0e02\\u0e19\\u0e21\\u0e04\\u0e07\\u0e44\\u0e1b\\u0e08\\u0e31\\u0e14 \\u0e04\\u0e2d\\u0e23\\u0e4c\\u0e2a Le Cordon Bleu \\u0e21\\u0e32\\u0e2d\\u0e22\\u0e48\\u0e32\\u0e07\\u0e41\\u0e19\\u0e48\\u0e19\\u0e2d\\u0e19 555+ \\u0e40\\u0e21\\u0e19\\u0e39\\u0e43\\u0e19\\u0e23\\u0e49\\u0e32\\u0e19\\u0e17\\u0e35\\u0e48\\u0e14\\u0e39\\u0e25\\u0e07\\u0e15\\u0e31\\u0e27\\u0e14\\u0e35\\u0e44\\u0e21\\u0e48\\u0e40\\u0e1a\\u0e32 \\u0e14\\u0e49\\u0e27\\u0e22\\u0e40\\u0e04\\u0e23\\u0e37\\u0e48\\u0e2d\\u0e07\\u0e14\\u0e37\\u0e48\\u0e21\\u0e1b\\u0e23\\u0e30\\u0e40\\u0e20\\u0e17\\u0e01\\u0e32\\u0e41\\u0e1f, \\u0e0a\\u0e32, Freppe, Smoothies \\u0e41\\u0e25\\u0e30 Soda \\u0e17\\u0e35\\u0e48\\u0e14\\u0e39\\u0e08\\u0e32\\u0e01\\u0e04\\u0e48\\u0e32\\u0e40\\u0e2a\\u0e35\\u0e22\\u0e2b\\u0e32\\u0e22\\u0e40\\u0e23\\u0e34\\u0e48\\u0e21\\u0e15\\u0e49\\u0e19 \\u0e40\\u0e1e\\u0e35\\u0e22\\u0e07 40 \\u0e01\\u0e27\\u0e48\\u0e32\\u0e1a\\u0e32\\u0e17\\u0e41\\u0e25\\u0e49\\u0e27 \\u0e25\\u0e48\\u0e2d\\u0e15\\u0e32\\u0e25\\u0e48\\u0e2d\\u0e43\\u0e08\\u0e44\\u0e21\\u0e48\\u0e18\\u0e23\\u0e23\\u0e21\\u0e14\\u0e32 \\u0e2b\\u0e31\\u0e19\\u0e2b\\u0e19\\u0e49\\u0e32\\u0e21\\u0e32\\u0e21\\u0e2d\\u0e07\\u0e02\\u0e19\\u0e21\\u0e2b\\u0e27\\u0e32\\u0e19\\u0e01\\u0e31\\u0e19\\u0e1a\\u0e49\\u0e32\\u0e07 \\u0e17\\u0e31\\u0e49\\u0e07 Crepe cake, Cheese cake  \\u0e40\\u0e1b\\u0e47\\u0e19\\u0e15\\u0e49\\u0e19 \\u0e2a\\u0e44\\u0e15\\u0e25\\u0e4c\\u0e1d\\u0e23\\u0e31\\u0e48\\u0e07\\u0e40\\u0e28\\u0e29 \\u0e17\\u0e35\\u0e48\\u0e14\\u0e39\\u0e19\\u0e48\\u0e32\\u0e17\\u0e32\\u0e19\\u0e15\\u0e32\\u0e21\\u0e41\\u0e1a\\u0e1a\\u0e09\\u0e1a\\u0e31\\u0e1a \\u0e1e\\u0e23\\u0e49\\u0e2d\\u0e21\\u0e44\\u0e21\\u0e48\\u0e19\\u0e48\\u0e32\\u0e1e\\u0e25\\u0e32\\u0e14\\u0e01\\u0e31\\u0e1a Set toast, Moose cake \\u0e41\\u0e25\\u0e30 Lava \\u0e17\\u0e35\\u0e48\\u0e19\\u0e48\\u0e32\\u0e15\\u0e32\\u0e19\\u0e48\\u0e32\\u0e17\\u0e32\\u0e19 \\u0e08\\u0e32\\u0e01\\u0e17\\u0e35\\u0e48\\u0e17\\u0e35\\u0e21\\u0e07\\u0e32\\u0e19\\u0e27\\u0e34\\u0e40\\u0e04\\u0e23\\u0e32\\u0e30\\u0e2b\\u0e4c\\u0e40\\u0e21\\u0e48\\u0e32\\u0e1b\\u0e35\\u0e01\\u0e40\\u0e2b\\u0e25\\u0e47\\u0e01\\u0e02\\u0e2d\\u0e07\\u0e40\\u0e23\\u0e32 \\u0e1a\\u0e2d\\u0e01\\u0e23\\u0e32\\u0e04\\u0e32\\u0e40\\u0e1b\\u0e34\\u0e14\\u0e15\\u0e31\\u0e27\\u0e19\\u0e48\\u0e32\\u0e23\\u0e31\\u0e01\\u0e19\\u0e48\\u0e32\\u0e25\\u0e38\\u0e49\\u0e19 \\u0e08\\u0e31\\u0e14\\u0e21\\u0e32\\u0e27\\u0e31\\u0e14\\u0e43\\u0e08\\u0e01\\u0e31\\u0e19\\u0e14\\u0e39\\u0e1e\\u0e2d\\u0e2b\\u0e2d\\u0e21\\u0e1b\\u0e32\\u0e01\\u0e2b\\u0e2d\\u0e21\\u0e04\\u0e2d\\u0e01\\u0e31\\u0e19\\u0e08\\u0e4a\\u0e30...\\n\\n<<\\u0e15\\u0e31\\u0e27\\u0e40\\u0e01\\u0e47\\u0e07\\u0e08\\u0e32\\u0e01\\u0e42\\u0e1e\\u0e22\\u0e40\\u0e17\\u0e1e \\u0e40\\u0e1e\\u0e37\\u0e48\\u0e2d\\u0e2b\\u0e19\\u0e35\\u0e15\\u0e34\\u0e14\\u0e14\\u0e2d\\u0e22 555+>>\\n\\n     - Bon Bon signature ( 65 \\u0e1a\\u0e32\\u0e17 ) ????????????????: \\u0e01\\u0e32\\u0e41\\u0e1f\\u0e2a\\u0e14\\u0e15\\u0e32\\u0e21\\u0e2a\\u0e44\\u0e15\\u0e25\\u0e4c\\u0e02\\u0e2d\\u0e07\\u0e23\\u0e49\\u0e32\\u0e19 \\u0e17\\u0e35\\u0e48\\u0e01\\u0e25\\u0e34\\u0e48\\u0e19\\u0e04\\u0e48\\u0e2d\\u0e19\\u0e02\\u0e49\\u0e32\\u0e07\\u0e19\\u0e48\\u0e32\\u0e23\\u0e31\\u0e01 \\u0e41\\u0e21\\u0e49\\u0e08\\u0e30\\u0e40\\u0e1b\\u0e47\\u0e19\\u0e41\\u0e1a\\u0e1a\\u0e40\\u0e22\\u0e47\\u0e19 \\u0e01\\u0e32\\u0e41\\u0e1f\\u0e17\\u0e35\\u0e48\\u0e1b\\u0e23\\u0e38\\u0e07\\u0e41\\u0e15\\u0e48\\u0e07\\u0e08\\u0e32\\u0e01\\u0e2a\\u0e39\\u0e15\\u0e23\\u0e40\\u0e14\\u0e47\\u0e14\\u0e02\\u0e2d\\u0e07\\u0e23\\u0e49\\u0e32\\u0e19\\u0e19\\u0e33\\u0e21\\u0e32 Shake \\u0e01\\u0e31\\u0e1a\\u0e19\\u0e49\\u0e33\\u0e41\\u0e02\\u0e47\\u0e07 \\u0e41\\u0e25\\u0e30\\u0e1b\\u0e34\\u0e14\\u0e17\\u0e49\\u0e32\\u0e22\\u0e14\\u0e49\\u0e27\\u0e22\\u0e01\\u0e32\\u0e23\\u0e43\\u0e2a\\u0e48\\u0e1f\\u0e2d\\u0e07\\u0e2d\\u0e32\\u0e01\\u0e32\\u0e28\\u0e41\\u0e17\\u0e23\\u0e01\\u0e40\\u0e02\\u0e49\\u0e32\\u0e44\\u0e1b\\u0e43\\u0e19\\u0e1a\\u0e2d\\u0e14\\u0e35\\u0e49 \\u0e40\\u0e1e\\u0e37\\u0e48\\u0e2d\\u0e40\\u0e1e\\u0e34\\u0e48\\u0e21\\u0e23\\u0e2a\\u0e2a\\u0e31\\u0e21\\u0e1c\\u0e31\\u0e2a\\u0e43\\u0e2b\\u0e49\\u0e21\\u0e35\\u0e04\\u0e27\\u0e32\\u0e21\\u0e25\\u0e37\\u0e48\\u0e19\\u0e25\\u0e30\\u0e21\\u0e38\\u0e19 \\u0e08\\u0e32\\u0e01\\u0e1d\\u0e35\\u0e21\\u0e37\\u0e2d Barista \\u0e2a\\u0e38\\u0e14\\u0e2b\\u0e25\\u0e48\\u0e2d \\u0e17\\u0e33\\u0e43\\u0e2b\\u0e49 After test \\u0e02\\u0e2d\\u0e07\\u0e01\\u0e32\\u0e41\\u0e1f\\u0e41\\u0e01\\u0e49\\u0e27\\u0e19\\u0e35\\u0e49 \\u0e14\\u0e39\\u0e21\\u0e35\\u0e2d\\u0e30\\u0e44\\u0e23\\u0e0b\\u0e48\\u0e2d\\u0e19\\u0e2d\\u0e22\\u0e39\\u0e48\\u0e2d\\u0e22\\u0e48\\u0e32\\u0e07\\u0e19\\u0e48\\u0e32\\u0e2a\\u0e19\\u0e43\\u0e08 \\u0e41\\u0e21\\u0e49\\u0e04\\u0e48\\u0e32\\u0e15\\u0e31\\u0e27\\u0e08\\u0e30\\u0e14\\u0e39\\u0e15\\u0e48\\u0e33\\u0e15\\u0e49\\u0e2d\\u0e22 \\u0e41\\u0e15\\u0e48\\u0e14\\u0e35\\u0e07\\u0e32\\u0e21\\u0e44\\u0e21\\u0e48\\u0e19\\u0e49\\u0e2d\\u0e22 \\u0e19\\u0e48\\u0e32\\u0e1b\\u0e23\\u0e30\\u0e17\\u0e31\\u0e1a\\u0e43\\u0e08\\u0e04\\u0e23\\u0e31\\u0e1a....\\n\\n     - Banoffee chocco freappe ( 85 \\u0e1a\\u0e32\\u0e17 ) ????????????: \\u0e0a\\u0e47\\u0e2d\\u0e01\\u0e42\\u0e01\\u0e41\\u0e25\\u0e15\\u0e17\\u0e35\\u0e48\\u0e1c\\u0e2a\\u0e21\\u0e01\\u0e31\\u0e1a\\u0e44\\u0e0b\\u0e23\\u0e31\\u0e1b\\u0e04\\u0e32\\u0e23\\u0e40\\u0e21\\u0e25\\u0e19\\u0e33\\u0e44\\u0e1b\\u0e1b\\u0e31\\u0e48\\u0e19\\u0e08\\u0e19\\u0e40\\u0e19\\u0e37\\u0e49\\u0e2d\\u0e40\\u0e19\\u0e35\\u0e22\\u0e19\\u0e40\\u0e02\\u0e49\\u0e32\\u0e01\\u0e31\\u0e19\\u0e14\\u0e35 \\u0e44\\u0e21\\u0e48\\u0e21\\u0e35\\u0e40\\u0e01\\u0e23\\u0e47\\u0e14 \\u0e40\\u0e19\\u0e37\\u0e49\\u0e2d\\u0e2d\\u0e2d\\u0e01\\u0e40\\u0e02\\u0e49\\u0e21\\u0e02\\u0e49\\u0e19 \\u0e40\\u0e2b\\u0e19\\u0e35\\u0e22\\u0e21\\u0e2b\\u0e19\\u0e36\\u0e1a\\u0e14\\u0e35\\u0e43\\u0e0a\\u0e49\\u0e44\\u0e14\\u0e49 \\u0e43\\u0e2b\\u0e49\\u0e23\\u0e2a\\u0e2b\\u0e27\\u0e32\\u0e19 \\u0e21\\u0e31\\u0e19\\u0e46 \\u0e44\\u0e14\\u0e49\\u0e43\\u0e08\\u0e1e\\u0e2d\\u0e04\\u0e27\\u0e23 \\u0e1b\\u0e23\\u0e30\\u0e14\\u0e31\\u0e1a\\u0e14\\u0e49\\u0e27\\u0e22\\u0e01\\u0e25\\u0e49\\u0e27\\u0e22\\u0e2b\\u0e2d\\u0e21\\u0e2b\\u0e31\\u0e48\\u0e19 \\u0e41\\u0e25\\u0e30\\u0e0a\\u0e47\\u0e2d\\u0e01\\u0e42\\u0e01\\u0e41\\u0e25\\u0e15\\u0e0a\\u0e34\\u0e1e\\u0e14\\u0e49\\u0e32\\u0e19\\u0e1a\\u0e19 \\u0e1b\\u0e34\\u0e14\\u0e17\\u0e49\\u0e32\\u0e22\\u0e14\\u0e49\\u0e32\\u0e19\\u0e1a\\u0e19\\u0e23\\u0e32\\u0e14\\u0e44\\u0e0b\\u0e23\\u0e31\\u0e1b \\u0e40\\u0e1e\\u0e34\\u0e48\\u0e21\\u0e04\\u0e27\\u0e32\\u0e21\\u0e2b\\u0e27\\u0e32\\u0e19\\u0e21\\u0e31\\u0e19 \\u0e40\\u0e02\\u0e49\\u0e21\\u0e02\\u0e49\\u0e19 \\u0e14\\u0e35\\u0e43\\u0e0a\\u0e49\\u0e44\\u0e14\\u0e49\\u0e40\\u0e25\\u0e22\\u0e04\\u0e23\\u0e31\\u0e1a\\n\\n     - Santa cat set ( 139 \\u0e1a\\u0e32\\u0e17 ) ????????????: \\u0e41\\u0e21\\u0e27\\u0e40\\u0e2b\\u0e21\\u0e35\\u0e22\\u0e27\\u0e08\\u0e21\\u0e39\\u0e01\\u0e1f\\u0e49\\u0e32\\u0e2a\\u0e38\\u0e14\\u0e19\\u0e48\\u0e32\\u0e23\\u0e31\\u0e01\\u0e15\\u0e49\\u0e2d\\u0e19\\u0e23\\u0e31\\u0e1a\\u0e40\\u0e17\\u0e28\\u0e01\\u0e32\\u0e25\\u0e04\\u0e23\\u0e34\\u0e2a\\u0e21\\u0e32\\u0e2a\\u0e17\\u0e4c (\\u0e04\\u0e19\\u0e2d\\u0e48\\u0e32\\u0e19\\u0e16\\u0e32\\u0e21 : \\u0e14\\u0e2d\\u0e07\\u0e23\\u0e35\\u0e27\\u0e34\\u0e27\\u0e2d\\u0e35\\u0e01\\u0e41\\u0e25\\u0e49\\u0e27\\u0e43\\u0e0a\\u0e48\\u0e44\\u0e2b\\u0e21\\u0e04\\u0e48\\u0e30 ...555+) \\u0e0a\\u0e47\\u0e2d\\u0e01\\u0e42\\u0e01\\u0e41\\u0e25\\u0e15\\u0e21\\u0e39\\u0e2a\\u0e40\\u0e19\\u0e37\\u0e49\\u0e2d\\u0e1a\\u0e32\\u0e07\\u0e40\\u0e1a\\u0e32 \\u0e2d\\u0e2d\\u0e01\\u0e2b\\u0e27\\u0e32\\u0e19 \\u0e02\\u0e21 \\u0e40\\u0e02\\u0e49\\u0e21\\u0e14\\u0e35\\u0e43\\u0e0a\\u0e49\\u0e44\\u0e14\\u0e49 \\u0e40\\u0e19\\u0e37\\u0e49\\u0e2d\\u0e25\\u0e30\\u0e21\\u0e38\\u0e19\\u0e46\\u0e25\\u0e30\\u0e40\\u0e2d\\u0e35\\u0e22\\u0e14\\u0e1e\\u0e2d\\u0e04\\u0e27\\u0e23 \\u0e2b\\u0e48\\u0e2d\\u0e2b\\u0e38\\u0e49\\u0e21\\u0e04\\u0e38\\u0e49\\u0e21\\u0e01\\u0e31\\u0e19\\u0e0a\\u0e47\\u0e2d\\u0e01\\u0e42\\u0e01\\u0e41\\u0e25\\u0e15\\u0e17\\u0e35\\u0e48\\u0e2b\\u0e27\\u0e32\\u0e19 \\u0e40\\u0e02\\u0e49\\u0e21\\u0e40\\u0e1b\\u0e47\\u0e19\\u0e01\\u0e49\\u0e2d\\u0e19\\u0e43\\u0e2b\\u0e0d\\u0e48\\u0e2d\\u0e22\\u0e39\\u0e48\\u0e14\\u0e49\\u0e32\\u0e19\\u0e43\\u0e19 \\u0e43\\u0e2b\\u0e49\\u0e44\\u0e14\\u0e49 Surprise \\u0e01\\u0e31\\u0e1a\\u0e15\\u0e31\\u0e1a\\u0e44\\u0e15\\u0e02\\u0e2d\\u0e07\\u0e19\\u0e49\\u0e2d\\u0e07\\u0e40\\u0e2b\\u0e21\\u0e35\\u0e22\\u0e27 555+ \\u0e21\\u0e35\\u0e2b\\u0e21\\u0e27\\u0e01\\u0e27\\u0e34\\u0e1b\\u0e04\\u0e23\\u0e35\\u0e21\\u0e41\\u0e25\\u0e30\\u0e2a\\u0e15\\u0e23\\u0e2d\\u0e40\\u0e1a\\u0e2d\\u0e23\\u0e4c\\u0e23\\u0e35\\u0e48\\u0e2a\\u0e14\\u0e1b\\u0e23\\u0e30\\u0e14\\u0e31\\u0e1a\\u0e44\\u0e27\\u0e49\\u0e14\\u0e49\\u0e32\\u0e19\\u0e1a\\u0e19\\u0e46 \\u0e17\\u0e32\\u0e19\\u0e04\\u0e39\\u0e48\\u0e01\\u0e31\\u0e1a\\u0e04\\u0e31\\u0e2a\\u0e15\\u0e32\\u0e23\\u0e4c\\u0e14\\u0e17\\u0e35\\u0e48\\u0e21\\u0e35\\u0e41\\u0e22\\u0e21\\u0e2a\\u0e15\\u0e23\\u0e2d\\u0e40\\u0e1a\\u0e2d\\u0e23\\u0e4c\\u0e23\\u0e35\\u0e48\\u0e2a\\u0e35\\u0e2a\\u0e27\\u0e22\\u0e19\\u0e2d\\u0e19\\u0e17\\u0e31\\u0e1a\\u0e2d\\u0e22\\u0e39\\u0e48\\u0e14\\u0e49\\u0e32\\u0e19\\u0e1a\\u0e19 \\u0e43\\u0e2b\\u0e49\\u0e23\\u0e2a\\u0e40\\u0e1b\\u0e23\\u0e35\\u0e49\\u0e22\\u0e27\\u0e41\\u0e25\\u0e30\\u0e2b\\u0e27\\u0e32\\u0e19\\u0e15\\u0e31\\u0e14\\u0e01\\u0e31\\u0e19 \\u0e19\\u0e38\\u0e48\\u0e21\\u0e46\\u0e25\\u0e37\\u0e48\\u0e19\\u0e46\\u0e2b\\u0e22\\u0e38\\u0e48\\u0e19\\u0e46\\u0e1e\\u0e2d\\u0e14\\u0e34\\u0e1a\\u0e1e\\u0e2d\\u0e14\\u0e35 \\u0e41\\u0e25\\u0e30\\u0e21\\u0e35\\u0e40\\u0e1e\\u0e37\\u0e48\\u0e2d\\u0e19\\u0e44\\u0e2d\\u0e28\\u0e04\\u0e23\\u0e35\\u0e21\\u0e27\\u0e32\\u0e19\\u0e34\\u0e25\\u0e25\\u0e32\\u0e01\\u0e49\\u0e2d\\u0e19\\u0e42\\u0e15 \\u0e40\\u0e19\\u0e37\\u0e49\\u0e2d\\u0e40\\u0e2b\\u0e25\\u0e37\\u0e2d\\u0e07\\u0e02\\u0e32\\u0e27\\u0e2a\\u0e27\\u0e22 \\u0e40\\u0e19\\u0e35\\u0e22\\u0e19\\u0e1e\\u0e2d\\u0e44\\u0e14\\u0e49 \\u0e23\\u0e2a\\u0e2b\\u0e27\\u0e32\\u0e19 \\u0e2b\\u0e2d\\u0e21\\u0e18\\u0e23\\u0e23\\u0e21\\u0e14\\u0e32\\u0e04\\u0e23\\u0e31\\u0e1a\\n\\n<<\\u0e1b\\u0e34\\u0e14\\u0e15\\u0e25\\u0e32\\u0e14\\u0e0b\\u0e37\\u0e49\\u0e2d\\u0e02\\u0e32\\u0e22 \\u0e40\\u0e02\\u0e35\\u0e22\\u0e27\\u0e2b\\u0e23\\u0e37\\u0e2d\\u0e41\\u0e14\\u0e07\\u0e21\\u0e32\\u0e25\\u0e38\\u0e49\\u0e19>>\\n\\n     >\\u0e23\\u0e2a\\u0e0a\\u0e32\\u0e15\\u0e34 \\u2013 3.5/5 : \\u0e01\\u0e32\\u0e41\\u0e1f\\u0e17\\u0e33\\u0e44\\u0e14\\u0e49\\u0e14\\u0e35\\u0e41\\u0e25\\u0e49\\u0e27\\u0e04\\u0e23\\u0e31\\u0e1a \\u0e21\\u0e35\\u0e04\\u0e27\\u0e32\\u0e21\\u0e40\\u0e1b\\u0e47\\u0e19\\u0e40\\u0e2d\\u0e01\\u0e25\\u0e31\\u0e01\\u0e29\\u0e13\\u0e4c\\u0e14\\u0e35\\u0e43\\u0e0a\\u0e49\\u0e44\\u0e14\\u0e49 \\u0e23\\u0e2a \\u0e01\\u0e25\\u0e34\\u0e48\\u0e19 \\u0e1a\\u0e2d\\u0e14\\u0e35\\u0e49 after test \\u0e21\\u0e32\\u0e43\\u0e19\\u0e40\\u0e01\\u0e13\\u0e11\\u0e4c\\u0e14\\u0e35\\u0e40\\u0e25\\u0e22 \\u0e2d\\u0e35\\u0e01\\u0e41\\u0e01\\u0e49\\u0e27\\u0e22\\u0e31\\u0e07\\u0e44\\u0e21\\u0e48\\u0e1b\\u0e23\\u0e30\\u0e17\\u0e31\\u0e1a\\u0e43\\u0e08\\u0e21\\u0e32\\u0e01\\u0e19\\u0e31\\u0e01 \\u0e23\\u0e39\\u0e49\\u0e2a\\u0e36\\u0e01\\u0e22\\u0e31\\u0e07\\u0e18\\u0e23\\u0e23\\u0e21\\u0e14\\u0e32\\u0e44\\u0e1b\\u0e2b\\u0e19\\u0e48\\u0e2d\\u0e22 \\u0e44\\u0e2d\\u0e40\\u0e14\\u0e35\\u0e22\\u0e14\\u0e35\\u0e41\\u0e25\\u0e49\\u0e27 \\u0e40\\u0e02\\u0e49\\u0e21\\u0e02\\u0e49\\u0e19\\u0e1b\\u0e32\\u0e19\\u0e01\\u0e25\\u0e32\\u0e07 \\u0e41\\u0e15\\u0e48\\u0e01\\u0e25\\u0e34\\u0e48\\u0e19\\u0e44\\u0e21\\u0e48\\u0e21\\u0e32 \\u0e41\\u0e25\\u0e30\\u0e22\\u0e31\\u0e07\\u0e2a\\u0e37\\u0e48\\u0e2d\\u0e44\\u0e21\\u0e48\\u0e16\\u0e36\\u0e07\\u0e23\\u0e2a\\u0e02\\u0e2d\\u0e07\\u0e1b\\u0e25\\u0e32\\u0e22\\u0e17\\u0e32\\u0e07\\u0e04\\u0e23\\u0e31\\u0e1a \\u0e2a\\u0e48\\u0e27\\u0e19\\u0e02\\u0e19\\u0e21\\u0e22\\u0e31\\u0e07\\u0e44\\u0e21\\u0e48\\u0e2a\\u0e38\\u0e14\\u0e40\\u0e0a\\u0e48\\u0e19\\u0e01\\u0e31\\u0e19\\u0e04\\u0e23\\u0e31\\u0e1a \\u0e22\\u0e31\\u0e07\\u0e44\\u0e21\\u0e48\\u0e40\\u0e02\\u0e49\\u0e21\\u0e02\\u0e49\\u0e19 \\u0e2b\\u0e27\\u0e32\\u0e19\\u0e21\\u0e31\\u0e19\\u0e14\\u0e31\\u0e48\\u0e07\\u0e04\\u0e27\\u0e32\\u0e21\\u0e1e\\u0e36\\u0e07\\u0e1e\\u0e2d\\u0e43\\u0e08 \\u0e23\\u0e2a\\u0e0a\\u0e32\\u0e15\\u0e34\\u0e14\\u0e35\\u0e43\\u0e0a\\u0e49\\u0e44\\u0e14\\u0e49 \\u0e27\\u0e31\\u0e15\\u0e16\\u0e38\\u0e14\\u0e35\\u0e08\\u0e31\\u0e14\\u0e40\\u0e15\\u0e47\\u0e21\\u0e1e\\u0e2d\\u0e2a\\u0e21\\u0e04\\u0e27\\u0e23  \\u0e04\\u0e27\\u0e32\\u0e21\\u0e2b\\u0e2d\\u0e21\\u0e22\\u0e31\\u0e07\\u0e44\\u0e21\\u0e48\\u0e0a\\u0e31\\u0e14\\u0e40\\u0e14\\u0e48\\u0e19 \\u0e2a\\u0e35\\u0e2a\\u0e35\\u0e19\\u0e19\\u0e48\\u0e32\\u0e17\\u0e32\\u0e19\\u0e14\\u0e35\\u0e43\\u0e0a\\u0e49\\u0e44\\u0e14\\u0e49\\u0e04\\u0e23\\u0e31\\u0e1a \\u0e14\\u0e49\\u0e27\\u0e22\\u0e04\\u0e27\\u0e32\\u0e21\\u0e40\\u0e04\\u0e32\\u0e23\\u0e1e...\\n\\n     >\\u0e23\\u0e32\\u0e04\\u0e32 \\u2013 4/5 : \\u0e04\\u0e1a\\u0e2b\\u0e32\\u0e44\\u0e14\\u0e49 \\u0e09\\u0e31\\u0e19\\u0e21\\u0e34\\u0e15\\u0e23\\u0e2a\\u0e19\\u0e34\\u0e17 \\u0e23\\u0e32\\u0e04\\u0e32\\u0e19\\u0e38\\u0e48\\u0e19\\u0e08\\u0e19\\u0e19\\u0e48\\u0e32\\u0e2a\\u0e19\\u0e43\\u0e08\\u0e44\\u0e21\\u0e48\\u0e19\\u0e49\\u0e2d\\u0e22\\u0e40\\u0e25\\u0e22 (\\u0e43\\u0e19\\u0e1a\\u0e32\\u0e07\\u0e40\\u0e21\\u0e19\\u0e39 555+) \\u0e04\\u0e38\\u0e13\\u0e20\\u0e32\\u0e1e\\u0e2d\\u0e22\\u0e39\\u0e48\\u0e43\\u0e19\\u0e40\\u0e01\\u0e13\\u0e11\\u0e4c\\u0e14\\u0e35 \\u0e19\\u0e48\\u0e32\\u0e1e\\u0e36\\u0e07\\u0e1e\\u0e2d\\u0e43\\u0e08\\u0e17\\u0e31\\u0e49\\u0e07\\u0e27\\u0e31\\u0e15\\u0e16\\u0e38\\u0e14\\u0e34\\u0e1a\\u0e41\\u0e25\\u0e30\\u0e1b\\u0e23\\u0e34\\u0e21\\u0e32\\u0e13 \\u0e02\\u0e19\\u0e21\\u0e1b\\u0e23\\u0e34\\u0e21\\u0e32\\u0e13\\u0e14\\u0e39\\u0e40\\u0e2b\\u0e21\\u0e32\\u0e30\\u0e2a\\u0e21\\u0e42\\u0e2d\\u0e40\\u0e04 \\u0e04\\u0e38\\u0e13\\u0e20\\u0e32\\u0e1e\\u0e14\\u0e39\\u0e14\\u0e35\\u0e43\\u0e0a\\u0e49\\u0e44\\u0e14\\u0e49 \\u0e41\\u0e21\\u0e49\\u0e22\\u0e31\\u0e07\\u0e44\\u0e21\\u0e48\\u0e27\\u0e49\\u0e32\\u0e27\\u0e41\\u0e1a\\u0e1a\\u0e1b\\u0e32\\u0e01\\u0e01\\u0e27\\u0e49\\u0e32\\u0e07\\u0e01\\u0e47\\u0e15\\u0e32\\u0e21 \\u0e19\\u0e49\\u0e33\\u0e14\\u0e37\\u0e48\\u0e21\\u0e1f\\u0e23\\u0e35\\u0e21\\u0e35\\u0e43\\u0e2b\\u0e49\\u0e1a\\u0e23\\u0e34\\u0e01\\u0e32\\u0e23\\u0e15\\u0e31\\u0e27\\u0e40\\u0e2d\\u0e07 \\u0e40\\u0e08\\u0e2d\\u0e44\\u0e1b\\u0e41\\u0e04\\u0e48\\u0e19\\u0e35\\u0e49 \\u0e19\\u0e49\\u0e2d\\u0e07 GB \\u0e01\\u0e47 Happy \\u0e14\\u0e35\\u0e4a\\u0e14\\u0e35\\u0e41\\u0e25\\u0e49\\u0e27\\u0e08\\u0e4a\\u0e30\\n\\n     >\\u0e1a\\u0e23\\u0e23\\u0e22\\u0e32\\u0e01\\u0e32\\u0e28 \\u2013 3.5/5 : \\u0e23\\u0e49\\u0e32\\u0e19\\u0e02\\u0e19\\u0e32\\u0e14\\u0e1e\\u0e2d\\u0e14\\u0e35\\u0e46\\u0e04\\u0e23\\u0e31\\u0e1a \\u0e44\\u0e21\\u0e48\\u0e44\\u0e14\\u0e49\\u0e01\\u0e27\\u0e49\\u0e32\\u0e07\\u0e02\\u0e27\\u0e32\\u0e07\\u0e43\\u0e2b\\u0e0d\\u0e48\\u0e42\\u0e15\\u0e21\\u0e32\\u0e01\\u0e21\\u0e32\\u0e22\\u0e41\\u0e15\\u0e48\\u0e01\\u0e47\\u0e19\\u0e31\\u0e48\\u0e07\\u0e2a\\u0e1a\\u0e32\\u0e22\\u0e46\\u0e1e\\u0e2d\\u0e2a\\u0e21\\u0e04\\u0e27\\u0e23 \\u0e14\\u0e49\\u0e27\\u0e22\\u0e40\\u0e01\\u0e49\\u0e32\\u0e2d\\u0e35\\u0e49\\u0e2a\\u0e35\\u0e41\\u0e14\\u0e07\\u0e41\\u0e1b\\u0e23\\u0e4a\\u0e14\\u0e41\\u0e15\\u0e48\\u0e19\\u0e31\\u0e48\\u0e07\\u0e19\\u0e34\\u0e48\\u0e21\\u0e46\\u0e19\\u0e38\\u0e48\\u0e21\\u0e46\\u0e14\\u0e35 \\u0e17\\u0e32\\u0e19\\u0e01\\u0e31\\u0e1a\\u0e42\\u0e15\\u0e4a\\u0e30\\u0e41\\u0e1a\\u0e1a\\u0e01\\u0e25\\u0e21 5-6 \\u0e17\\u0e35\\u0e48 \\u0e17\\u0e35\\u0e48\\u0e04\\u0e48\\u0e2d\\u0e19\\u0e02\\u0e49\\u0e32\\u0e07\\u0e40\\u0e25\\u0e47\\u0e01\\u0e44\\u0e1b\\u0e19\\u0e34\\u0e14 \\u0e27\\u0e32\\u0e07\\u0e02\\u0e19\\u0e21\\u0e19\\u0e49\\u0e33\\u0e17\\u0e35\\u0e19\\u0e35\\u0e48\\u0e40\\u0e15\\u0e47\\u0e21\\u0e42\\u0e15\\u0e4a\\u0e30\\u0e44\\u0e21\\u0e48\\u0e40\\u0e1a\\u0e32 555+ \\u0e41\\u0e2d\\u0e23\\u0e4c\\u0e40\\u0e22\\u0e47\\u0e19\\u0e2a\\u0e1a\\u0e32\\u0e22\\u0e46 \\u0e40\\u0e1b\\u0e47\\u0e19\\u0e23\\u0e30\\u0e40\\u0e1a\\u0e35\\u0e22\\u0e1a\\u0e41\\u0e25\\u0e30\\u0e2a\\u0e30\\u0e2d\\u0e32\\u0e14\\u0e2a\\u0e30\\u0e2d\\u0e49\\u0e32\\u0e19\\u0e14\\u0e35\\u0e04\\u0e23\\u0e31\\u0e1a\\n\\n     >\\u0e1a\\u0e23\\u0e34\\u0e01\\u0e32\\u0e23 \\u2013 4.5/5 : \\u0e19\\u0e49\\u0e2d\\u0e07\\u0e17\\u0e35\\u0e48\\u0e15\\u0e49\\u0e2d\\u0e19\\u0e23\\u0e31\\u0e1a\\u0e40\\u0e23\\u0e32\\u0e41\\u0e25\\u0e30 Barista \\u0e17\\u0e35\\u0e48\\u0e04\\u0e32\\u0e14\\u0e27\\u0e48\\u0e32\\u0e08\\u0e30\\u0e40\\u0e1b\\u0e47\\u0e19\\u0e40\\u0e08\\u0e49\\u0e32\\u0e02\\u0e2d\\u0e07\\u0e23\\u0e49\\u0e32\\u0e19 \\u0e14\\u0e39\\u0e41\\u0e25\\u0e40\\u0e23\\u0e32\\u0e40\\u0e1b\\u0e47\\u0e19\\u0e2d\\u0e22\\u0e48\\u0e32\\u0e07\\u0e14\\u0e35\\u0e04\\u0e23\\u0e31\\u0e1a \\u0e22\\u0e34\\u0e49\\u0e21\\u0e41\\u0e22\\u0e49\\u0e21\\u0e41\\u0e08\\u0e48\\u0e21\\u0e43\\u0e2a\\u0e41\\u0e25\\u0e30\\u0e1e\\u0e39\\u0e14\\u0e08\\u0e32\\u0e2a\\u0e38\\u0e20\\u0e32\\u0e1e\\u0e40\\u0e23\\u0e35\\u0e22\\u0e1a\\u0e23\\u0e49\\u0e2d\\u0e22 \\u0e41\\u0e21\\u0e49\\u0e08\\u0e30\\u0e2d\\u0e2d\\u0e01\\u0e40\\u0e1a\\u0e32\\u0e46\\u0e44\\u0e1b\\u0e2b\\u0e19\\u0e48\\u0e2d\\u0e22 555+ \\u0e43\\u0e2b\\u0e49\\u0e04\\u0e33\\u0e41\\u0e19\\u0e30\\u0e19\\u0e33\\u0e14\\u0e35 \\u0e19\\u0e33\\u0e40\\u0e2a\\u0e34\\u0e23\\u0e4c\\u0e1f\\u0e16\\u0e36\\u0e07\\u0e42\\u0e15\\u0e4a\\u0e30 \\u0e17\\u0e48\\u0e32\\u0e17\\u0e32\\u0e07\\u0e14\\u0e35\\u0e07\\u0e32\\u0e21 \\u0e1b\\u0e23\\u0e30\\u0e19\\u0e1a\\u0e19\\u0e49\\u0e2d\\u0e21 \\u0e02\\u0e2d\\u0e1a\\u0e04\\u0e38\\u0e13\\u0e17\\u0e38\\u0e01\\u0e01\\u0e23\\u0e30\\u0e1a\\u0e27\\u0e19\\u0e17\\u0e48\\u0e32\\u0e02\\u0e2d\\u0e07\\u0e40\\u0e23\\u0e32 555+ \\u0e40\\u0e0a\\u0e35\\u0e22\\u0e23\\u0e4c\\u0e41\\u0e02\\u0e01\\u0e14\\u0e35\\u0e43\\u0e0a\\u0e49\\u0e44\\u0e14\\u0e49 \\u0e19\\u0e48\\u0e32\\u0e40\\u0e2a\\u0e35\\u0e22\\u0e14\\u0e32\\u0e22\\u0e44\\u0e1b\\u0e2b\\u0e19\\u0e48\\u0e2d\\u0e22 \\u0e16\\u0e49\\u0e32\\u0e1a\\u0e2d\\u0e01\\u0e40\\u0e23\\u0e37\\u0e48\\u0e2d\\u0e07\\u0e19\\u0e49\\u0e33\\u0e14\\u0e37\\u0e48\\u0e21\\u0e1f\\u0e23\\u0e35\\u0e17\\u0e35\\u0e48\\u0e2b\\u0e31\\u0e27\\u0e21\\u0e38\\u0e21\\u0e40\\u0e1e\\u0e34\\u0e48\\u0e21 \\u0e2a\\u0e33\\u0e2b\\u0e23\\u0e31\\u0e1a\\u0e25\\u0e39\\u0e01\\u0e04\\u0e49\\u0e32\\u0e17\\u0e35\\u0e48\\u0e40\\u0e02\\u0e49\\u0e32\\u0e21\\u0e32\\u0e41\\u0e25\\u0e49\\u0e27 \\u0e08\\u0e30\\u0e14\\u0e35\\u0e07\\u0e32\\u0e21\\u0e44\\u0e21\\u0e48\\u0e19\\u0e49\\u0e2d\\u0e22\\u0e04\\u0e23\\u0e31\\u0e1a \\u0e01\\u0e32\\u0e23\\u0e40\\u0e15\\u0e23\\u0e35\\u0e22\\u0e21\\u0e2d\\u0e32\\u0e2b\\u0e32\\u0e23\\u0e23\\u0e27\\u0e14\\u0e40\\u0e23\\u0e47\\u0e27\\u0e14\\u0e35\\u0e43\\u0e0a\\u0e49\\u0e44\\u0e14\\u0e49 \\u0e2a\\u0e16\\u0e32\\u0e19\\u0e17\\u0e35\\u0e48\\u0e08\\u0e2d\\u0e14\\u0e23\\u0e16\\u0e1e\\u0e2d\\u0e1e\\u0e36\\u0e48\\u0e07\\u0e1e\\u0e32\\u0e44\\u0e14\\u0e49\\u0e43\\u0e19\\u0e23\\u0e30\\u0e14\\u0e31\\u0e1a\\u0e19\\u0e36\\u0e07\\u0e04\\u0e23\\u0e31\\u0e1a\\n\\n<< \\u0e1b\\u0e23\\u0e30\\u0e01\\u0e32\\u0e28\\u0e1c\\u0e25\\u0e1b\\u0e23\\u0e30\\u0e01\\u0e2d\\u0e1a\\u0e01\\u0e32\\u0e23 >>\\n\\n     \\u0e25\\u0e07\\u0e17\\u0e38\\u0e19\\u0e41\\u0e25\\u0e49\\u0e27 \\u0e14\\u0e39\\u0e41\\u0e25\\u0e14\\u0e35 \\u0e21\\u0e35\\u0e01\\u0e33\\u0e44\\u0e23\\u0e41\\u0e1a\\u0e1a\\u0e19\\u0e35\\u0e49 \\u0e1e\\u0e35\\u0e48\\u0e15\\u0e49\\u0e2d\\u0e07\\u0e15\\u0e32\\u0e21\\u0e15\\u0e34\\u0e14\\u0e1c\\u0e25\\u0e01\\u0e31\\u0e19\\u0e22\\u0e32\\u0e27\\u0e46\\u0e41\\u0e19\\u0e48\\u0e08\\u0e4a\\u0e30\\n\\n ===================================\\n\\n     \\u201c \\u0e23\\u0e35\\u0e27\\u0e34\\u0e27\\u0e17\\u0e38\\u0e01\\u0e09\\u0e1a\\u0e31\\u0e1a \\u0e44\\u0e21\\u0e48\\u0e40\\u0e2b\\u0e21\\u0e32\\u0e30\\u0e2a\\u0e33\\u0e2b\\u0e23\\u0e31\\u0e1a\\u0e40\\u0e08\\u0e49\\u0e32\\u0e02\\u0e2d\\u0e07\\u0e23\\u0e49\\u0e32\\u0e19\\u0e43\\u0e08\\u0e41\\u0e04\\u0e1a \\u0e2b\\u0e25\\u0e07\\u0e43\\u0e2b\\u0e25 \\u0e2b\\u0e21\\u0e01\\u0e21\\u0e38\\u0e48\\u0e19 \\u0e41\\u0e25\\u0e30\\u0e1c\\u0e39\\u0e49\\u0e17\\u0e35\\u0e48\\u0e44\\u0e21\\u0e48\\u0e23\\u0e39\\u0e49\\u0e08\\u0e31\\u0e01\\u0e1c\\u0e34\\u0e14\\u0e0a\\u0e2d\\u0e1a\\u0e0a\\u0e31\\u0e48\\u0e27\\u0e14\\u0e35\\u0e02\\u0e2d\\u0e07\\u0e15\\u0e19\\u0e40\\u0e2d\\u0e07 \\u0e42\\u0e1b\\u0e23\\u0e14\\u0e2d\\u0e22\\u0e48\\u0e32\\u0e17\\u0e33\\u0e15\\u0e31\\u0e27\\u0e42\\u0e25\\u0e01\\u0e41\\u0e04\\u0e1a \\u0e04\\u0e27\\u0e23\\u0e2b\\u0e31\\u0e14\\u0e40\\u0e1b\\u0e34\\u0e14\\u0e2b\\u0e39\\u0e40\\u0e1b\\u0e34\\u0e14\\u0e15\\u0e32\\u0e40\\u0e1b\\u0e34\\u0e14\\u0e01\\u0e30\\u0e25\\u0e32\\u0e40\\u0e1b\\u0e34\\u0e14\\u0e43\\u0e08\\u0e01\\u0e31\\u0e19\\u0e1a\\u0e49\\u0e32\\u0e07 \\u0e40\\u0e1e\\u0e37\\u0e48\\u0e2d\\u0e01\\u0e32\\u0e23\\u0e1b\\u0e23\\u0e31\\u0e1a\\u0e1b\\u0e23\\u0e38\\u0e07\\u0e43\\u0e19\\u0e17\\u0e38\\u0e01\\u0e46\\u0e14\\u0e49\\u0e32\\u0e19 \\u0e25\\u0e39\\u0e01\\u0e04\\u0e49\\u0e32\\u0e04\\u0e37\\u0e2d\\u0e1e\\u0e23\\u0e30\\u0e40\\u0e08\\u0e49\\u0e32 \\u0e1e\\u0e23\\u0e30\\u0e40\\u0e08\\u0e49\\u0e32\\u0e21\\u0e35\\u0e14\\u0e35 \\u0e21\\u0e35\\u0e07\\u0e35\\u0e48\\u0e40\\u0e07\\u0e48\\u0e32\\u0e1a\\u0e49\\u0e32\\u0e07 \\u0e21\\u0e31\\u0e19\\u0e40\\u0e1b\\u0e47\\u0e19\\u0e40\\u0e23\\u0e37\\u0e48\\u0e2d\\u0e07\\u0e1b\\u0e01\\u0e15\\u0e34 \\u0e41\\u0e15\\u0e48...\\u0e1e\\u0e23\\u0e30\\u0e40\\u0e08\\u0e49\\u0e32\\u0e40\\u0e2d\\u0e32\\u0e15\\u0e31\\u0e07\\u0e21\\u0e32\\u0e43\\u0e2b\\u0e49\\u0e04\\u0e38\\u0e13\\u0e43\\u0e0a\\u0e49 \\u0e44\\u0e21\\u0e48\\u0e44\\u0e14\\u0e49\\u0e02\\u0e2d\\u0e17\\u0e32\\u0e19\\u0e1f\\u0e23\\u0e35\\u0e19\\u0e30\\u0e04\\u0e23\\u0e31\\u0e1a \\u201d\\n\\nJust enjoy it\\u2026!!!  Flamboyant and frank review by GB.\\n\\n\",\n          \"\\u0e23\\u0e49\\u0e32\\u0e19 Buttercup \\u0e23\\u0e49\\u0e32\\u0e19\\u0e01\\u0e32\\u0e41\\u0e1f\\u0e1a\\u0e23\\u0e23\\u0e22\\u0e32\\u0e01\\u0e32\\u0e28\\u0e14\\u0e35\\u0e21\\u0e32\\u0e01\\u0e46 \\u0e2d\\u0e22\\u0e39\\u0e48\\u0e43\\u0e19\\u0e0b\\u0e2d\\u0e22\\u0e28\\u0e39\\u0e19\\u0e22\\u0e4c\\u0e27\\u0e34\\u0e08\\u0e31\\u0e22 \\u0e0a\\u0e31\\u0e49\\u0e19\\u0e25\\u0e48\\u0e32\\u0e07\\u0e02\\u0e2d\\u0e07\\u0e42\\u0e23\\u0e07\\u0e41\\u0e23\\u0e21 Amari Residence \\u0e2a\\u0e32\\u0e21\\u0e32\\u0e23\\u0e16\\u0e08\\u0e2d\\u0e14\\u0e23\\u0e16\\u0e44\\u0e14\\u0e49\\u0e17\\u0e35\\u0e48\\u0e14\\u0e49\\u0e32\\u0e19\\u0e2b\\u0e19\\u0e49\\u0e32\\u0e2b\\u0e23\\u0e37\\u0e2d\\u0e40\\u0e02\\u0e49\\u0e32\\u0e21\\u0e32\\u0e08\\u0e2d\\u0e14\\u0e0a\\u0e31\\u0e49\\u0e19\\u0e08\\u0e2d\\u0e14\\u0e23\\u0e16\\u0e02\\u0e2d\\u0e07\\u0e42\\u0e23\\u0e07\\u0e41\\u0e23\\u0e21\\u0e01\\u0e47\\u0e44\\u0e14\\u0e49\\u0e40\\u0e25\\u0e22\\u0e04\\u0e48\\u0e30 \\u0e23\\u0e49\\u0e32\\u0e19\\u0e15\\u0e01\\u0e41\\u0e15\\u0e48\\u0e07\\u0e2a\\u0e27\\u0e22\\u0e21\\u0e32\\u0e01\\u0e2d\\u0e1a\\u0e2d\\u0e38\\u0e48\\u0e19\\u0e14\\u0e49\\u0e27\\u0e22\\u0e42\\u0e17\\u0e19\\u0e2a\\u0e35\\u0e40\\u0e2b\\u0e25\\u0e37\\u0e2d\\u0e07 \\u0e40\\u0e14\\u0e34\\u0e19\\u0e40\\u0e02\\u0e49\\u0e32\\u0e21\\u0e32\\u0e08\\u0e30\\u0e1e\\u0e1a\\u0e01\\u0e31\\u0e1a\\u0e40\\u0e04\\u0e32\\u0e17\\u0e4c\\u0e40\\u0e15\\u0e2d\\u0e23\\u0e4c\\u0e44\\u0e21\\u0e49\\u0e02\\u0e19\\u0e32\\u0e14\\u0e43\\u0e2b\\u0e0d\\u0e48 \\u0e21\\u0e35\\u0e15\\u0e39\\u0e49\\u0e40\\u0e04\\u0e49\\u0e01\\u0e08\\u0e23\\u0e07\\u0e40\\u0e04\\u0e32\\u0e23\\u0e4c\\u0e40\\u0e15\\u0e2d\\u0e23\\u0e4c\\u0e43\\u0e2b\\u0e49\\u0e40\\u0e25\\u0e37\\u0e2d\\u0e01\\u0e02\\u0e19\\u0e21\\u0e1b\\u0e31\\u0e07\\u0e41\\u0e25\\u0e30\\u0e40\\u0e04\\u0e49\\u0e01 \\u0e42\\u0e15\\u0e4a\\u0e30\\u0e17\\u0e35\\u0e48\\u0e19\\u0e31\\u0e48\\u0e07\\u0e20\\u0e32\\u0e22\\u0e43\\u0e19\\u0e23\\u0e49\\u0e32\\u0e19\\u0e08\\u0e30\\u0e40\\u0e1b\\u0e47\\u0e19\\u0e40\\u0e2b\\u0e21\\u0e37\\u0e2d\\u0e19\\u0e0a\\u0e38\\u0e14\\u0e42\\u0e0b\\u0e1f\\u0e32\\u0e23\\u0e31\\u0e1a\\u0e41\\u0e02\\u0e01\\u0e44\\u0e21\\u0e49\\u0e01\\u0e31\\u0e1a\\u0e1c\\u0e49\\u0e32\\u0e2a\\u0e35\\u0e40\\u0e2b\\u0e25\\u0e37\\u0e2d\\u0e07\\u0e2a\\u0e14\\u0e43\\u0e2a \\u0e01\\u0e32\\u0e23\\u0e08\\u0e31\\u0e14\\u0e27\\u0e32\\u0e07\\u0e42\\u0e15\\u0e4a\\u0e30\\u0e20\\u0e32\\u0e22\\u0e43\\u0e19\\u0e23\\u0e49\\u0e32\\u0e19\\u0e44\\u0e21\\u0e48\\u0e0a\\u0e34\\u0e14\\u0e01\\u0e31\\u0e19\\u0e21\\u0e32\\u0e01 \\u0e17\\u0e33\\u0e43\\u0e2b\\u0e49\\u0e44\\u0e21\\u0e48\\u0e23\\u0e39\\u0e49\\u0e2a\\u0e36\\u0e01\\u0e2d\\u0e36\\u0e14\\u0e2d\\u0e31\\u0e14 \\u0e2b\\u0e23\\u0e37\\u0e2d\\u0e08\\u0e30\\u0e40\\u0e25\\u0e37\\u0e2d\\u0e01\\u0e19\\u0e31\\u0e48\\u0e07\\u0e42\\u0e0b\\u0e19 outdoor \\u0e19\\u0e2d\\u0e01\\u0e23\\u0e49\\u0e32\\u0e19\\u0e0a\\u0e21\\u0e27\\u0e34\\u0e27\\u0e2a\\u0e27\\u0e19\\u0e01\\u0e47\\u0e44\\u0e14\\u0e49\\u0e1a\\u0e23\\u0e23\\u0e22\\u0e32\\u0e01\\u0e32\\u0e28\\u0e44\\u0e1b\\u0e2d\\u0e35\\u0e01\\u0e41\\u0e1a\\u0e1a\\u0e19\\u0e30\\u0e04\\u0e30 \\u0e1e\\u0e19\\u0e31\\u0e01\\u0e07\\u0e32\\u0e19\\u0e1a\\u0e1a\\u0e23\\u0e34\\u0e01\\u0e32\\u0e23\\u0e14\\u0e35\\u0e04\\u0e48\\u0e30\\u0e41\\u0e15\\u0e48\\u0e41\\u0e2d\\u0e23\\u0e4c\\u0e44\\u0e1b\\u0e2b\\u0e19\\u0e48\\u0e2d\\u0e22\"\n        ],\n        \"semantic_type\": \"\",\n        \"description\": \"\"\n      }\n    },\n    {\n      \"column\": \"column1\",\n      \"properties\": {\n        \"dtype\": \"number\",\n        \"std\": 0,\n        \"min\": 1,\n        \"max\": 5,\n        \"num_unique_values\": 5,\n        \"samples\": [\n          4,\n          2,\n          5\n        ],\n        \"semantic_type\": \"\",\n        \"description\": \"\"\n      }\n    }\n  ]\n}"
            }
          },
          "metadata": {},
          "execution_count": 88
        }
      ],
      "source": [
        "coffee_reviews_df.head()"
      ]
    },
    {
      "cell_type": "code",
      "execution_count": 89,
      "metadata": {
        "colab": {
          "base_uri": "https://localhost:8080/"
        },
        "id": "-TqMq9k1zf8i",
        "outputId": "09781c3f-3e0f-46d8-c027-244e462fee4b"
      },
      "outputs": [
        {
          "output_type": "execute_result",
          "data": {
            "text/plain": [
              "(4981, 2)"
            ]
          },
          "metadata": {},
          "execution_count": 89
        }
      ],
      "source": [
        "coffee_reviews_df.shape"
      ]
    },
    {
      "cell_type": "code",
      "execution_count": 90,
      "metadata": {
        "colab": {
          "base_uri": "https://localhost:8080/"
        },
        "id": "ay1FD9VRzjgc",
        "outputId": "22ab6e32-61ce-4aaf-f356-f57a427b41f2"
      },
      "outputs": [
        {
          "output_type": "stream",
          "name": "stdout",
          "text": [
            ">>> Cleaning up old version at /usr/local/lib/ollama\n",
            ">>> Installing ollama to /usr/local\n",
            ">>> Downloading Linux amd64 bundle\n",
            "######################################################################## 100.0%\n",
            ">>> Adding ollama user to video group...\n",
            ">>> Adding current user to ollama group...\n",
            ">>> Creating ollama systemd service...\n",
            "\u001b[1m\u001b[31mWARNING:\u001b[m systemd is not running\n",
            "\u001b[1m\u001b[31mWARNING:\u001b[m Unable to detect NVIDIA/AMD GPU. Install lspci or lshw to automatically detect and install GPU dependencies.\n",
            ">>> The Ollama API is now available at 127.0.0.1:11434.\n",
            ">>> Install complete. Run \"ollama\" from the command line.\n"
          ]
        }
      ],
      "source": [
        "!curl -fsSL https://ollama.com/install.sh | sh"
      ]
    },
    {
      "cell_type": "code",
      "execution_count": 91,
      "metadata": {
        "colab": {
          "base_uri": "https://localhost:8080/"
        },
        "id": "jv0eZGD_zlqo",
        "outputId": "9797bedf-0466-4238-8fad-d4abcdc749d1"
      },
      "outputs": [
        {
          "output_type": "stream",
          "name": "stdout",
          "text": [
            "nohup: appending output to 'nohup.out'\n"
          ]
        }
      ],
      "source": [
        "!nohup ollama serve &"
      ]
    },
    {
      "cell_type": "code",
      "execution_count": 92,
      "metadata": {
        "colab": {
          "base_uri": "https://localhost:8080/"
        },
        "id": "8BLlY-fAz1cE",
        "outputId": "eab66f38-df8f-42f8-e50d-ed9acd2f80cb"
      },
      "outputs": [
        {
          "output_type": "stream",
          "name": "stdout",
          "text": [
            "\u001b[?2026h\u001b[?25l\u001b[1G\u001b[?25h\u001b[?2026l\u001b[?2026h\u001b[?25l\u001b[1G\u001b[?25h\u001b[?2026l\u001b[?2026h\u001b[?25l\u001b[1G\u001b[?25h\u001b[?2026l\u001b[?2026h\u001b[?25l\u001b[1G\u001b[?25h\u001b[?2026l\u001b[?2026h\u001b[?25l\u001b[1G\u001b[?25h\u001b[?2026l\n"
          ]
        }
      ],
      "source": [
        "!ollama pull gemma3:270m"
      ]
    },
    {
      "cell_type": "code",
      "execution_count": 93,
      "metadata": {
        "colab": {
          "base_uri": "https://localhost:8080/"
        },
        "id": "ewB5T6MHz3Mp",
        "outputId": "09c8b74f-1442-4b17-de52-71e114694327"
      },
      "outputs": [
        {
          "output_type": "stream",
          "name": "stdout",
          "text": [
            "NAME                                  ID              SIZE      MODIFIED               \n",
            "gemma3:270m                           e7d36fb2c3b3    291 MB    Less than a second ago    \n",
            "scb10x/typhoon2.1-gemma3-4b:latest    8cfab9097c9d    2.6 GB    4 minutes ago             \n"
          ]
        }
      ],
      "source": [
        "!ollama list"
      ]
    },
    {
      "cell_type": "code",
      "execution_count": 94,
      "metadata": {
        "colab": {
          "base_uri": "https://localhost:8080/"
        },
        "id": "74_f4dI0z8lU",
        "outputId": "d82139f6-893a-4281-97a0-bd70312c445d"
      },
      "outputs": [
        {
          "output_type": "stream",
          "name": "stdout",
          "text": [
            "\u001b[?2026h\u001b[?25l\u001b[1G\u001b[?25h\u001b[?2026l\u001b[?2026h\u001b[?25l\u001b[1G\u001b[?25h\u001b[?2026l\u001b[?25l\u001b[?2026h\u001b[?25l\u001b[1G\u001b[?25h\u001b[?2026l\u001b[2K\u001b[1G\u001b[?25hสวัสดี\u001b[?25l\u001b[?25hค่ะ\u001b[?25l\u001b[?25h 😊\u001b[?25l\u001b[?25h\n",
            "\n",
            "\u001b[?25l\u001b[?25h"
          ]
        }
      ],
      "source": [
        "!ollama run gemma3:270m \"สวัสดี\""
      ]
    },
    {
      "cell_type": "code",
      "execution_count": 95,
      "metadata": {
        "colab": {
          "base_uri": "https://localhost:8080/"
        },
        "id": "CrOX2VZuz_-E",
        "outputId": "95adf31a-41b2-4844-a2a6-78ac09d61ad1"
      },
      "outputs": [
        {
          "output_type": "stream",
          "name": "stdout",
          "text": [
            "{\"models\":[{\"name\":\"gemma3:270m\",\"model\":\"gemma3:270m\",\"modified_at\":\"2025-10-20T17:12:54.210394265Z\",\"size\":291554930,\"digest\":\"e7d36fb2c3b3293cfe56d55889867a064b3a2b22e98335f2e6e8a387e081d6be\",\"details\":{\"parent_model\":\"\",\"format\":\"gguf\",\"family\":\"gemma3\",\"families\":[\"gemma3\"],\"parameter_size\":\"268.10M\",\"quantization_level\":\"Q8_0\"}},{\"name\":\"scb10x/typhoon2.1-gemma3-4b:latest\",\"model\":\"scb10x/typhoon2.1-gemma3-4b:latest\",\"modified_at\":\"2025-10-20T17:08:38.863005099Z\",\"size\":2615662352,\"digest\":\"8cfab9097c9d142fa16c7556826c9a7874f4642ac6d575e2d66a4f4979c48b76\",\"details\":{\"parent_model\":\"\",\"format\":\"gguf\",\"family\":\"gemma3\",\"families\":[\"gemma3\"],\"parameter_size\":\"3.9B\",\"quantization_level\":\"Q4_K_M\"}}]}"
          ]
        }
      ],
      "source": [
        "!curl -s http://127.0.0.1:11434/api/tags"
      ]
    },
    {
      "cell_type": "code",
      "execution_count": 96,
      "metadata": {
        "id": "0Z1jJxku0KJZ"
      },
      "outputs": [],
      "source": [
        "from langchain_ollama import OllamaLLM\n",
        "from langchain_core.prompts import PromptTemplate\n",
        "from langchain_core.output_parsers import StrOutputParser"
      ]
    },
    {
      "cell_type": "code",
      "execution_count": 97,
      "metadata": {
        "id": "6lVQAKm50QvX"
      },
      "outputs": [],
      "source": [
        "llm = OllamaLLM(model=\"gemma3:270m\")"
      ]
    },
    {
      "cell_type": "code",
      "execution_count": 98,
      "metadata": {
        "colab": {
          "base_uri": "https://localhost:8080/"
        },
        "id": "IzjrTfJs0jw9",
        "outputId": "4c28690c-1646-49b1-f85c-5278c1ab1494"
      },
      "outputs": [
        {
          "output_type": "stream",
          "name": "stdout",
          "text": [
            "สวัสดีค่ะ 😊\n",
            "\n"
          ]
        }
      ],
      "source": [
        "response = llm.invoke(\"สวัสดี\")\n",
        "print(response)"
      ]
    },
    {
      "cell_type": "code",
      "execution_count": 99,
      "metadata": {
        "id": "Kj98s3Kn0neb"
      },
      "outputs": [],
      "source": [
        "template = \"\"\"\n",
        "คุณเป็นครูสอน Python\n",
        "คำถาม : {question}\n",
        "\"\"\""
      ]
    },
    {
      "cell_type": "code",
      "execution_count": 100,
      "metadata": {
        "id": "ztqYzqVl2NSU"
      },
      "outputs": [],
      "source": [
        "prompt = PromptTemplate(\n",
        "    input_variables=[\"question\"],\n",
        "    template=template\n",
        ")"
      ]
    },
    {
      "cell_type": "code",
      "execution_count": 101,
      "metadata": {
        "colab": {
          "base_uri": "https://localhost:8080/"
        },
        "id": "A6cL1gdF2QR4",
        "outputId": "d1999781-1931-4ac0-94bf-e724dd6270e1"
      },
      "outputs": [
        {
          "output_type": "stream",
          "name": "stdout",
          "text": [
            "\n",
            "คุณเป็นครูสอน Python\n",
            "คำถาม : เขียนโค้ดหาผลรวมของตัวเลข 1 ถึง 10\n",
            "\n"
          ]
        }
      ],
      "source": [
        "formatted_prompt = prompt.format(question=\"เขียนโค้ดหาผลรวมของตัวเลข 1 ถึง 10\")\n",
        "print(formatted_prompt)"
      ]
    },
    {
      "cell_type": "code",
      "execution_count": 102,
      "metadata": {
        "id": "vngCh5hc2cYY"
      },
      "outputs": [],
      "source": [
        "chain = prompt | llm"
      ]
    },
    {
      "cell_type": "code",
      "execution_count": 103,
      "metadata": {
        "id": "-gc1ybfE2nQX"
      },
      "outputs": [],
      "source": [
        "response = chain.invoke({\"question\": \"เขียนโค้ดหาผลรวมของตัวเลข 1 ถึง 10\"})"
      ]
    },
    {
      "cell_type": "code",
      "execution_count": 104,
      "metadata": {
        "colab": {
          "base_uri": "https://localhost:8080/",
          "height": 127
        },
        "id": "sQbOsCZV2o68",
        "outputId": "b0872d97-d3e7-4330-dff8-330413a0ba29"
      },
      "outputs": [
        {
          "output_type": "execute_result",
          "data": {
            "text/plain": [
              "'แน่นอนครับ! ผมจะช่วยคุณเขียนโค้ด Python เพื่อหาผลรวมของตัวเลข 1 ถึง 10 โดยใช้ไลบริสต์ `numbers`\\n\\nนี่คือโค้ด Python ที่จะใช้ไลบริสต์ `numbers` เพื่อหาผลรวมของตัวเลข 1 ถึง 10:\\n\\n```python\\ndef find_sum_of_numbers(numbers):\\n    \"\"\"\\n    หาผลรวมของตัวเลข 1 ถึง 10\\n    \"\"\"\\n    try:\\n        if not numbers:\\n            return 0  # ถ้าไม่มีตัวเลข 1-10 ให้หาผลรวม 0\\n        total = 0\\n        for number in numbers:\\n            total += number\\n        return total\\n    except Exception as e:\\n        print(f\"ข้อผิดพลาด: {e}\")\\n        return 0  # ถ้าเกิดข้อผิดพลาด ให้ return 0\\n\\n# ตัวอย่างการใช้งาน\\nnumbers = [1, 2, 3, 4, 5, 6, 7, 8, 9, 10]\\nresult = find_sum_of_numbers(numbers)\\nprint(result)\\n```\\n\\nโค้ดนี้จะทำงานดังนี้:\\n\\n1.  **`find_sum_of_numbers(numbers)`:**\\n    *   ใช้ `numbers` เป็นไลบริสต์เพื่อเก็บตัวเลข 1 ถึง 10\\n    *   ใช้ `try...except` เพื่อจัดการกับกรณีที่ตัวเลข 1-10 ไม่พบ\\n    *   ตรวจสอบว่า `numbers` มีขนาดเป็น 0\\n    *   ถ้าไม่พบตัวเลข 1-10 จะ return 0\\n    *   เมื่อเรียก `find_sum_of_numbers` จะทำการหาผลรวมของตัวเลข 1 ถึง 10 และคืนค่าผลรวม\\n    *   ถ้าเกิดข้อผิดพลาด (เช่น ตัวเลข 1-10 ไม่พบ) จะคืนค่า 0\\n\\n**คำอธิบายโค้ด:**\\n\\n*   `numbers`: เป็นไลบริสต์ที่เก็บตัวเลข 1 ถึง 10\\n*   `find_sum_of_numbers(numbers)`: เป็นฟังก์ชันที่รับตัวเลข 1 ถึง 10 เป็นค่าเริ่มต้น\\n*   `try...except`: บังคับให้ฟังก์ชันทำงานหากมีการเกิดข้อผิดพลาด\\n*   `total = 0`: กำหนดค่า `total` เป็น 0 เพื่อเก็บผลรวม\\n*   `for number in numbers:`: กำหนดตัวเลข 1 ถึง 10 เป็นรายการ\\n*   `total += number`: เพิ่มค่า `number` เข้าไปใน `total`\\n*   `return total`:  คืนค่า `total`\\n*   `except Exception as e:`: บังคับให้ฟังก์ชันทำงานหากเกิดข้อผิดพลาด\\n*   `print(f\"ข้อผิดพลาด: {e}\")`: แสดงข้อผิดพลาดให้ผู้ใช้เข้าใจ\\n\\n**การใช้งาน:**\\n\\n1.  คุณสามารถเรียก `find_sum_of_numbers()` เพื่อหาผลรวมของตัวเลข 1 ถึง 10\\n2.  เมื่อคุณเรียกฟังก์ชันนี้ คุณจะได้รับผลลัพธ์ที่แสดงผลรวมของตัวเลข 1 ถึง 10\\n3.  คุณสามารถปรับเปลี่ยนค่า `numbers`  ให้เหมาะสมกับความต้องการของคุณได้\\n\\n**ตัวอย่างการใช้งาน:**\\n\\n```python\\nnumbers = [1, 2, 3, 4, 5, 6, 7, 8, 9, 10]\\nresult = find_sum_of_numbers(numbers)\\nprint(result)\\n```\\n\\nจะแสดงผลลัพธ์ดังนี้:\\n\\n```\\n15\\n```\\n\\n**ข้อดีของโค้ดนี้:**\\n\\n*   **ใช้งานง่าย:**  โค้ดนี้ทำได้ง่ายและเข้าใจง่าย\\n*   **สามารถปรับแต่งได้:** คุณสามารถปรับแต่งค่า `numbers`  ให้เหมาะสมกับความต้องการของคุณได้\\n*   **สามารถทำงานกับตัวเลขจำนวนมาก:**  โค้ดนี้สามารถทำงานกับตัวเลขจำนวนมากได้\\n\\nหวังว่าโค้ดนี้จะเป็นประโยชน์! หากมีคำถามเพิ่มเติม ถามได้เลยครับ'"
            ],
            "application/vnd.google.colaboratory.intrinsic+json": {
              "type": "string"
            }
          },
          "metadata": {},
          "execution_count": 104
        }
      ],
      "source": [
        "response"
      ]
    },
    {
      "cell_type": "code",
      "execution_count": 105,
      "metadata": {
        "id": "tvPXxxx62va_"
      },
      "outputs": [],
      "source": [
        "from IPython.display import display, Markdown"
      ]
    },
    {
      "cell_type": "code",
      "execution_count": 106,
      "metadata": {
        "colab": {
          "base_uri": "https://localhost:8080/",
          "height": 1000
        },
        "id": "Uu3TMkkA2w_3",
        "outputId": "f1f1a9bd-8bae-43ce-cfb3-8b7c7186a746"
      },
      "outputs": [
        {
          "output_type": "display_data",
          "data": {
            "text/plain": [
              "<IPython.core.display.Markdown object>"
            ],
            "text/markdown": "แน่นอนครับ! ผมจะช่วยคุณเขียนโค้ด Python เพื่อหาผลรวมของตัวเลข 1 ถึง 10 โดยใช้ไลบริสต์ `numbers`\n\nนี่คือโค้ด Python ที่จะใช้ไลบริสต์ `numbers` เพื่อหาผลรวมของตัวเลข 1 ถึง 10:\n\n```python\ndef find_sum_of_numbers(numbers):\n    \"\"\"\n    หาผลรวมของตัวเลข 1 ถึง 10\n    \"\"\"\n    try:\n        if not numbers:\n            return 0  # ถ้าไม่มีตัวเลข 1-10 ให้หาผลรวม 0\n        total = 0\n        for number in numbers:\n            total += number\n        return total\n    except Exception as e:\n        print(f\"ข้อผิดพลาด: {e}\")\n        return 0  # ถ้าเกิดข้อผิดพลาด ให้ return 0\n\n# ตัวอย่างการใช้งาน\nnumbers = [1, 2, 3, 4, 5, 6, 7, 8, 9, 10]\nresult = find_sum_of_numbers(numbers)\nprint(result)\n```\n\nโค้ดนี้จะทำงานดังนี้:\n\n1.  **`find_sum_of_numbers(numbers)`:**\n    *   ใช้ `numbers` เป็นไลบริสต์เพื่อเก็บตัวเลข 1 ถึง 10\n    *   ใช้ `try...except` เพื่อจัดการกับกรณีที่ตัวเลข 1-10 ไม่พบ\n    *   ตรวจสอบว่า `numbers` มีขนาดเป็น 0\n    *   ถ้าไม่พบตัวเลข 1-10 จะ return 0\n    *   เมื่อเรียก `find_sum_of_numbers` จะทำการหาผลรวมของตัวเลข 1 ถึง 10 และคืนค่าผลรวม\n    *   ถ้าเกิดข้อผิดพลาด (เช่น ตัวเลข 1-10 ไม่พบ) จะคืนค่า 0\n\n**คำอธิบายโค้ด:**\n\n*   `numbers`: เป็นไลบริสต์ที่เก็บตัวเลข 1 ถึง 10\n*   `find_sum_of_numbers(numbers)`: เป็นฟังก์ชันที่รับตัวเลข 1 ถึง 10 เป็นค่าเริ่มต้น\n*   `try...except`: บังคับให้ฟังก์ชันทำงานหากมีการเกิดข้อผิดพลาด\n*   `total = 0`: กำหนดค่า `total` เป็น 0 เพื่อเก็บผลรวม\n*   `for number in numbers:`: กำหนดตัวเลข 1 ถึง 10 เป็นรายการ\n*   `total += number`: เพิ่มค่า `number` เข้าไปใน `total`\n*   `return total`:  คืนค่า `total`\n*   `except Exception as e:`: บังคับให้ฟังก์ชันทำงานหากเกิดข้อผิดพลาด\n*   `print(f\"ข้อผิดพลาด: {e}\")`: แสดงข้อผิดพลาดให้ผู้ใช้เข้าใจ\n\n**การใช้งาน:**\n\n1.  คุณสามารถเรียก `find_sum_of_numbers()` เพื่อหาผลรวมของตัวเลข 1 ถึง 10\n2.  เมื่อคุณเรียกฟังก์ชันนี้ คุณจะได้รับผลลัพธ์ที่แสดงผลรวมของตัวเลข 1 ถึง 10\n3.  คุณสามารถปรับเปลี่ยนค่า `numbers`  ให้เหมาะสมกับความต้องการของคุณได้\n\n**ตัวอย่างการใช้งาน:**\n\n```python\nnumbers = [1, 2, 3, 4, 5, 6, 7, 8, 9, 10]\nresult = find_sum_of_numbers(numbers)\nprint(result)\n```\n\nจะแสดงผลลัพธ์ดังนี้:\n\n```\n15\n```\n\n**ข้อดีของโค้ดนี้:**\n\n*   **ใช้งานง่าย:**  โค้ดนี้ทำได้ง่ายและเข้าใจง่าย\n*   **สามารถปรับแต่งได้:** คุณสามารถปรับแต่งค่า `numbers`  ให้เหมาะสมกับความต้องการของคุณได้\n*   **สามารถทำงานกับตัวเลขจำนวนมาก:**  โค้ดนี้สามารถทำงานกับตัวเลขจำนวนมากได้\n\nหวังว่าโค้ดนี้จะเป็นประโยชน์! หากมีคำถามเพิ่มเติม ถามได้เลยครับ"
          },
          "metadata": {}
        }
      ],
      "source": [
        "display(Markdown(response))"
      ]
    },
    {
      "cell_type": "code",
      "execution_count": 107,
      "metadata": {
        "id": "03MLwbZi2yMB"
      },
      "outputs": [],
      "source": [
        "prompt1 = PromptTemplate(\n",
        "    template=\"แปลโจทย์เกี่ยวกับ {question}\"\n",
        ")\n",
        "\n",
        "chain1 = prompt1 | llm"
      ]
    },
    {
      "cell_type": "code",
      "execution_count": 108,
      "metadata": {
        "id": "cVjq69Zx20It"
      },
      "outputs": [],
      "source": [
        "prompt2 = PromptTemplate(\n",
        "    template=\"ทำความเข้าใจโจทย์ที่แปลแล้วต่อไปนี้ {translate}\"\n",
        ")\n",
        "\n",
        "chain2 = prompt2 | llm"
      ]
    },
    {
      "cell_type": "code",
      "execution_count": 109,
      "metadata": {
        "id": "O3OMjUlc25lB"
      },
      "outputs": [],
      "source": [
        "prompt3 = PromptTemplate(\n",
        "    template=\"แก้โจทย์ตามที่เข้าใจต่อไปนี้ {understand}\"\n",
        ")\n",
        "\n",
        "chain3 = prompt3 | llm"
      ]
    },
    {
      "cell_type": "code",
      "execution_count": 110,
      "metadata": {
        "id": "27Gjf35m27aX"
      },
      "outputs": [],
      "source": [
        "prompt4 = PromptTemplate(\n",
        "    template=\"อธิบายวิธิีทำจากผลลัทธ์ต่อไปนี้ {solve}\"\n",
        ")\n",
        "\n",
        "chain4 = prompt4 | llm"
      ]
    },
    {
      "cell_type": "code",
      "execution_count": 111,
      "metadata": {
        "id": "nGy071c-29JN"
      },
      "outputs": [],
      "source": [
        "parser_chain = StrOutputParser()"
      ]
    },
    {
      "cell_type": "code",
      "execution_count": 112,
      "metadata": {
        "id": "80gUeH_A2-xS"
      },
      "outputs": [],
      "source": [
        "full_chain = chain1 | chain2 | chain3 | chain4 | parser_chain"
      ]
    },
    {
      "cell_type": "code",
      "execution_count": 113,
      "metadata": {
        "id": "tNcUVTOi3AxS"
      },
      "outputs": [],
      "source": [
        "result = full_chain.invoke({\"question\":\"2x + 5 = 15\"})"
      ]
    },
    {
      "cell_type": "code",
      "execution_count": 114,
      "metadata": {
        "colab": {
          "base_uri": "https://localhost:8080/",
          "height": 36
        },
        "id": "pxogThkw3Cgl",
        "outputId": "5120ac41-82bd-4d73-b767-c17cdc76e303"
      },
      "outputs": [
        {
          "output_type": "execute_result",
          "data": {
            "text/plain": [
              "'ถูกต้องครับ โจทย์ที่แปลแล้วคือ:\\n\\n**2x + 5 = 15**\\n\\nคำตอบคือ **2x = 10**'"
            ],
            "application/vnd.google.colaboratory.intrinsic+json": {
              "type": "string"
            }
          },
          "metadata": {},
          "execution_count": 114
        }
      ],
      "source": [
        "result"
      ]
    },
    {
      "cell_type": "code",
      "execution_count": 115,
      "metadata": {
        "id": "nYWmJi-R3DsG"
      },
      "outputs": [],
      "source": [
        "import os\n",
        "from langchain_openai import ChatOpenAI"
      ]
    },
    {
      "cell_type": "code",
      "execution_count": 116,
      "metadata": {
        "id": "StOPhp343Fjk"
      },
      "outputs": [],
      "source": [
        "OPENAI_API_KEY = \"xxx\"\n",
        "\n",
        "os.environ['OPENAI_API_KEY'] = OPENAI_API_KEY"
      ]
    },
    {
      "cell_type": "code",
      "execution_count": 117,
      "metadata": {
        "id": "_t-afHyF3Hcy"
      },
      "outputs": [],
      "source": [
        "llm2 = ChatOpenAI(model=\"gpt-4o-mini\")"
      ]
    },
    {
      "cell_type": "code",
      "execution_count": 118,
      "metadata": {
        "id": "KX1RZvn43Is5"
      },
      "outputs": [],
      "source": [
        "chain1 = prompt1 | llm2\n",
        "chain2 = prompt2 | llm2\n",
        "chain3 = prompt3 | llm2\n",
        "chain4 = prompt4 | llm2\n",
        "\n",
        "full_chain = chain1 | chain2 | chain3 | chain4 | parser_chain"
      ]
    },
    {
      "cell_type": "code",
      "execution_count": 119,
      "metadata": {
        "id": "byPZDrwn3Mdm"
      },
      "outputs": [],
      "source": [
        "formatted_result = result.replace('\\\\[', '$$') \\\n",
        "                         .replace('\\\\]', '$$') \\\n",
        "                         .replace('\\\\(', '$') \\\n",
        "                         .replace('\\\\)', '$')"
      ]
    },
    {
      "cell_type": "code",
      "execution_count": 120,
      "metadata": {
        "colab": {
          "base_uri": "https://localhost:8080/",
          "height": 93
        },
        "id": "lF4lmk6G3drQ",
        "outputId": "3e2535a5-c7bc-4b7b-ce42-e732a11ffd25"
      },
      "outputs": [
        {
          "output_type": "display_data",
          "data": {
            "text/plain": [
              "<IPython.core.display.Markdown object>"
            ],
            "text/markdown": "ถูกต้องครับ โจทย์ที่แปลแล้วคือ:\n\n**2x + 5 = 15**\n\nคำตอบคือ **2x = 10**"
          },
          "metadata": {}
        }
      ],
      "source": [
        "display(Markdown(formatted_result))"
      ]
    },
    {
      "cell_type": "code",
      "execution_count": 121,
      "metadata": {
        "id": "LYGMY_Nu3e_c"
      },
      "outputs": [],
      "source": [
        "prompt_template = \"\"\"\n",
        "[1. Role/Context บอก LLM ว่าควรทำตัวเป็นอะไร]\n",
        "คุณเป็น AI ที่เชี่ยวชาญในการวิเคราะห์รีวิวภาษาไทย\n",
        "\n",
        "[2. Task Description บอกงานที่ต้องทำ]\n",
        "จาก Review ต่อไปนี้ ให้ Extract 3 keywords\n",
        "ที่เป็นตัวแทนของ Review นี้ได้ดีที่สุด\n",
        "\n",
        "[3. Input Data ข้อมูลที่ต้องประมวลผล]\n",
        "Review: {review}\n",
        "\n",
        "[4. Output Format บอกรูปแบบของคำตอบ]\n",
        "ตอบในรูปแบบ JSON โดยมีคีย์เป็น 'keywords'\n",
        "เช่น {{\"keywords\": \"กาแฟ, บรรยากาศ, ราคา\"}\n",
        "\n",
        "[5. Constraints ข้อจำกัดหรือเงื่อนไข]\n",
        "- ต้องเป็นคำภาษาไทย\n",
        "- คั่นด้วย comma\n",
        "- หากไม่พบให้ตอบ 'ไม่ระบุ'\n",
        "\n",
        "[6. Examples (optional) ตัวอย่าง input/output]\n",
        "ตัวอย่าง\n",
        "Input: \"กาแฟอร่อย บรรยากาศดี ราคาแพง\"\n",
        "Output: {\"keywords\": \"กาแฟ, บรรยากาศ, ราคา\"}\n",
        "\"\"\""
      ]
    },
    {
      "cell_type": "code",
      "execution_count": 122,
      "metadata": {
        "id": "TwijjpkL389R"
      },
      "outputs": [],
      "source": [
        "prompt = \"\"\"\n",
        "Extract keywords from this review\n",
        "{review}\n",
        "\"\"\"\n",
        "\n",
        "# Pros Simple, fast\n",
        "# Cons อาจได้ผลไม่ดีกับ Tasks ซับซ้อน"
      ]
    },
    {
      "cell_type": "code",
      "execution_count": 123,
      "metadata": {
        "id": "m6sQpDiO4Juw"
      },
      "outputs": [],
      "source": [
        "prompt = \"\"\"\n",
        "Extract keywords from reviews.\n",
        "\n",
        "Example 1\n",
        "Review: \"กาแฟอร่อย บริการดี\"\n",
        "Keywords: กาแฟ, บริการ\n",
        "\n",
        "Example 2\n",
        "Review: \"ราคาแพง แต่คุ้มค่า\"\n",
        "Keywords: ราคา, คุณภาพ\n",
        "\n",
        "Now extract from this review\n",
        "Review: {review}\n",
        "Keywords:\n",
        "\"\"\"\n",
        "\n",
        "# Pros ได้ผลดีกว่า Zero-shot\n",
        "# Cons Prompt ใช้ Tokens มากขึ้น"
      ]
    },
    {
      "cell_type": "code",
      "execution_count": 124,
      "metadata": {
        "id": "Ajp7hpVn4ViD"
      },
      "outputs": [],
      "source": [
        "prompt = \"\"\"\n",
        "Review: {review}\n",
        "\n",
        "ขั้นตอนการ Extract keywords\n",
        "1. อ่านรีวิวและเข้าใจความหมาย\n",
        "2. ระบุหัวข้อหลักที่กล่าวถึง\n",
        "3. เลือก 3 keywords ที่สำคัญที่สุด\n",
        "4. ตอบในรูปแบบ JSON: {{\"keywords\": \"คำ1, คำ2, คำ3\"}}\n",
        "\n",
        "ให้ทำทีละขั้นตอน\n",
        "\"\"\"\n",
        "\n",
        "# Pros ได้ผลดีกับ Reasoning tasks\n",
        "# Cons ใช้ Tokens มากกว่า ช้ากว่า"
      ]
    },
    {
      "cell_type": "code",
      "execution_count": 125,
      "metadata": {
        "id": "vwDwBYpr4X2F"
      },
      "outputs": [],
      "source": [
        "keyword_prompt = PromptTemplate(\n",
        "template = \"\"\"\n",
        "จาก Review ต่อไปนี้\n",
        "Extract 3 keywords ที่เป็นตัวแทนของ Review นี้\n",
        "\n",
        "Review: {review}\n",
        "\n",
        "ขั้นตอนการ Extract keywords\n",
        "1. อ่านรีวิวและเข้าใจความหมาย\n",
        "2. ระบุหัวข้อหลักที่กล่าวถึง\n",
        "3. เลือก 3 keywords ที่สำคัญที่สุด\n",
        "4. ตอบในรูปแบบ JSON โดยมี key คือ keyword เช่น :{{\"keywords\": \"คำ1, คำ2, คำ3\"}}\n",
        "\n",
        "ให้ทำทีละขั้นตอน\n",
        "\"\"\")"
      ]
    },
    {
      "cell_type": "code",
      "execution_count": 126,
      "metadata": {
        "colab": {
          "base_uri": "https://localhost:8080/",
          "height": 147
        },
        "id": "IGkpA0uG4aCU",
        "outputId": "0557707a-d635-434f-b650-b647c034aaba"
      },
      "outputs": [
        {
          "output_type": "execute_result",
          "data": {
            "text/plain": [
              "0    ร้านอาหารใหญ่มากกกกกกก \\nเลี้ยวเข้ามาเจอห้องน้...\n",
              "1    วันนี้ได้มีโอกาสไปนั่งซดกาแฟที่ร้านวาวี แถวๆอา...\n",
              "Name: column0, dtype: object"
            ],
            "text/html": [
              "<div>\n",
              "<style scoped>\n",
              "    .dataframe tbody tr th:only-of-type {\n",
              "        vertical-align: middle;\n",
              "    }\n",
              "\n",
              "    .dataframe tbody tr th {\n",
              "        vertical-align: top;\n",
              "    }\n",
              "\n",
              "    .dataframe thead th {\n",
              "        text-align: right;\n",
              "    }\n",
              "</style>\n",
              "<table border=\"1\" class=\"dataframe\">\n",
              "  <thead>\n",
              "    <tr style=\"text-align: right;\">\n",
              "      <th></th>\n",
              "      <th>column0</th>\n",
              "    </tr>\n",
              "  </thead>\n",
              "  <tbody>\n",
              "    <tr>\n",
              "      <th>0</th>\n",
              "      <td>ร้านอาหารใหญ่มากกกกกกก \\nเลี้ยวเข้ามาเจอห้องน้...</td>\n",
              "    </tr>\n",
              "    <tr>\n",
              "      <th>1</th>\n",
              "      <td>วันนี้ได้มีโอกาสไปนั่งซดกาแฟที่ร้านวาวี แถวๆอา...</td>\n",
              "    </tr>\n",
              "  </tbody>\n",
              "</table>\n",
              "</div><br><label><b>dtype:</b> object</label>"
            ]
          },
          "metadata": {},
          "execution_count": 126
        }
      ],
      "source": [
        "sample_reviews = coffee_reviews_df['column0'].head(2)\n",
        "sample_reviews"
      ]
    },
    {
      "cell_type": "code",
      "execution_count": 127,
      "metadata": {
        "id": "yDwS2-9d4cPn"
      },
      "outputs": [],
      "source": [
        "sample_reviews.to_csv('/content/sample_reviews.csv', index=False)"
      ]
    },
    {
      "cell_type": "code",
      "execution_count": 128,
      "metadata": {
        "id": "OG96wCxK4_FK"
      },
      "outputs": [],
      "source": [
        "keyword_extract = keyword_prompt | llm | StrOutputParser()"
      ]
    },
    {
      "cell_type": "code",
      "execution_count": 129,
      "metadata": {
        "colab": {
          "base_uri": "https://localhost:8080/"
        },
        "id": "Bs13x0fk5U48",
        "outputId": "6e471492-24f3-422b-d47a-f96222d22890"
      },
      "outputs": [
        {
          "output_type": "stream",
          "name": "stdout",
          "text": [
            "CPU times: user 43.4 ms, sys: 2.98 ms, total: 46.3 ms\n",
            "Wall time: 3.73 s\n"
          ]
        }
      ],
      "source": [
        "%%time\n",
        "results = []\n",
        "for review in sample_reviews:\n",
        "    text = keyword_extract.invoke({\"review\": review})\n",
        "    cleaned = (text).replace(\"**\", \"\").strip()\n",
        "    results.append({\"review\": review, \"text\": cleaned})"
      ]
    },
    {
      "cell_type": "code",
      "execution_count": 130,
      "metadata": {
        "colab": {
          "base_uri": "https://localhost:8080/"
        },
        "id": "gpCU1qCY5enW",
        "outputId": "e26a2591-1f6e-4242-f661-56fa4f6f9a25"
      },
      "outputs": [
        {
          "output_type": "stream",
          "name": "stdout",
          "text": [
            "Review ร้านอาหารใหญ่มากกกกกกก \n",
            "เลี้ยวเข้ามาเจอห้องน้ำก่อนเลย เออแปลกดี \n",
            "ห้องทานหลักๆอยู่ชั้น 2 มีกาแฟ น้ำผึ...\n",
            "text ```json\n",
            "{\n",
            "  \"keywords\": [\n",
            "    \"ร้านอาหารใหญ่\",\n",
            "    \"ห้องน้ำ\",\n",
            "    \"กาแฟ\",\n",
            "    \"น้ำผึ้ง\",\n",
            "    \"ไข่มัน\",\n",
            "    \"คาว\",\n",
            "    \"ประทับใจ\",\n",
            "    \"ราคา\",\n",
            "    \"เกินไป\",\n",
            "    \"รับไม่ไหว\",\n",
            "    \"ว\"\n",
            "  ]\n",
            "}\n",
            "```\n",
            "\n",
            "Review วันนี้ได้มีโอกาสไปนั่งซดกาแฟที่ร้านวาวี แถวๆอารีย์\n",
            "\n",
            "ก็ได้ยินมาบ่อยๆละ จากหลายที่ แต่ที่บ่อยสุดก็จาก ...\n",
            "text ```json\n",
            "\"keywords\": [\"ลาเต้\", \"กาแฟ\", \"ร้านวาวี\", \"อารีย์\", \"Starbuck\", \"แฟนๆ\", \"Starbuck\", \"โปรด\", \"test\", \"Taste\", \"อร่อย\", \"ราคาไม่แพง\", \"กินบ่อย\", \"จุกได้\", \"ถ่ายรูป\", \"ซากอารยธรรม\", \"เมพพพพ\", \"เมพพ\", \"กาแฟ\", \"รสชาติ\", \"กลิ่น\", \"มวยรุ่นเดียวกะ Starbuck\", \"การชิม\", \"รสชาติและกลิ่น\", \"เมนูอื่นๆ\", \"สรุป\", \"ถ่ายโดย\", \"Tan\"\n",
            "```\n",
            "\n"
          ]
        }
      ],
      "source": [
        "for result in results:\n",
        "    print(f\"Review {result['review'][:100]}...\")\n",
        "    print(f\"text {result['text']}\\n\")"
      ]
    },
    {
      "cell_type": "code",
      "execution_count": 131,
      "metadata": {
        "id": "ow9WBfx_6NVi"
      },
      "outputs": [],
      "source": [
        "keyword_extract = keyword_prompt | llm2 | StrOutputParser()"
      ]
    },
    {
      "cell_type": "code",
      "execution_count": 132,
      "metadata": {
        "colab": {
          "base_uri": "https://localhost:8080/"
        },
        "id": "QQN7_ZqF5ntN",
        "outputId": "3921d664-a083-47e7-cf68-165aaa1dec7e"
      },
      "outputs": [
        {
          "output_type": "stream",
          "name": "stdout",
          "text": [
            "Review ร้านอาหารใหญ่มากกกกกกก \n",
            "เลี้ยวเข้ามาเจอห้องน้ำก่อนเลย เออแปลกดี \n",
            "ห้องทานหลักๆอยู่ชั้น 2 มีกาแฟ น้ำผึ...\n",
            "text ```json\n",
            "{\n",
            "  \"keywords\": [\n",
            "    \"ร้านอาหารใหญ่\",\n",
            "    \"ห้องน้ำ\",\n",
            "    \"กาแฟ\",\n",
            "    \"น้ำผึ้ง\",\n",
            "    \"ไข่มัน\",\n",
            "    \"คาว\",\n",
            "    \"ประทับใจ\",\n",
            "    \"ราคา\",\n",
            "    \"เกินไป\",\n",
            "    \"รับไม่ไหว\",\n",
            "    \"ว\"\n",
            "  ]\n",
            "}\n",
            "```\n",
            "\n",
            "Review วันนี้ได้มีโอกาสไปนั่งซดกาแฟที่ร้านวาวี แถวๆอารีย์\n",
            "\n",
            "ก็ได้ยินมาบ่อยๆละ จากหลายที่ แต่ที่บ่อยสุดก็จาก ...\n",
            "text ```json\n",
            "\"keywords\": [\"ลาเต้\", \"กาแฟ\", \"ร้านวาวี\", \"อารีย์\", \"Starbuck\", \"แฟนๆ\", \"Starbuck\", \"โปรด\", \"test\", \"Taste\", \"อร่อย\", \"ราคาไม่แพง\", \"กินบ่อย\", \"จุกได้\", \"ถ่ายรูป\", \"ซากอารยธรรม\", \"เมพพพพ\", \"เมพพ\", \"กาแฟ\", \"รสชาติ\", \"กลิ่น\", \"มวยรุ่นเดียวกะ Starbuck\", \"การชิม\", \"รสชาติและกลิ่น\", \"เมนูอื่นๆ\", \"สรุป\", \"ถ่ายโดย\", \"Tan\"\n",
            "```\n",
            "\n"
          ]
        }
      ],
      "source": [
        "for result in results:\n",
        "    print(f\"Review {result['review'][:100]}...\")\n",
        "    print(f\"text {result['text']}\\n\")"
      ]
    },
    {
      "cell_type": "code",
      "execution_count": 133,
      "metadata": {
        "colab": {
          "base_uri": "https://localhost:8080/"
        },
        "id": "IEWiH52g6Kq0",
        "outputId": "249e8e52-c05e-4e3b-bcbf-f7c9a67ada38"
      },
      "outputs": [
        {
          "output_type": "stream",
          "name": "stdout",
          "text": [
            "\u001b[?2026h\u001b[?25l\u001b[1G\u001b[?25h\u001b[?2026l\u001b[?2026h\u001b[?25l\u001b[1G\u001b[?25h\u001b[?2026l\u001b[?2026h\u001b[?25l\u001b[1G\u001b[?25h\u001b[?2026l\u001b[?2026h\u001b[?25l\u001b[1G\u001b[?25h\u001b[?2026l\n"
          ]
        }
      ],
      "source": [
        "!ollama pull scb10x/typhoon2.1-gemma3-4b"
      ]
    },
    {
      "cell_type": "code",
      "execution_count": 134,
      "metadata": {
        "colab": {
          "base_uri": "https://localhost:8080/"
        },
        "id": "9Gv2c2Ej6Vxb",
        "outputId": "870af848-442f-4002-e918-5fdc933ccc2f"
      },
      "outputs": [
        {
          "output_type": "stream",
          "name": "stdout",
          "text": [
            "NAME                                  ID              SIZE      MODIFIED               \n",
            "scb10x/typhoon2.1-gemma3-4b:latest    8cfab9097c9d    2.6 GB    Less than a second ago    \n",
            "gemma3:270m                           e7d36fb2c3b3    291 MB    16 seconds ago            \n"
          ]
        }
      ],
      "source": [
        "!ollama list"
      ]
    },
    {
      "cell_type": "code",
      "execution_count": 135,
      "metadata": {
        "id": "4qsEGCYs62NC"
      },
      "outputs": [],
      "source": [
        "llm3 = OllamaLLM(model=\"gemma3:270m\")"
      ]
    },
    {
      "cell_type": "code",
      "execution_count": 136,
      "metadata": {
        "id": "6RElBowz7DTc"
      },
      "outputs": [],
      "source": [
        "keyword_extract = keyword_prompt | llm3 | StrOutputParser()"
      ]
    },
    {
      "cell_type": "code",
      "execution_count": 137,
      "metadata": {
        "colab": {
          "base_uri": "https://localhost:8080/"
        },
        "id": "OEALsrIe7Erf",
        "outputId": "2bdb081c-773d-447b-e03c-276bbb5d8416"
      },
      "outputs": [
        {
          "output_type": "stream",
          "name": "stdout",
          "text": [
            "CPU times: user 59.8 ms, sys: 6.97 ms, total: 66.8 ms\n",
            "Wall time: 6.66 s\n"
          ]
        }
      ],
      "source": [
        "%%time\n",
        "results = []\n",
        "for review in sample_reviews:\n",
        "    text = keyword_extract.invoke({\"review\": review})\n",
        "    cleaned = (text).replace(\"**\", \"\").strip()\n",
        "    results.append({\"review\": review, \"text\": cleaned})"
      ]
    },
    {
      "cell_type": "code",
      "execution_count": 138,
      "metadata": {
        "colab": {
          "base_uri": "https://localhost:8080/"
        },
        "id": "3pNsxn547WVw",
        "outputId": "7300505c-596d-449e-f8a6-388c64dfa322"
      },
      "outputs": [
        {
          "output_type": "stream",
          "name": "stdout",
          "text": [
            "Review ร้านอาหารใหญ่มากกกกกกก \n",
            "เลี้ยวเข้ามาเจอห้องน้ำก่อนเลย เออแปลกดี \n",
            "ห้องทานหลักๆอยู่ชั้น 2 มีกาแฟ น้ำผึ...\n",
            "text ```json\n",
            "{\n",
            "  \"keywords\": [\n",
            "    \"ร้านอาหารใหญ่\",\n",
            "    \"ห้องน้ำ\",\n",
            "    \"กาแฟ\",\n",
            "    \"น้ำผึ้ง\",\n",
            "    \"การทานอาหาร\",\n",
            "    \"ราคา\",\n",
            "    \"เลี้ยวเข้ามา\",\n",
            "    \"ห้องทานหลักๆ\",\n",
            "    \"กาแฟน้ำผึ้ง\",\n",
            "    \"แพงเวอร์\",\n",
            "    \"อย่าสั่งเลย\",\n",
            "    \"ลาบไข่ต้ม\",\n",
            "    \"ไข่มันคาว\",\n",
            "    \"ไม่ประทับใจ\",\n",
            "    \"ทอดมันหัวปลีกรอบอร่อย\",\n",
            "    \"เบิ้ล\"\n",
            "  ]\n",
            "}\n",
            "```\n",
            "\n",
            "Review วันนี้ได้มีโอกาสไปนั่งซดกาแฟที่ร้านวาวี แถวๆอารีย์\n",
            "\n",
            "ก็ได้ยินมาบ่อยๆละ จากหลายที่ แต่ที่บ่อยสุดก็จาก ...\n",
            "text ```json\n",
            "{\n",
            "  \"keywords\": [\n",
            "    \"ลาเต้\",\n",
            "    \"ร้อน\",\n",
            "    \"แก้วนึง\",\n",
            "    \"ร้อน\",\n",
            "    \"วางอยู่ข้างหน้า\",\n",
            "    \"เล่นลายฟองนม\",\n",
            "    \"เว้ยยย\",\n",
            "    \"ซากอารยธรรมลาเต้เมพๆ\",\n",
            "    \"เมพพพพ\",\n",
            "    \"เมพพพพ\",\n",
            "    \"ซากอารยธรรมลาเต้เมพๆ\",\n",
            "    \"รสชาติ 1\",\n",
            "    \"2\",\n",
            "    \"เครื่องดื่ม\",\n",
            "    \"กาแฟ\",\n",
            "    \"ร้านวาวี\",\n",
            "    \"อารีย์\",\n",
            "    \"สวย\",\n",
            "    \"กินบ่อย\",\n",
            "    \"จุกได้\",\n",
            "    \"แหล่มไม่แพง\",\n",
            "    \"เสียเงิน\",\n",
            "    \"บ่อยก็จุกได้\"\n",
            "  ]\n",
            "}\n",
            "```\n",
            "\n"
          ]
        }
      ],
      "source": [
        "for result in results:\n",
        "    print(f\"Review {result['review'][:100]}...\")\n",
        "    print(f\"text {result['text']}\\n\")"
      ]
    },
    {
      "cell_type": "code",
      "execution_count": 139,
      "metadata": {
        "id": "6tDJoSo07dBL"
      },
      "outputs": [],
      "source": [
        "from pydantic import BaseModel, Field\n",
        "from langchain_core.output_parsers import JsonOutputParser\n",
        "\n",
        "class ReviewKeywords(BaseModel):\n",
        "    keywords: str = Field(\n",
        "        ...,  # Required field\n",
        "        description=\"3 keywords separated by comma\",\n",
        "        examples=[\"กาแฟ, บรรยากาศ, ราคา\"]\n",
        "    )\n",
        "\n",
        "class KeywordsExtraction(BaseModel):\n",
        "    extracted_qualities: ReviewKeywords"
      ]
    },
    {
      "cell_type": "code",
      "execution_count": 140,
      "metadata": {
        "id": "W2VvsSRR7h-n"
      },
      "outputs": [],
      "source": [
        "keywords_parser = JsonOutputParser(pydantic_object=KeywordsExtraction)"
      ]
    },
    {
      "cell_type": "code",
      "execution_count": 141,
      "metadata": {
        "id": "vyt7jYXH7kOi"
      },
      "outputs": [],
      "source": [
        "keyword_extract = keyword_prompt | llm3 | keywords_parser"
      ]
    },
    {
      "cell_type": "code",
      "execution_count": 142,
      "metadata": {
        "colab": {
          "base_uri": "https://localhost:8080/"
        },
        "id": "Tec6J_327rNO",
        "outputId": "973777c8-a7df-4767-97c2-ebd477d85710"
      },
      "outputs": [
        {
          "output_type": "stream",
          "name": "stdout",
          "text": [
            "CPU times: user 43.3 ms, sys: 3.67 ms, total: 47 ms\n",
            "Wall time: 3.97 s\n"
          ]
        }
      ],
      "source": [
        "%%time\n",
        "results = []\n",
        "for review in sample_reviews:\n",
        "    text = keyword_extract.invoke({\"review\": review})\n",
        "    results.append({\"review\": review, \"text\": text})"
      ]
    },
    {
      "cell_type": "code",
      "execution_count": 143,
      "metadata": {
        "colab": {
          "base_uri": "https://localhost:8080/"
        },
        "id": "jiLsnwCB79Qg",
        "outputId": "78f78e47-ce77-4316-b83f-76606da10d09"
      },
      "outputs": [
        {
          "output_type": "execute_result",
          "data": {
            "text/plain": [
              "['ร้านอาหารใหญ่',\n",
              " 'ห้องน้ำ',\n",
              " 'กาแฟ',\n",
              " 'น้ำผึ้ง',\n",
              " 'น้ำผึ้ง',\n",
              " 'ลาบไข่ต้ม',\n",
              " 'ไข่มัน',\n",
              " 'ขนมไทย',\n",
              " 'ขนมหวาน',\n",
              " 'ฟรี',\n",
              " 'ราคา',\n",
              " 'ไม่ไหว',\n",
              " 'ไม่ประทับใจ',\n",
              " 'แพงเกิน',\n",
              " 'รับไม่ไหว',\n",
              " 'กินแล้วมีขนมหวานให้กินฟรีเล็กน้อย']"
            ]
          },
          "metadata": {},
          "execution_count": 143
        }
      ],
      "source": [
        "results[0]['text']['keywords']"
      ]
    },
    {
      "cell_type": "code",
      "execution_count": 144,
      "metadata": {
        "colab": {
          "base_uri": "https://localhost:8080/"
        },
        "id": "-72TnC1t8BY5",
        "outputId": "d325e521-292d-4900-e0d6-b92350db6915"
      },
      "outputs": [
        {
          "output_type": "execute_result",
          "data": {
            "text/plain": [
              "['ลาเต้',\n",
              " 'ร้อน',\n",
              " 'แก้วนึง',\n",
              " 'เสริฟ',\n",
              " 'หุๆ',\n",
              " 'แมพ',\n",
              " 'เมพ',\n",
              " 'ซากอารยธรรมลาเต้',\n",
              " 'เมพพพพ',\n",
              " 'โกโก้',\n",
              " 'น้ำส้มกะเค้ก',\n",
              " 'แจ่ม',\n",
              " 'ลากาแฟ']"
            ]
          },
          "metadata": {},
          "execution_count": 144
        }
      ],
      "source": [
        "results[1]['text']['keywords']"
      ]
    },
    {
      "cell_type": "code",
      "execution_count": 145,
      "metadata": {
        "id": "lzzcm4Uc8oIn"
      },
      "outputs": [],
      "source": [
        "llm3 = OllamaLLM(\n",
        "    model=\"scb10x/typhoon2.1-gemma3-4b\",\n",
        "    temperature=0.05\n",
        ")\n",
        "\n",
        "keyword_extract = keyword_prompt | llm3 | keywords_parser"
      ]
    },
    {
      "cell_type": "code",
      "execution_count": 146,
      "metadata": {
        "colab": {
          "base_uri": "https://localhost:8080/"
        },
        "id": "osU2Bb898qmD",
        "outputId": "1e5de8a2-b386-47de-d21a-1199a369afa3"
      },
      "outputs": [
        {
          "output_type": "stream",
          "name": "stdout",
          "text": [
            "CPU times: user 152 ms, sys: 8.45 ms, total: 161 ms\n",
            "Wall time: 26.1 s\n"
          ]
        }
      ],
      "source": [
        "%%time\n",
        "results = []\n",
        "for review in sample_reviews:\n",
        "    text = keyword_extract.invoke({\"review\": review})\n",
        "    results.append({\"review\": review, \"text\": text})"
      ]
    },
    {
      "cell_type": "code",
      "execution_count": 147,
      "metadata": {
        "colab": {
          "base_uri": "https://localhost:8080/"
        },
        "id": "JpwQFV3o8sR0",
        "outputId": "c77d90f3-268c-491d-9a1e-06126b80ad53"
      },
      "outputs": [
        {
          "output_type": "execute_result",
          "data": {
            "text/plain": [
              "(['ราคา', 'รสชาติ', 'ขนาด'], ['กาแฟ', 'วาวี', 'อารีย์'])"
            ]
          },
          "metadata": {},
          "execution_count": 147
        }
      ],
      "source": [
        "results[0]['text']['keywords'], results[1]['text']['keywords']"
      ]
    },
    {
      "cell_type": "code",
      "execution_count": 148,
      "metadata": {
        "id": "Ov6BKzRf8yAJ"
      },
      "outputs": [],
      "source": [
        "keyword_prompt = PromptTemplate(\n",
        "    template=\"\"\"จาก Review ต่อไปนี้\n",
        "    Extract keywords 3 keywords เท่านั้น ที่เป็นตัวแทนของ Review นี้ได้ดีที่สุด\n",
        "\n",
        "    Review: {review}\n",
        "\n",
        "    ตอบในรูปแบบ JSON โดยมีคีย์เป็น 'keywords'\n",
        "    และค่าเป็นข้อความที่ดึงได้คั่นด้วย comma\n",
        "    เช่น {{\"keywords\": \"กาแฟ, บรรยากาศ, ราคา\"}}\n",
        "\n",
        "    หากไม่พบข้อมูลให้ตอบ 'ไม่ระบุ'\n",
        "    \"\"\"\n",
        ")"
      ]
    },
    {
      "cell_type": "code",
      "execution_count": 149,
      "metadata": {
        "id": "npK-8PV283Xq"
      },
      "outputs": [],
      "source": [
        "keyword_extract = keyword_prompt | llm3 | keywords_parser"
      ]
    },
    {
      "cell_type": "code",
      "execution_count": 150,
      "metadata": {
        "id": "rEo3mvmW84tS"
      },
      "outputs": [],
      "source": [
        "inputs = [{\"review\": r} for r in sample_reviews]"
      ]
    },
    {
      "cell_type": "code",
      "execution_count": 151,
      "metadata": {
        "colab": {
          "base_uri": "https://localhost:8080/"
        },
        "id": "m6qk5k8O8614",
        "outputId": "530b5474-b453-4985-a57a-213dc06fa0d1"
      },
      "outputs": [
        {
          "output_type": "stream",
          "name": "stdout",
          "text": [
            "CPU times: user 19.2 ms, sys: 584 µs, total: 19.8 ms\n",
            "Wall time: 2.29 s\n"
          ]
        }
      ],
      "source": [
        "%%time\n",
        "results = keyword_extract.batch(inputs)"
      ]
    },
    {
      "cell_type": "code",
      "execution_count": 152,
      "metadata": {
        "colab": {
          "base_uri": "https://localhost:8080/"
        },
        "id": "cozMGUwB88xO",
        "outputId": "93cde32e-5faa-4e98-bb27-75dbdad7d78c"
      },
      "outputs": [
        {
          "output_type": "execute_result",
          "data": {
            "text/plain": [
              "[{'keywords': 'ราคา, บรรยากาศ, ไข่ต้ม'},\n",
              " {'keywords': 'กาแฟ, บรรยากาศ, รสชาติ'}]"
            ]
          },
          "metadata": {},
          "execution_count": 152
        }
      ],
      "source": [
        "results"
      ]
    },
    {
      "cell_type": "code",
      "execution_count": 153,
      "metadata": {
        "id": "qQmLnKhG8-gD"
      },
      "outputs": [],
      "source": [
        "sample_reviews_1000 = coffee_reviews_df['column0'].head(1000).tolist()\n",
        "inputs_1000 = [{\"review\": r} for r in sample_reviews_1000]\n",
        "\n",
        "BATCH_SIZE = 8\n",
        "\n",
        "results_1000 = []"
      ]
    },
    {
      "cell_type": "code",
      "execution_count": 154,
      "metadata": {
        "id": "RSGpXYSI9CzS"
      },
      "outputs": [],
      "source": [
        "from tqdm import tqdm"
      ]
    },
    {
      "cell_type": "code",
      "execution_count": 155,
      "metadata": {
        "colab": {
          "base_uri": "https://localhost:8080/"
        },
        "id": "PJ5Boot_9Fx0",
        "outputId": "5a5404db-dc41-4ecb-92a5-c668b2101b92"
      },
      "outputs": [
        {
          "output_type": "stream",
          "name": "stderr",
          "text": [
            "Extracting keywords: 100%|██████████| 125/125 [19:44<00:00,  9.48s/it]\n"
          ]
        }
      ],
      "source": [
        "for i in tqdm(range(0, len(inputs_1000), BATCH_SIZE), desc=\"Extracting keywords\"):\n",
        "    batch = inputs_1000[i:i+BATCH_SIZE]\n",
        "    outputs = keyword_extract.batch(batch)\n",
        "    for inp, out in zip(batch, outputs):\n",
        "        results_1000.append({\"review\": inp[\"review\"], \"text\": out})"
      ]
    },
    {
      "cell_type": "code",
      "execution_count": 156,
      "metadata": {
        "colab": {
          "base_uri": "https://localhost:8080/"
        },
        "id": "5dRBGrxF9JFb",
        "outputId": "41fc33d9-a073-418b-90b2-1f237e0016f7"
      },
      "outputs": [
        {
          "output_type": "stream",
          "name": "stdout",
          "text": [
            "ราคา, บรรยากาศ, ไข่ต้ม\n",
            "กาแฟ, บรรยากาศ, รสชาติ\n",
            "โดนัท, รสชาติ, ความหวาน\n",
            "วาซาบิ, ปลาซาบะ, ข้าวหน้าปลา\n",
            "โดนัท, Original Glazed, คิว\n",
            "วังพญาไท, นรสิงห์, คาเฟ่\n",
            "อาหารทะเล, ราคา, บรรยากาศ\n",
            "กาแฟ, เค้ก, พนักงาน\n",
            "ฮันนี่ โทสท์, ราคา, รสชาติ\n",
            "คาเฟ่, วานิลลา, คาโบนาร่า\n"
          ]
        }
      ],
      "source": [
        "for result in results_1000[0:10]:\n",
        "    print(result['text']['keywords'])"
      ]
    },
    {
      "cell_type": "code",
      "execution_count": 157,
      "metadata": {
        "colab": {
          "base_uri": "https://localhost:8080/"
        },
        "id": "0Lw6mc2y9sOH",
        "outputId": "edb0c6a5-ec33-4af3-8eef-2698009c9af4"
      },
      "outputs": [
        {
          "output_type": "execute_result",
          "data": {
            "text/plain": [
              "{'review': 'ร้านอาหารใหญ่มากกกกกกก \\nเลี้ยวเข้ามาเจอห้องน้ำก่อนเลย เออแปลกดี \\nห้องทานหลักๆอยู่ชั้น 2 มีกาแฟ น้ำผึ้ง ซึ่งก็แค่เอาน้ำผึ้งมาราด แพงเวอร์ อย่าสั่งเลย \\nลาบไข่ต้ม ไข่มันคาวอะ เลยไม่ประทับใจเท่าไหร่\\nทอดมันหัวปลีกรอบอร่อยต้องเบิ้ล \\nพะแนงห่อไข่อร่อยดี เห้ยแต่ราคา 150บาทมันเกินไปนะ รับไม่ไหวว\\nเลิกกินแล้วมีขนมหวานให้กินฟรีเล็กน้อย )ขนมไทย) \\n\\nคงไม่ไปซ้ำ แพงเกิน ',\n",
              " 'text': {'keywords': 'ราคา, บรรยากาศ, ไข่ต้ม'}}"
            ]
          },
          "metadata": {},
          "execution_count": 157
        }
      ],
      "source": [
        "  results_1000[0]"
      ]
    },
    {
      "cell_type": "code",
      "execution_count": 158,
      "metadata": {
        "id": "hJ6uRKar9_wp"
      },
      "outputs": [],
      "source": [
        "context_prompt = PromptTemplate(\n",
        "    template=\"\"\"จาก Review ต่อไปนี้\n",
        "    Extract context ใน Review ที่เป็นตัวแทนที่บรรยายคำว่า {keyword} ได้ดีที่สุด\n",
        "\n",
        "    Review: {review}\n",
        "\n",
        "    ตอบผลลัพธ์ในรูปแบบ JSON โดยมีคีย์เป็น 'context'\n",
        "    และค่าเป็นข้อความที่ดึงได้จาก Review\n",
        "\n",
        "    ตัวอย่าง\n",
        "    keyword คือ \"กาแฟ\"\n",
        "    context: \"กาแฟที่นี่อร่อยมาก หอมกลิ่นกาแฟคั่วสด\"\n",
        "\n",
        "    หากไม่พบข้อมูลให้ตอบ 'ไม่ระบุ'\n",
        "    \"\"\"\n",
        ")"
      ]
    },
    {
      "cell_type": "code",
      "execution_count": 159,
      "metadata": {
        "id": "cIhd2qrcBoxL"
      },
      "outputs": [],
      "source": [
        "sentiment_prompt = PromptTemplate(\n",
        "    template=\"\"\"จากข้อความต่อไปนี้ ให้วิเคราะห์ว่าเป็น sentiment แบบไหน\n",
        "    เลือกจากตัวเลือกเหล่านี้เท่านั้น: \"positive\", \"negative\", \"neutral\"\n",
        "\n",
        "    ข้อความ: {message}\n",
        "\n",
        "    ตอบในรูปแบบ JSON โดยมีคีย์เป็น 'sentiment'\n",
        "    และค่าเป็นหนึ่งใน list ต่อไปนี้ [positive, negative, neutral]\n",
        "\n",
        "    คำแนะนำ\n",
        "    - positive คือ ข้อความที่แสดงความพอใจ ชอบ ดี\n",
        "    - negative คือ ข้อความที่แสดงความไม่พอใจ ไม่ชอบ แย่\n",
        "    - neutral คือ ข้อความที่ไม่แสดงความรู้สึกชัดเจน เป็นกลาง\n",
        "\n",
        "    # ตัวอย่าง\n",
        "    # ข้อความ \"อร่อยมาก\" → {{\"sentiment\": \"positive\"}}\n",
        "    # ข้อความ \"แพงไป\" → {{\"sentiment\": \"negative\"}}\n",
        "    # ข้อความ \"ปกติ\" → {{\"sentiment\": \"neutral\"}}\n",
        "    \"\"\"\n",
        ")\n"
      ]
    },
    {
      "cell_type": "code",
      "execution_count": 160,
      "metadata": {
        "id": "sErp1rsJBq27"
      },
      "outputs": [],
      "source": [
        "class ContextKeyword(BaseModel):\n",
        "    context: str = Field(..., description=\"context that best represent this keyword\")\n",
        "\n",
        "class ContexExtraction(BaseModel):\n",
        "    extracted: ContextKeyword\n",
        "\n",
        "context_parser = JsonOutputParser(pydantic_object=ContexExtraction)"
      ]
    },
    {
      "cell_type": "code",
      "execution_count": 161,
      "metadata": {
        "id": "3KV7xoI7Bsca"
      },
      "outputs": [],
      "source": [
        "context_extract = context_prompt | llm3 | context_parser"
      ]
    },
    {
      "cell_type": "code",
      "execution_count": 162,
      "metadata": {
        "id": "1i1e8HeLBt3i"
      },
      "outputs": [],
      "source": [
        "class Sentiment(BaseModel):\n",
        "    sentiment: str = Field(..., description=\"sentiment of review\")\n",
        "\n",
        "class SentimentExtraction(BaseModel):\n",
        "    extracted: Sentiment\n",
        "\n",
        "\n",
        "sentiment_parser = JsonOutputParser(pydantic_object=SentimentExtraction)"
      ]
    },
    {
      "cell_type": "code",
      "execution_count": 163,
      "metadata": {
        "id": "BYPOiL-iCIm0"
      },
      "outputs": [],
      "source": [
        "sentiment_extract = sentiment_prompt | llm3 | sentiment_parser"
      ]
    },
    {
      "cell_type": "code",
      "execution_count": 164,
      "metadata": {
        "id": "9lYim3cSCJ1K"
      },
      "outputs": [],
      "source": [
        "keywords = results_1000[0]['text']['keywords']\n"
      ]
    },
    {
      "cell_type": "code",
      "execution_count": 165,
      "metadata": {
        "colab": {
          "base_uri": "https://localhost:8080/"
        },
        "id": "3E3QBoxGBz5z",
        "outputId": "218904c3-a41e-4e56-bca6-8ae6e45149ef"
      },
      "outputs": [
        {
          "output_type": "stream",
          "name": "stderr",
          "text": [
            "Preparing context inputs: 100%|██████████| 1000/1000 [00:00<00:00, 92661.08it/s]\n"
          ]
        }
      ],
      "source": [
        "context_inputs = []\n",
        "\n",
        "for review_data in tqdm(results_1000, desc=\"Preparing context inputs\"):\n",
        "    review = review_data['review']\n",
        "    keywords = review_data['text']['keywords']\n",
        "    for keyword in keywords:\n",
        "        context_inputs.append({\"review\": review, \"keyword\": keyword.strip()})"
      ]
    },
    {
      "cell_type": "code",
      "execution_count": 166,
      "metadata": {
        "colab": {
          "base_uri": "https://localhost:8080/"
        },
        "id": "L8qQfsBxDxIM",
        "outputId": "129bea2a-98c7-4710-e0c1-22ae8adbe8b3"
      },
      "outputs": [
        {
          "output_type": "execute_result",
          "data": {
            "text/plain": [
              "24798"
            ]
          },
          "metadata": {},
          "execution_count": 166
        }
      ],
      "source": [
        "len(context_inputs)"
      ]
    },
    {
      "cell_type": "code",
      "execution_count": 167,
      "metadata": {
        "colab": {
          "base_uri": "https://localhost:8080/"
        },
        "id": "VL8OllJODyvT",
        "outputId": "1adabd4b-e9b5-411c-89b9-31f21edef808"
      },
      "outputs": [
        {
          "output_type": "stream",
          "name": "stderr",
          "text": [
            "Extracting contexts: 100%|██████████| 1000/1000 [1:30:22<00:00,  5.42s/it]\n"
          ]
        }
      ],
      "source": [
        "context_results = []\n",
        "for i in tqdm(range(len(results_1000)), desc=\"Extracting contexts\"):\n",
        "   result = context_extract.batch(context_inputs[i*3:(i*3)+3])\n",
        "   contexts_list = [d['context'] for d in result]\n",
        "   results_1000[i]['contexts'] = contexts_list"
      ]
    },
    {
      "cell_type": "code",
      "execution_count": 168,
      "metadata": {
        "colab": {
          "base_uri": "https://localhost:8080/"
        },
        "id": "6XniQxLCDUdr",
        "outputId": "f0ccf0cc-1c4d-4567-af21-1a35f7ece30b"
      },
      "outputs": [
        {
          "output_type": "execute_result",
          "data": {
            "text/plain": [
              "[{'review': 'ร้านอาหารใหญ่มากกกกกกก \\nเลี้ยวเข้ามาเจอห้องน้ำก่อนเลย เออแปลกดี \\nห้องทานหลักๆอยู่ชั้น 2 มีกาแฟ น้ำผึ้ง ซึ่งก็แค่เอาน้ำผึ้งมาราด แพงเวอร์ อย่าสั่งเลย \\nลาบไข่ต้ม ไข่มันคาวอะ เลยไม่ประทับใจเท่าไหร่\\nทอดมันหัวปลีกรอบอร่อยต้องเบิ้ล \\nพะแนงห่อไข่อร่อยดี เห้ยแต่ราคา 150บาทมันเกินไปนะ รับไม่ไหวว\\nเลิกกินแล้วมีขนมหวานให้กินฟรีเล็กน้อย )ขนมไทย) \\n\\nคงไม่ไปซ้ำ แพงเกิน ',\n",
              "  'text': {'keywords': 'ราคา, บรรยากาศ, ไข่ต้ม'},\n",
              "  'contexts': ['ร้านอาหารใหญ่มากกกกกกก',\n",
              "   'ร้านอาหารใหญ่มากกกกกกก เลี้ยวเข้ามาเจอห้องน้ำก่อนเลย เออแปลกดี',\n",
              "   'ห้องทานอาหารอยู่ชั้น 2 มีกาแฟ น้ำผึ้ง ซึ่งก็แค่เอาน้ำผึ้งมาราด แพงเวอร์ อย่าสั่งเลย']},\n",
              " {'review': 'วันนี้ได้มีโอกาสไปนั่งซดกาแฟที่ร้านวาวี แถวๆอารีย์\\n\\nก็ได้ยินมาบ่อยๆละ จากหลายที่ แต่ที่บ่อยสุดก็จาก Twitter ว่ากาแฟที่นี่อร่อยมากกกกกกก\\nเรียกว่าระดับแฟนๆ Starbuck ยังต้องเหลียวมามอง ก็ดองมานานจนถึงวันนี้โอกาสเหมาะ ไป\\npresent งานที่ตึก Software Park เสร็จก็เลยมาหาไรกินแถวนี้พอดี\\nจัดไป.....\\n\\n\\nบรรยากาศรอบๆร้านก็แต่งได้น่านั่ง อารมณ์ประมาณว่าอยู่ในสวนบ้านเราเอง ต้นไม้เยอะดี\\nอย่างน้อยก็เป็นสีเขียวเล็กๆ ในใจกลางเมืองได้ละ\\nเขียวชอุ่ม\\n\\nว่าแล้วไม่รอช้าขอ Test ไม่สิ Taste เลยดีกว่าเดินเข้าร้านทันใด ป้าบบ...\\n\\n\"พี่คับ เอา...ลาเต้ ร้อนแก้วนึงคับ\"\\nว่างๆ มานั่งจิบกาแฟ ฟังเพลง พักผ่อนได้ดีทีเดียว\\n\\nจ่ายตังเสร็จ ก็ถูกพนักงานอัญเชิญไปรอที่โต๊ะ 55+ เพราะที่นี่เขาเสริฟให้ถึงที่ หุๆ\\nก็เลือกที่นั่งริมกระจก จะได้เห็นสาวๆ เอ้ย วิวถนัดๆหน่อย\\nนั่งชมวิวรอกาแฟมา\\n\\nไม่นานเกินอึดใจ ไวไวยังไม่ทันสุก ลาเต้ร้อนๆก็มาวางอยู่ข้างหน้า\\nซู้ดดดดดดด อ่าห์\\n\\nชำเลืองตามองลงไป....โอ้วว ที่นี่มีเล่นลายฟองนมด้วยเว้ยยย\\nแต่พอดีด้วยความตะกละไปนิดดันฉีกน้ำตาลเทใส่แล้วเผลอคน ก็เลยไม่ได้\\nถ่ายรูปมาให้ดู 55+ เหลือแต่ซากอารยธรรมลาเต้เมพๆ\\n\\n\\nหน้าตาผ่าน ที่นี่ก็รสชาติ 1...2.....ชู้ดดดดดดด\\nเฮ้ยยย นี่มัน....เมพพพพ ถึงเราจะไม่ค่อยรู้เรื่องกาแฟมากนัก แต่เท่าที่เคยลองชิมๆ\\nมา รสชาติและกลิ่นมันไม่ธรรมดาเลย หอมๆ ถือว่าเป็นมวยรุ่นเดียวกะ Starbuck ได้\\n\\n\\nเมนูอื่นๆ ลองชิม Coco ปั่น ของเพื่อนก็แหล่มไม่แพ้กัน วิปครีมหวานมัน โกโก้ก็หอม\\nส่วนเพื่อนอีกคนสั่งน้ำส้มกะเค้กช็อกโกแลตมันก็บอกว่าแจ่ม ......\\n\\n\\nสรุปก็คือ บรรยากาศก็ดี บริการก็ดี กาแฟอร่อย ราคาไม่แพง(แต่กินบ่อยก็จุกได้)\\nถ้าครายผ่านแถวอารีย์มากินเหอะ ซอยไรจำไม่ได้รู้แต่อยู่ตรงข้าม Villa ตรง BS อารีย์เลยอะ 55+\\n\\nถ่ายโดย : Tan\\nกล้อง : ซัมซวย Omnia i900 (สีภาพถึงได้ไม่ค่อยสวยเท่าไหร) ',\n",
              "  'text': {'keywords': 'กาแฟ, บรรยากาศ, รสชาติ'},\n",
              "  'contexts': ['ร้านอาหารใหญ่มากกกกกกก เลี้ยวเข้ามาเจอห้องน้ำก่อนเลย เออแปลกดี',\n",
              "   'ราคา 150 บาทมันเกินไปนะ รับไม่ไหวว',\n",
              "   'ทอดมันหัวปลีกรอบอร่อยต้องเบิ้ล']}]"
            ]
          },
          "metadata": {},
          "execution_count": 168
        }
      ],
      "source": [
        "results_1000[:2]"
      ]
    },
    {
      "cell_type": "code",
      "execution_count": 169,
      "metadata": {
        "colab": {
          "base_uri": "https://localhost:8080/"
        },
        "id": "-nw7ExqHDW6J",
        "outputId": "cc313b98-2fa0-436c-c32c-18757f011501"
      },
      "outputs": [
        {
          "output_type": "stream",
          "name": "stderr",
          "text": [
            "Preparing sentiment inputs: 100%|██████████| 1000/1000 [00:00<00:00, 331749.11it/s]\n"
          ]
        }
      ],
      "source": [
        "sentiment_inputs = []\n",
        "\n",
        "for review_data in tqdm(results_1000, desc=\"Preparing sentiment inputs\"):\n",
        "    contexts = review_data['contexts']\n",
        "    for context in contexts:\n",
        "        sentiment_inputs.append({\"message\": context})"
      ]
    },
    {
      "cell_type": "code",
      "execution_count": 170,
      "metadata": {
        "colab": {
          "base_uri": "https://localhost:8080/"
        },
        "id": "aIqYZODGFMHN",
        "outputId": "f2c6a814-c76b-4ee1-a358-c5a98c682072"
      },
      "outputs": [
        {
          "output_type": "execute_result",
          "data": {
            "text/plain": [
              "3000"
            ]
          },
          "metadata": {},
          "execution_count": 170
        }
      ],
      "source": [
        "len(sentiment_inputs)"
      ]
    },
    {
      "cell_type": "code",
      "execution_count": 171,
      "metadata": {
        "colab": {
          "base_uri": "https://localhost:8080/"
        },
        "id": "ujkqjZNFFNGT",
        "outputId": "10c4302c-bc85-493d-dee9-ef7f887cfada"
      },
      "outputs": [
        {
          "output_type": "execute_result",
          "data": {
            "text/plain": [
              "[{'message': 'ร้านอาหารใหญ่มากกกกกกก'},\n",
              " {'message': 'ร้านอาหารใหญ่มากกกกกกก เลี้ยวเข้ามาเจอห้องน้ำก่อนเลย เออแปลกดี'},\n",
              " {'message': 'ห้องทานอาหารอยู่ชั้น 2 มีกาแฟ น้ำผึ้ง ซึ่งก็แค่เอาน้ำผึ้งมาราด แพงเวอร์ อย่าสั่งเลย'},\n",
              " {'message': 'ร้านอาหารใหญ่มากกกกกกก เลี้ยวเข้ามาเจอห้องน้ำก่อนเลย เออแปลกดี'},\n",
              " {'message': 'ราคา 150 บาทมันเกินไปนะ รับไม่ไหวว'},\n",
              " {'message': 'ทอดมันหัวปลีกรอบอร่อยต้องเบิ้ล'}]"
            ]
          },
          "metadata": {},
          "execution_count": 171
        }
      ],
      "source": [
        "sentiment_inputs[:6]"
      ]
    },
    {
      "cell_type": "code",
      "execution_count": 174,
      "metadata": {
        "colab": {
          "base_uri": "https://localhost:8080/"
        },
        "id": "Y-StjcMtFOM5",
        "outputId": "b0a1575a-ace8-4ca9-a9f3-13fe09afe4e1"
      },
      "outputs": [
        {
          "output_type": "stream",
          "name": "stderr",
          "text": [
            "Extracting sentiment: 100%|██████████| 1000/1000 [43:42<00:00,  2.62s/it]\n"
          ]
        }
      ],
      "source": [
        "for i in tqdm(range(len(results_1000)), desc=\"Extracting sentiment\"):\n",
        "   result = sentiment_extract.batch(sentiment_inputs[i*3:(i*3)+3])\n",
        "   sentiment_list = [d['sentiment'] for d in result]\n",
        "   results_1000[i]['sentiment'] = sentiment_list"
      ]
    },
    {
      "cell_type": "code",
      "execution_count": 175,
      "metadata": {
        "colab": {
          "base_uri": "https://localhost:8080/"
        },
        "id": "ZJurZtEUFQPN",
        "outputId": "0df545c4-e904-4d22-841d-82e16a2e5b92"
      },
      "outputs": [
        {
          "output_type": "execute_result",
          "data": {
            "text/plain": [
              "[{'review': 'ร้านอาหารใหญ่มากกกกกกก \\nเลี้ยวเข้ามาเจอห้องน้ำก่อนเลย เออแปลกดี \\nห้องทานหลักๆอยู่ชั้น 2 มีกาแฟ น้ำผึ้ง ซึ่งก็แค่เอาน้ำผึ้งมาราด แพงเวอร์ อย่าสั่งเลย \\nลาบไข่ต้ม ไข่มันคาวอะ เลยไม่ประทับใจเท่าไหร่\\nทอดมันหัวปลีกรอบอร่อยต้องเบิ้ล \\nพะแนงห่อไข่อร่อยดี เห้ยแต่ราคา 150บาทมันเกินไปนะ รับไม่ไหวว\\nเลิกกินแล้วมีขนมหวานให้กินฟรีเล็กน้อย )ขนมไทย) \\n\\nคงไม่ไปซ้ำ แพงเกิน ',\n",
              "  'text': {'keywords': 'ราคา, บรรยากาศ, ไข่ต้ม'},\n",
              "  'contexts': ['ร้านอาหารใหญ่มากกกกกกก',\n",
              "   'ร้านอาหารใหญ่มากกกกกกก เลี้ยวเข้ามาเจอห้องน้ำก่อนเลย เออแปลกดี',\n",
              "   'ห้องทานอาหารอยู่ชั้น 2 มีกาแฟ น้ำผึ้ง ซึ่งก็แค่เอาน้ำผึ้งมาราด แพงเวอร์ อย่าสั่งเลย'],\n",
              "  'sentiment': ['neutral', 'neutral', 'negative']},\n",
              " {'review': 'วันนี้ได้มีโอกาสไปนั่งซดกาแฟที่ร้านวาวี แถวๆอารีย์\\n\\nก็ได้ยินมาบ่อยๆละ จากหลายที่ แต่ที่บ่อยสุดก็จาก Twitter ว่ากาแฟที่นี่อร่อยมากกกกกกก\\nเรียกว่าระดับแฟนๆ Starbuck ยังต้องเหลียวมามอง ก็ดองมานานจนถึงวันนี้โอกาสเหมาะ ไป\\npresent งานที่ตึก Software Park เสร็จก็เลยมาหาไรกินแถวนี้พอดี\\nจัดไป.....\\n\\n\\nบรรยากาศรอบๆร้านก็แต่งได้น่านั่ง อารมณ์ประมาณว่าอยู่ในสวนบ้านเราเอง ต้นไม้เยอะดี\\nอย่างน้อยก็เป็นสีเขียวเล็กๆ ในใจกลางเมืองได้ละ\\nเขียวชอุ่ม\\n\\nว่าแล้วไม่รอช้าขอ Test ไม่สิ Taste เลยดีกว่าเดินเข้าร้านทันใด ป้าบบ...\\n\\n\"พี่คับ เอา...ลาเต้ ร้อนแก้วนึงคับ\"\\nว่างๆ มานั่งจิบกาแฟ ฟังเพลง พักผ่อนได้ดีทีเดียว\\n\\nจ่ายตังเสร็จ ก็ถูกพนักงานอัญเชิญไปรอที่โต๊ะ 55+ เพราะที่นี่เขาเสริฟให้ถึงที่ หุๆ\\nก็เลือกที่นั่งริมกระจก จะได้เห็นสาวๆ เอ้ย วิวถนัดๆหน่อย\\nนั่งชมวิวรอกาแฟมา\\n\\nไม่นานเกินอึดใจ ไวไวยังไม่ทันสุก ลาเต้ร้อนๆก็มาวางอยู่ข้างหน้า\\nซู้ดดดดดดด อ่าห์\\n\\nชำเลืองตามองลงไป....โอ้วว ที่นี่มีเล่นลายฟองนมด้วยเว้ยยย\\nแต่พอดีด้วยความตะกละไปนิดดันฉีกน้ำตาลเทใส่แล้วเผลอคน ก็เลยไม่ได้\\nถ่ายรูปมาให้ดู 55+ เหลือแต่ซากอารยธรรมลาเต้เมพๆ\\n\\n\\nหน้าตาผ่าน ที่นี่ก็รสชาติ 1...2.....ชู้ดดดดดดด\\nเฮ้ยยย นี่มัน....เมพพพพ ถึงเราจะไม่ค่อยรู้เรื่องกาแฟมากนัก แต่เท่าที่เคยลองชิมๆ\\nมา รสชาติและกลิ่นมันไม่ธรรมดาเลย หอมๆ ถือว่าเป็นมวยรุ่นเดียวกะ Starbuck ได้\\n\\n\\nเมนูอื่นๆ ลองชิม Coco ปั่น ของเพื่อนก็แหล่มไม่แพ้กัน วิปครีมหวานมัน โกโก้ก็หอม\\nส่วนเพื่อนอีกคนสั่งน้ำส้มกะเค้กช็อกโกแลตมันก็บอกว่าแจ่ม ......\\n\\n\\nสรุปก็คือ บรรยากาศก็ดี บริการก็ดี กาแฟอร่อย ราคาไม่แพง(แต่กินบ่อยก็จุกได้)\\nถ้าครายผ่านแถวอารีย์มากินเหอะ ซอยไรจำไม่ได้รู้แต่อยู่ตรงข้าม Villa ตรง BS อารีย์เลยอะ 55+\\n\\nถ่ายโดย : Tan\\nกล้อง : ซัมซวย Omnia i900 (สีภาพถึงได้ไม่ค่อยสวยเท่าไหร) ',\n",
              "  'text': {'keywords': 'กาแฟ, บรรยากาศ, รสชาติ'},\n",
              "  'contexts': ['ร้านอาหารใหญ่มากกกกกกก เลี้ยวเข้ามาเจอห้องน้ำก่อนเลย เออแปลกดี',\n",
              "   'ราคา 150 บาทมันเกินไปนะ รับไม่ไหวว',\n",
              "   'ทอดมันหัวปลีกรอบอร่อยต้องเบิ้ล'],\n",
              "  'sentiment': ['neutral', 'negative', 'positive']}]"
            ]
          },
          "metadata": {},
          "execution_count": 175
        }
      ],
      "source": [
        "results_1000[0:2]"
      ]
    },
    {
      "cell_type": "code",
      "execution_count": 176,
      "metadata": {
        "id": "eGXByCrFFStq"
      },
      "outputs": [],
      "source": [
        "import pandas as pd\n",
        "\n",
        "df = pd.DataFrame([\n",
        "    {\n",
        "        'review': r['review'],\n",
        "        **{f'keyword{i+1}': k.strip() for i, k in enumerate(r['text']['keywords'])},\n",
        "        **{f'context{i+1}_keyword': c for i, c in enumerate(r['contexts'])},\n",
        "        **{f'sentiment{i+1}': s for i, s in enumerate(r['sentiment'])}\n",
        "    }\n",
        "    for r in results_1000\n",
        "])"
      ]
    },
    {
      "cell_type": "code",
      "execution_count": 177,
      "metadata": {
        "id": "8iEHLp_8FoAD"
      },
      "outputs": [],
      "source": [
        "df.to_csv('results.csv', index=False, encoding='utf-8-sig')"
      ]
    }
  ],
  "metadata": {
    "accelerator": "GPU",
    "colab": {
      "gpuType": "T4",
      "provenance": []
    },
    "kernelspec": {
      "display_name": "Python 3",
      "name": "python3"
    },
    "language_info": {
      "name": "python"
    },
    "widgets": {
      "application/vnd.jupyter.widget-state+json": {
        "1e1b2e76a32542c1a3b8f76dd28d8663": {
          "model_module": "@jupyter-widgets/controls",
          "model_name": "FloatProgressModel",
          "model_module_version": "1.5.0",
          "state": {
            "_dom_classes": [],
            "_model_module": "@jupyter-widgets/controls",
            "_model_module_version": "1.5.0",
            "_model_name": "FloatProgressModel",
            "_view_count": null,
            "_view_module": "@jupyter-widgets/controls",
            "_view_module_version": "1.5.0",
            "_view_name": "ProgressView",
            "bar_style": "",
            "description": "",
            "description_tooltip": null,
            "layout": "IPY_MODEL_29669e34ea374b4786eeaf02b60cbf4d",
            "max": 100,
            "min": 0,
            "orientation": "horizontal",
            "style": "IPY_MODEL_6a3c04cfd4314ec4abf9e820cfb69f2d",
            "value": 100
          }
        },
        "29669e34ea374b4786eeaf02b60cbf4d": {
          "model_module": "@jupyter-widgets/base",
          "model_name": "LayoutModel",
          "model_module_version": "1.2.0",
          "state": {
            "_model_module": "@jupyter-widgets/base",
            "_model_module_version": "1.2.0",
            "_model_name": "LayoutModel",
            "_view_count": null,
            "_view_module": "@jupyter-widgets/base",
            "_view_module_version": "1.2.0",
            "_view_name": "LayoutView",
            "align_content": null,
            "align_items": null,
            "align_self": null,
            "border": null,
            "bottom": null,
            "display": null,
            "flex": null,
            "flex_flow": null,
            "grid_area": null,
            "grid_auto_columns": null,
            "grid_auto_flow": null,
            "grid_auto_rows": null,
            "grid_column": null,
            "grid_gap": null,
            "grid_row": null,
            "grid_template_areas": null,
            "grid_template_columns": null,
            "grid_template_rows": null,
            "height": null,
            "justify_content": null,
            "justify_items": null,
            "left": null,
            "margin": null,
            "max_height": null,
            "max_width": null,
            "min_height": null,
            "min_width": null,
            "object_fit": null,
            "object_position": null,
            "order": null,
            "overflow": null,
            "overflow_x": null,
            "overflow_y": null,
            "padding": null,
            "right": null,
            "top": null,
            "visibility": null,
            "width": "auto"
          }
        },
        "6a3c04cfd4314ec4abf9e820cfb69f2d": {
          "model_module": "@jupyter-widgets/controls",
          "model_name": "ProgressStyleModel",
          "model_module_version": "1.5.0",
          "state": {
            "_model_module": "@jupyter-widgets/controls",
            "_model_module_version": "1.5.0",
            "_model_name": "ProgressStyleModel",
            "_view_count": null,
            "_view_module": "@jupyter-widgets/base",
            "_view_module_version": "1.2.0",
            "_view_name": "StyleView",
            "bar_color": "black",
            "description_width": ""
          }
        },
        "ee79ba7f9978424eb039ff9e1d0686de": {
          "model_module": "@jupyter-widgets/controls",
          "model_name": "FloatProgressModel",
          "model_module_version": "1.5.0",
          "state": {
            "_dom_classes": [],
            "_model_module": "@jupyter-widgets/controls",
            "_model_module_version": "1.5.0",
            "_model_name": "FloatProgressModel",
            "_view_count": null,
            "_view_module": "@jupyter-widgets/controls",
            "_view_module_version": "1.5.0",
            "_view_name": "ProgressView",
            "bar_style": "",
            "description": "",
            "description_tooltip": null,
            "layout": "IPY_MODEL_67dce6247f0f4211b4b32a2644355065",
            "max": 100,
            "min": 0,
            "orientation": "horizontal",
            "style": "IPY_MODEL_e589e5638687468c8487ce9b7a907657",
            "value": 100
          }
        },
        "67dce6247f0f4211b4b32a2644355065": {
          "model_module": "@jupyter-widgets/base",
          "model_name": "LayoutModel",
          "model_module_version": "1.2.0",
          "state": {
            "_model_module": "@jupyter-widgets/base",
            "_model_module_version": "1.2.0",
            "_model_name": "LayoutModel",
            "_view_count": null,
            "_view_module": "@jupyter-widgets/base",
            "_view_module_version": "1.2.0",
            "_view_name": "LayoutView",
            "align_content": null,
            "align_items": null,
            "align_self": null,
            "border": null,
            "bottom": null,
            "display": null,
            "flex": null,
            "flex_flow": null,
            "grid_area": null,
            "grid_auto_columns": null,
            "grid_auto_flow": null,
            "grid_auto_rows": null,
            "grid_column": null,
            "grid_gap": null,
            "grid_row": null,
            "grid_template_areas": null,
            "grid_template_columns": null,
            "grid_template_rows": null,
            "height": null,
            "justify_content": null,
            "justify_items": null,
            "left": null,
            "margin": null,
            "max_height": null,
            "max_width": null,
            "min_height": null,
            "min_width": null,
            "object_fit": null,
            "object_position": null,
            "order": null,
            "overflow": null,
            "overflow_x": null,
            "overflow_y": null,
            "padding": null,
            "right": null,
            "top": null,
            "visibility": null,
            "width": "auto"
          }
        },
        "e589e5638687468c8487ce9b7a907657": {
          "model_module": "@jupyter-widgets/controls",
          "model_name": "ProgressStyleModel",
          "model_module_version": "1.5.0",
          "state": {
            "_model_module": "@jupyter-widgets/controls",
            "_model_module_version": "1.5.0",
            "_model_name": "ProgressStyleModel",
            "_view_count": null,
            "_view_module": "@jupyter-widgets/base",
            "_view_module_version": "1.2.0",
            "_view_name": "StyleView",
            "bar_color": "black",
            "description_width": ""
          }
        }
      }
    }
  },
  "nbformat": 4,
  "nbformat_minor": 0
}